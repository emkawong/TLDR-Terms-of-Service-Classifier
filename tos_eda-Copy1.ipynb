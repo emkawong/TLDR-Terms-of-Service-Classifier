{
 "cells": [
  {
   "cell_type": "code",
   "execution_count": 9,
   "metadata": {},
   "outputs": [],
   "source": [
    "%load_ext autoreload\n",
    "%autoreload 2"
   ]
  },
  {
   "cell_type": "markdown",
   "metadata": {},
   "source": [
    "# Imports"
   ]
  },
  {
   "cell_type": "code",
   "execution_count": 10,
   "metadata": {},
   "outputs": [],
   "source": [
    "# the usual imports\n",
    "import numpy as np\n",
    "import pandas as pd\n",
    "import seaborn as sns\n",
    "from collections import Counter\n",
    "# get JSON files from TOS API\n",
    "import urllib, json\n",
    "from pandas.io.json import json_normalize\n",
    "# create a list of file names to pull each json file\n",
    "from os import listdir\n",
    "from os.path import isfile, join\n",
    "# nlp imports\n",
    "from nltk.corpus import stopwords\n",
    "from sklearn.feature_extraction.text import CountVectorizer,TfidfVectorizer\n",
    "# model imports\n",
    "from sklearn.model_selection import train_test_split\n",
    "from sklearn.naive_bayes import GaussianNB,MultinomialNB,ComplementNB\n",
    "from sklearn.linear_model import LogisticRegression\n",
    "from sklearn.ensemble import RandomForestClassifier, GradientBoostingClassifier"
   ]
  },
  {
   "cell_type": "markdown",
   "metadata": {},
   "source": [
    "# Create Master DF\n",
    "\n",
    "## Data Cleaning\n",
    "\n",
    "All of the data for ToS;DR is stored in a directory of different json files, each labeled with a different company name. "
   ]
  },
  {
   "cell_type": "code",
   "execution_count": 15,
   "metadata": {},
   "outputs": [],
   "source": [
    "#Pull out the data \n",
    "companies = [f for f in listdir('tosdr.org/api/1/service') if isfile(join('tosdr.org/api/1/service', f))]\n",
    "\n",
    "#try and find non-english companies to remove, looking at every letter \n",
    "#(not just first index in case non-english word appears later)\n",
    "\n",
    "import string\n",
    "ascii_chars = set(string.printable)\n",
    "nonenglish = {word for word in companies for letter in word if letter not in ascii_chars}\n",
    "nonenglish.remove( 'coinbase–.json')\n",
    "companies = [company for company in companies if company not in nonenglish]"
   ]
  },
  {
   "cell_type": "code",
   "execution_count": 17,
   "metadata": {},
   "outputs": [],
   "source": [
    "data_list = []\n",
    "for company in companies:\n",
    "    with open(f'tosdr.org/api/1/service/{company}') as json_data:\n",
    "        data_list.append(json.load(json_data))"
   ]
  },
  {
   "cell_type": "code",
   "execution_count": 169,
   "metadata": {},
   "outputs": [],
   "source": [
    "#Create main dataframe, drop unnecessary columns, expand list of lists\n",
    "\n",
    "pd_list = []\n",
    "for data in data_list:\n",
    "    pd_list.append(pd.DataFrame.from_dict(data['pointsData']).T.loc[:,['id','quoteText','services','title','tosdr']])\n",
    "\n",
    "alldata_df = pd.concat(pd_list,axis=0).reset_index()\n",
    "todsr_df = json_normalize(alldata_df['tosdr'])\n",
    "df = pd.concat((alldata_df,todsr_df),axis=1)\n",
    "df = df.drop('tosdr',axis=1).explode('services')"
   ]
  },
  {
   "cell_type": "code",
   "execution_count": 170,
   "metadata": {},
   "outputs": [],
   "source": [
    "#create master document column with tldr as base and quote text as secondary column\n",
    "\n",
    "df['document'] = df['quoteText']\n",
    "#df['document'] = np.where(df['document'] == '',df['quoteText'],df['document'])\n",
    "df['document'] = np.where(df['tldr'] != 'Generated through the annotate view',(df['quoteText']+df['tldr']),df['document'])\n",
    "#df['document'].fillna(df['quoteText']+df['tldr'])\n",
    "\n",
    "#df['document'] = df['tldr'] + df['quoteText']\n",
    "\n",
    "#if there is no text in the tldr or quoteText column, drop and reset index\n",
    "df.dropna(axis=0,subset=['document'],inplace=True)\n",
    "df = df.reset_index(drop=True)"
   ]
  },
  {
   "cell_type": "code",
   "execution_count": 176,
   "metadata": {},
   "outputs": [],
   "source": [
    "#create labels, combine blocker and bad to bad to summarize into good, bad, neutral\n",
    "\n",
    "df['label'] = df['point']\n",
    "df.label = df.label.replace(['blocker','bad','neutral','good'],['bad','bad','neutral','good'])"
   ]
  },
  {
   "cell_type": "code",
   "execution_count": 15,
   "metadata": {},
   "outputs": [
    {
     "data": {
      "text/plain": [
       "('The terms of service state that \"Signal does not sell, rent or monetize your personal data or content in any way – ever.\"',\n",
       " 'Last updated: June 07, 2019')"
      ]
     },
     "execution_count": 15,
     "metadata": {},
     "output_type": "execute_result"
    }
   ],
   "source": [
    "#the land of sad documents\n",
    "df.document[0],df.document[722]"
   ]
  },
  {
   "cell_type": "markdown",
   "metadata": {},
   "source": [
    "# Feature Engineering"
   ]
  },
  {
   "cell_type": "code",
   "execution_count": 219,
   "metadata": {
    "scrolled": false
   },
   "outputs": [
    {
     "name": "stdout",
     "output_type": "stream",
     "text": [
      "Before clean up: \n",
      " You must be at least 13 years old to use our Services.\n",
      "The minimum age to use our Services without parental approval may be higher in your home country.</p>The terms of service state: \"You must be at least 13 years old to use our Services. The minimum age to use our Services without parental approval may be higher in your home country.\"\n",
      "\n",
      "After clean up: \n",
      " ['you', 'must', 'be', 'at', 'least', '13', 'years', 'old', 'to', 'use', 'our', 'services', 'the', 'minimum', 'age', 'to', 'use', 'our', 'services', 'without', 'parental', 'approval', 'may', 'be', 'higher', 'in', 'your', 'home', 'country', 'the', 'terms', 'of', 'service', 'state', 'you', 'must', 'be', 'at', 'least', '13', 'years', 'old', 'to', 'use', 'our', 'services', 'the', 'minimum', 'age', 'to', 'use', 'our', 'services', 'without', 'parental', 'approval', 'may', 'be', 'higher', 'in', 'your', 'home', 'country']\n",
      "\n"
     ]
    }
   ],
   "source": [
    "'''uses a method in tfidf to explore the initial clean up step - lowering \n",
    "case, removing punctuation, and splitting words'''\n",
    "\n",
    "tfiddy = TfidfVectorizer()\n",
    "tfiddy.fit(df['document'])\n",
    "springcleaning = tfiddy.build_analyzer()\n",
    "before = df['document'][1]\n",
    "after = springcleaning(df['document'][1])\n",
    "print(f'Before clean up: \\n {before}\\n')\n",
    "print(f'After clean up: \\n {after}\\n')"
   ]
  },
  {
   "cell_type": "code",
   "execution_count": 173,
   "metadata": {},
   "outputs": [],
   "source": [
    "'''create a list of clean companies that can be used as stop words - use \n",
    "springcleaning function to format them in a similar way to the rest of \n",
    "tfiddy\n",
    "'''\n",
    "dirty_companies = [company.split('.') for company in companies]\n",
    "clean_companies = [springcleaning(company[0]) for company in dirty_companies]\n",
    "cleanest_companies = [company for sublist in clean_companies for company in sublist]"
   ]
  },
  {
   "cell_type": "code",
   "execution_count": 177,
   "metadata": {},
   "outputs": [],
   "source": [
    "X = df['document']\n",
    "y = df['label']"
   ]
  },
  {
   "cell_type": "code",
   "execution_count": 89,
   "metadata": {},
   "outputs": [],
   "source": [
    "X_good = df[df['point'] == 'good']['document']\n",
    "X_neutral = df[df['point'] == 'neutral']['document']\n",
    "X_bad = df[df['point'] == 'bad']['document']"
   ]
  },
  {
   "cell_type": "code",
   "execution_count": 220,
   "metadata": {},
   "outputs": [],
   "source": [
    "X_train, X_test, y_train, y_test = train_test_split(X,y,test_size=0.25)"
   ]
  },
  {
   "cell_type": "code",
   "execution_count": 137,
   "metadata": {},
   "outputs": [
    {
     "data": {
      "text/plain": [
       "array([[0, 1, 0],\n",
       "       [1, 0, 0],\n",
       "       [1, 0, 0],\n",
       "       ...,\n",
       "       [0, 1, 0],\n",
       "       [0, 0, 1],\n",
       "       [0, 0, 1]])"
      ]
     },
     "execution_count": 137,
     "metadata": {},
     "output_type": "execute_result"
    }
   ],
   "source": [
    "ytrain_bin = label_binarize(y_train,classes=['bad','good','neutral'])\n",
    "ytest_bin = label_binarize(y_test,classes=['bad','good','neutral'])"
   ]
  },
  {
   "cell_type": "code",
   "execution_count": 167,
   "metadata": {},
   "outputs": [],
   "source": [
    "#countvoncount the countvectorizer\n",
    "voncount = CountVectorizer(stop_words=cleanest_companies,ngram_range=(1,2))\n",
    "voncount.fit(X_train)\n",
    "X_train_voncount = voncount.transform(X_train).toarray()\n",
    "X_test_voncount = voncount.transform(X_test).toarray()"
   ]
  },
  {
   "cell_type": "code",
   "execution_count": 181,
   "metadata": {},
   "outputs": [
    {
     "data": {
      "text/plain": [
       "(2440, 5612)"
      ]
     },
     "execution_count": 181,
     "metadata": {},
     "output_type": "execute_result"
    }
   ],
   "source": [
    "voncount = CountVectorizer(stop_words=cleanest_companies)\n",
    "voncount_all = voncount.fit_transform(df['document']).toarray()\n",
    "voncount_all.shape"
   ]
  },
  {
   "cell_type": "code",
   "execution_count": 182,
   "metadata": {},
   "outputs": [],
   "source": [
    "toswords = voncount.get_feature_names()"
   ]
  },
  {
   "cell_type": "code",
   "execution_count": 183,
   "metadata": {},
   "outputs": [
    {
     "name": "stdout",
     "output_type": "stream",
     "text": [
      "Count of all words: 131659 \n",
      "Count of words in good documents: 32469\n",
      "Count of words in netural documents: 32576 \n",
      "Count of words in bad documents: 64726\n"
     ]
    }
   ],
   "source": [
    "all_sum = voncount_all.sum()\n",
    "good_sum = voncount_all[df['point'] == 'good'].sum()\n",
    "neutral_sum = voncount_all[df['point'] == 'neutral'].sum()\n",
    "bad_sum = voncount_all[df['point'] == 'bad'].sum()\n",
    "print(f'Count of all words: {all_sum} \\nCount of words in good documents: {good_sum}\\\n",
    "\\nCount of words in netural documents: {neutral_sum} \\nCount of words in bad documents: {bad_sum}')"
   ]
  },
  {
   "cell_type": "code",
   "execution_count": 184,
   "metadata": {},
   "outputs": [],
   "source": [
    "all_count = np.sum(voncount_all,axis=0)\n",
    "good_count = np.sum(voncount_all[df['point'] =='good'],axis = 0)\n",
    "neutral_count = np.sum(voncount_all[df['point'] =='neutral'],axis = 0)\n",
    "bad_count = np.sum(voncount_all[df['point'] =='bad'],axis = 0)"
   ]
  },
  {
   "cell_type": "code",
   "execution_count": 185,
   "metadata": {},
   "outputs": [],
   "source": [
    "#atruehonor to meet such a distinguished word\n",
    "\n",
    "atruehonor = {}\n",
    "ahonor = {}\n",
    "afalsehonor = {}\n",
    "alph = 1.2\n",
    "\n",
    "for class_word_count,total_word_count,word in zip(good_count,all_count,toswords):\n",
    "    atruehonor[word] = ((class_word_count**alph)/total_word_count)\n",
    "for class_word_count,total_word_count,word in zip(neutral_count,all_count,toswords):\n",
    "    ahonor[word] = ((class_word_count**alph)/total_word_count)\n",
    "for class_word_count,total_word_count,word in zip(bad_count,all_count,toswords):\n",
    "    afalsehonor[word] = ((class_word_count**alph)/total_word_count)"
   ]
  },
  {
   "cell_type": "code",
   "execution_count": 186,
   "metadata": {},
   "outputs": [
    {
     "data": {
      "text/plain": [
       "[('unsubscribe', 1.7623403478323167),\n",
       " ('days', 1.7569876577086876),\n",
       " ('li', 1.7501921685015474),\n",
       " ('ownership', 1.7420739580895468),\n",
       " ('never', 1.7223975321104685),\n",
       " ('la', 1.6644325507305213),\n",
       " ('erase', 1.6437518295172255),\n",
       " ('nous', 1.6437518295172255),\n",
       " ('want', 1.6386985844812776),\n",
       " ('logging', 1.6153942662021779),\n",
       " ('encrypted', 1.608614251345976),\n",
       " ('longer', 1.6025263130185192),\n",
       " ('data', 1.5982203757263442),\n",
       " ('delete', 1.5864854358447922),\n",
       " ('rent', 1.5848931924611134)]"
      ]
     },
     "execution_count": 186,
     "metadata": {},
     "output_type": "execute_result"
    }
   ],
   "source": [
    "Counter(atruehonor).most_common(15)"
   ]
  },
  {
   "cell_type": "code",
   "execution_count": 187,
   "metadata": {},
   "outputs": [
    {
     "data": {
      "text/plain": [
       "[('13', 2.6121081289582846),\n",
       " ('age', 2.399201053055897),\n",
       " ('years', 2.3983264948429794),\n",
       " ('2018', 2.1945282005913502),\n",
       " ('responsible', 2.1123008794843385),\n",
       " ('2019', 2.1117857649667533),\n",
       " ('old', 2.0324529472175876),\n",
       " ('california', 2.0135361282954),\n",
       " ('18', 2.002101731441905),\n",
       " ('jurisdiction', 1.9825800531411333),\n",
       " ('children', 1.9331820449317623),\n",
       " ('last', 1.8872077336469348),\n",
       " ('16', 1.8668958604423693),\n",
       " ('older', 1.8475842586021467),\n",
       " ('least', 1.840158548578519)]"
      ]
     },
     "execution_count": 187,
     "metadata": {},
     "output_type": "execute_result"
    }
   ],
   "source": [
    "Counter(ahonor).most_common(15)"
   ]
  },
  {
   "cell_type": "code",
   "execution_count": 188,
   "metadata": {},
   "outputs": [
    {
     "data": {
      "text/plain": [
       "[('and', 2.7983336033660424),\n",
       " ('or', 2.716979689203616),\n",
       " ('including', 2.4319892778790395),\n",
       " ('indemnify', 2.409233475252727),\n",
       " ('harmless', 2.408224685280692),\n",
       " ('services', 2.4016394248670694),\n",
       " ('beacons', 2.343007390840694),\n",
       " ('of', 2.3162372491303014),\n",
       " ('the', 2.2889091595642412),\n",
       " ('party', 2.287613120087257),\n",
       " ('costs', 2.2844457576401376),\n",
       " ('damages', 2.277908003868374),\n",
       " ('claims', 2.277600563229616),\n",
       " ('to', 2.2752323380546193),\n",
       " ('officers', 2.2543881106591512)]"
      ]
     },
     "execution_count": 188,
     "metadata": {},
     "output_type": "execute_result"
    }
   ],
   "source": [
    "Counter(afalsehonor).most_common(15)"
   ]
  },
  {
   "cell_type": "code",
   "execution_count": 189,
   "metadata": {},
   "outputs": [],
   "source": [
    "#tfiddy = TfidfVectorizer()\n",
    "tfiddy = TfidfVectorizer(stop_words=cleanest_companies)\n",
    "tfiddy.fit(X_train)\n",
    "X_train_tfiddy = tfiddy.transform(X_train).toarray()\n",
    "X_test_tfiddy = tfiddy.transform(X_test).toarray()"
   ]
  },
  {
   "cell_type": "code",
   "execution_count": 255,
   "metadata": {},
   "outputs": [
    {
     "data": {
      "text/plain": [
       "0.7918032786885246"
      ]
     },
     "execution_count": 255,
     "metadata": {},
     "output_type": "execute_result"
    }
   ],
   "source": [
    "#Multinomial NB\n",
    "\n",
    "tfiddy = TfidfVectorizer(stop_words=cleanest_companies,ngram_range=(1,2))\n",
    "tfiddy.fit(X_train)\n",
    "X_train_tfiddy = tfiddy.transform(X_train).toarray()\n",
    "X_test_tfiddy = tfiddy.transform(X_test).toarray()\n",
    "\n",
    "model = MultinomialNB(alpha=.02)\n",
    "model.fit(X_train_tfiddy, y_train)\n",
    "y_hat = model.predict(X_test_tfiddy)\n",
    "\n",
    "model.score(X_test_tfiddy, y_test)"
   ]
  },
  {
   "cell_type": "code",
   "execution_count": 256,
   "metadata": {},
   "outputs": [],
   "source": [
    "mnp_probs = model.predict_proba(X_test_tfiddy)"
   ]
  },
  {
   "cell_type": "code",
   "execution_count": 203,
   "metadata": {},
   "outputs": [],
   "source": [
    "import pickle\n",
    "filename_model = 'apps/model.sav'\n",
    "pickle.dump(model, open(filename_model, 'wb'))"
   ]
  },
  {
   "cell_type": "code",
   "execution_count": 204,
   "metadata": {},
   "outputs": [],
   "source": [
    "filename_tfidf = 'apps/tfidf.sav'\n",
    "pickle.dump(tfiddy, open(filename_tfidf, 'wb'))"
   ]
  },
  {
   "cell_type": "code",
   "execution_count": 372,
   "metadata": {},
   "outputs": [],
   "source": [
    "input_text = \"something about indemnify\""
   ]
  },
  {
   "cell_type": "code",
   "execution_count": 135,
   "metadata": {},
   "outputs": [],
   "source": [
    "tfidf_model = pickle.load(open(filename_tfidf,'rb'))\n",
    "loaded_model = pickle.load(open(filename_model, 'rb'))\n",
    "#input_vectorized = tfidf_model.transform(pd.Series(input_text)).toarray()\n",
    "#classification,probability = loaded_model.predict(input_vectorized),loaded_model.predict_proba(input_vectorized)\n",
    "#print(f'Classification:{classification}classification,f'probability)"
   ]
  },
  {
   "cell_type": "code",
   "execution_count": 352,
   "metadata": {},
   "outputs": [
    {
     "data": {
      "text/plain": [
       "(1, 32743)"
      ]
     },
     "execution_count": 352,
     "metadata": {},
     "output_type": "execute_result"
    }
   ],
   "source": [
    "input_vectorized.shape"
   ]
  },
  {
   "cell_type": "code",
   "execution_count": 169,
   "metadata": {},
   "outputs": [
    {
     "data": {
      "text/plain": [
       "(1911, 32743)"
      ]
     },
     "execution_count": 169,
     "metadata": {},
     "output_type": "execute_result"
    }
   ],
   "source": [
    "X_train_tfiddy.shape"
   ]
  },
  {
   "cell_type": "code",
   "execution_count": 114,
   "metadata": {},
   "outputs": [
    {
     "data": {
      "text/plain": [
       "Int64Index([1308, 2302, 2257, 1625, 2367, 2436, 1737, 256, 902, 879], dtype='int64')"
      ]
     },
     "execution_count": 114,
     "metadata": {},
     "output_type": "execute_result"
    }
   ],
   "source": [
    "X_test[:10].index"
   ]
  },
  {
   "cell_type": "code",
   "execution_count": 227,
   "metadata": {},
   "outputs": [
    {
     "data": {
      "text/plain": [
       "'\\nIf you make suggestions to Vimeo on improving or adding new features to the Vimeo Service, Vimeo shall have the right to use your suggestions without any compensation to you.</p> '"
      ]
     },
     "execution_count": 227,
     "metadata": {},
     "output_type": "execute_result"
    }
   ],
   "source": [
    "X_test.iloc[187]"
   ]
  },
  {
   "cell_type": "code",
   "execution_count": 119,
   "metadata": {},
   "outputs": [],
   "source": [
    "from sklearn.metrics import roc_curve, auc\n",
    "from sklearn import datasets\n",
    "from sklearn.multiclass import OneVsRestClassifier\n",
    "from sklearn.preprocessing import label_binarize\n",
    "import matplotlib.pyplot as plt"
   ]
  },
  {
   "cell_type": "code",
   "execution_count": 320,
   "metadata": {
    "scrolled": true
   },
   "outputs": [
    {
     "data": {
      "image/png": "[encoded data removed]",
      "text/plain": [
       "<Figure size 1008x432 with 1 Axes>"
      ]
     },
     "metadata": {
      "needs_background": "light"
     },
     "output_type": "display_data"
    }
   ],
   "source": [
    "clf = OneVsRestClassifier(MultinomialNB(alpha=.01))\n",
    "y_score = clf.fit(X_train_tfiddy,ytrain_bin).predict_proba(X_test_tfiddy)\n",
    "fpr = dict()\n",
    "tpr = dict()\n",
    "roc_auc = dict()\n",
    "for i in range(3):\n",
    "    fpr[i], tpr[i], _ = roc_curve(ytest_bin[:, i], y_score[:, i])\n",
    "    roc_auc[i] = auc(fpr[i], tpr[i])\n",
    "fig, ax = plt.subplots(figsize=(14,6))\n",
    "ax.plot([0, 1], [0, 1], 'k--')\n",
    "ax.set_xlim([0.0, 1.0])\n",
    "ax.set_ylim([0.0, 1.05])\n",
    "ax.set_xlabel('False Positive Rate')\n",
    "ax.set_ylabel('True Positive Rate')\n",
    "ax.set_title('One Vs Rest ROC Curve - Multinomial Naive Bayes')\n",
    "for i in range(3):\n",
    "    ax.plot(fpr[i], tpr[i], label=f'ROC curve (area = {roc_auc[i]:.2f}) for {labels[i]} vs all')\n",
    "ax.legend(loc=\"best\")\n",
    "ax.grid(alpha=.4)\n",
    "sns.despine()\n",
    "plt.show()"
   ]
  },
  {
   "cell_type": "code",
   "execution_count": 159,
   "metadata": {},
   "outputs": [
    {
     "data": {
      "text/plain": [
       "(638, 3)"
      ]
     },
     "execution_count": 159,
     "metadata": {},
     "output_type": "execute_result"
    }
   ],
   "source": [
    "y_score.shape\n",
    "roc_curve()"
   ]
  },
  {
   "cell_type": "code",
   "execution_count": 107,
   "metadata": {},
   "outputs": [
    {
     "data": {
      "text/plain": [
       "array([0.27585471, 0.59716769, 0.1269776 ])"
      ]
     },
     "execution_count": 107,
     "metadata": {},
     "output_type": "execute_result"
    }
   ],
   "source": [
    "model.predict_proba(X_test_tfiddy)[4]"
   ]
  },
  {
   "cell_type": "code",
   "execution_count": 318,
   "metadata": {},
   "outputs": [
    {
     "data": {
      "text/plain": [
       "'good'"
      ]
     },
     "execution_count": 318,
     "metadata": {},
     "output_type": "execute_result"
    }
   ],
   "source": [
    "y_test.iloc[200]"
   ]
  },
  {
   "cell_type": "code",
   "execution_count": 314,
   "metadata": {},
   "outputs": [
    {
     "data": {
      "text/plain": [
       "'bad'"
      ]
     },
     "execution_count": 314,
     "metadata": {},
     "output_type": "execute_result"
    }
   ],
   "source": [
    "model.predict(X_test_tfiddy)[200]"
   ]
  },
  {
   "cell_type": "code",
   "execution_count": 284,
   "metadata": {},
   "outputs": [
    {
     "data": {
      "text/html": [
       "<div>\n",
       "<style scoped>\n",
       "    .dataframe tbody tr th:only-of-type {\n",
       "        vertical-align: middle;\n",
       "    }\n",
       "\n",
       "    .dataframe tbody tr th {\n",
       "        vertical-align: top;\n",
       "    }\n",
       "\n",
       "    .dataframe thead th {\n",
       "        text-align: right;\n",
       "    }\n",
       "</style>\n",
       "<table border=\"1\" class=\"dataframe\">\n",
       "  <thead>\n",
       "    <tr style=\"text-align: right;\">\n",
       "      <th></th>\n",
       "      <th>index</th>\n",
       "      <th>id</th>\n",
       "      <th>quoteText</th>\n",
       "      <th>services</th>\n",
       "      <th>title</th>\n",
       "      <th>binding</th>\n",
       "      <th>case</th>\n",
       "      <th>point</th>\n",
       "      <th>privacyRelated</th>\n",
       "      <th>score</th>\n",
       "      <th>tldr</th>\n",
       "      <th>sources</th>\n",
       "      <th>irrelevant</th>\n",
       "      <th>reason</th>\n",
       "      <th>tmp_rating</th>\n",
       "      <th>document</th>\n",
       "      <th>label</th>\n",
       "    </tr>\n",
       "  </thead>\n",
       "  <tbody>\n",
       "    <tr>\n",
       "      <td>1681</td>\n",
       "      <td>920</td>\n",
       "      <td>920</td>\n",
       "      <td>when you share, post, or upload content that i...</td>\n",
       "      <td>facebook</td>\n",
       "      <td>This service can license user content to third...</td>\n",
       "      <td>True</td>\n",
       "      <td>This service can license user content to third...</td>\n",
       "      <td>bad</td>\n",
       "      <td>NaN</td>\n",
       "      <td>50</td>\n",
       "      <td>The scope of the copyright license granted to ...</td>\n",
       "      <td>NaN</td>\n",
       "      <td>False</td>\n",
       "      <td>True</td>\n",
       "      <td>NaN</td>\n",
       "      <td>The scope of the copyright license granted to ...</td>\n",
       "      <td>bad</td>\n",
       "    </tr>\n",
       "    <tr>\n",
       "      <td>2194</td>\n",
       "      <td>4763</td>\n",
       "      <td>4763</td>\n",
       "      <td>You have certain rights around the use of your...</td>\n",
       "      <td>kink-com</td>\n",
       "      <td>You can opt out of targeted advertising</td>\n",
       "      <td>True</td>\n",
       "      <td>You can opt out of targeted advertising</td>\n",
       "      <td>good</td>\n",
       "      <td>NaN</td>\n",
       "      <td>25</td>\n",
       "      <td>Generated through the annotate view</td>\n",
       "      <td>NaN</td>\n",
       "      <td>NaN</td>\n",
       "      <td>NaN</td>\n",
       "      <td>NaN</td>\n",
       "      <td>You have certain rights around the use of your...</td>\n",
       "      <td>good</td>\n",
       "    </tr>\n",
       "  </tbody>\n",
       "</table>\n",
       "</div>"
      ],
      "text/plain": [
       "     index    id                                          quoteText  services  \\\n",
       "1681   920   920  when you share, post, or upload content that i...  facebook   \n",
       "2194  4763  4763  You have certain rights around the use of your...  kink-com   \n",
       "\n",
       "                                                  title  binding  \\\n",
       "1681  This service can license user content to third...     True   \n",
       "2194            You can opt out of targeted advertising     True   \n",
       "\n",
       "                                                   case point privacyRelated  \\\n",
       "1681  This service can license user content to third...   bad            NaN   \n",
       "2194            You can opt out of targeted advertising  good            NaN   \n",
       "\n",
       "     score                                               tldr sources  \\\n",
       "1681    50  The scope of the copyright license granted to ...     NaN   \n",
       "2194    25                Generated through the annotate view     NaN   \n",
       "\n",
       "     irrelevant reason  tmp_rating  \\\n",
       "1681      False   True         NaN   \n",
       "2194        NaN    NaN         NaN   \n",
       "\n",
       "                                               document label  \n",
       "1681  The scope of the copyright license granted to ...   bad  \n",
       "2194  You have certain rights around the use of your...  good  "
      ]
     },
     "execution_count": 284,
     "metadata": {},
     "output_type": "execute_result"
    }
   ],
   "source": [
    "df.iloc[[1681,2194]]"
   ]
  },
  {
   "cell_type": "code",
   "execution_count": 184,
   "metadata": {},
   "outputs": [],
   "source": [
    "truegood,trueneutral,truebad,neutral_notgood,neutral_notbad,good_notneutral,good_notbad,bad_notneutral,bad_notgood = 0,0,0,0,0,0,0,0,0\n",
    "\n",
    "for predicted,actual in zip(y_hat,y_test):\n",
    "    if predicted == actual:\n",
    "        if predicted == 'good':\n",
    "            truegood += 1\n",
    "        if predicted == 'neutral':\n",
    "            trueneutral += 1\n",
    "        if predicted == 'bad':\n",
    "            truebad += 1\n",
    "    elif (actual == 'good') & (predicted == 'neutral'):\n",
    "        good_notneutral += 1\n",
    "    elif (actual == 'good') & (predicted == 'bad'):\n",
    "        good_notbad += 1\n",
    "    elif (actual == 'neutral') & (predicted == 'good'):\n",
    "        neutral_notgood += 1\n",
    "    elif (actual == 'neutral') & (predicted == 'bad'):\n",
    "        neutral_notbad += 1\n",
    "    elif (actual == 'bad') & (predicted == 'neutral'):\n",
    "        bad_notneutral += 1\n",
    "    elif (actual == 'bad') & (predicted == 'good'):\n",
    "        bad_notgood += 1"
   ]
  },
  {
   "cell_type": "code",
   "execution_count": 248,
   "metadata": {},
   "outputs": [
    {
     "data": {
      "text/plain": [
       "[21, 18, 277]"
      ]
     },
     "execution_count": 248,
     "metadata": {},
     "output_type": "execute_result"
    }
   ],
   "source": [
    "actualgood = [truegood,good_notneutral,good_notbad]\n",
    "actualneutral = [neutral_notgood,trueneutral,neutral_notbad]\n",
    "actualbad = [bad_notgood,bad_notneutral,truebad]\n",
    "actualgood\n",
    "actualbad"
   ]
  },
  {
   "cell_type": "code",
   "execution_count": 221,
   "metadata": {},
   "outputs": [
    {
     "data": {
      "text/plain": [
       "array([[100,  36,  52],\n",
       "       [ 65,  35,  44],\n",
       "       [145,  61,  72]])"
      ]
     },
     "execution_count": 221,
     "metadata": {},
     "output_type": "execute_result"
    }
   ],
   "source": [
    "#of course there is libary for this\n",
    "\n",
    "from sklearn.metrics import confusion_matrix\n",
    "matrix = confusion_matrix(y_test, y_hat)[::-1]\n",
    "matrix"
   ]
  },
  {
   "cell_type": "code",
   "execution_count": 240,
   "metadata": {},
   "outputs": [
    {
     "data": {
      "text/plain": [
       "(-0.5, 3)"
      ]
     },
     "execution_count": 240,
     "metadata": {},
     "output_type": "execute_result"
    },
    {
     "data": {
      "image/png": "[encoded data removed]",
      "text/plain": [
       "<Figure size 432x288 with 1 Axes>"
      ]
     },
     "metadata": {
      "needs_background": "light"
     },
     "output_type": "display_data"
    }
   ],
   "source": [
    "matrix = confusion_matrix(y_test, y_hat)[::-1]\n",
    "fig,ax = plt.subplots()\n",
    "\n",
    "sns.heatmap(matrix,annot=True,cbar=False,cmap='Blues', fmt='g')\n",
    "plt.ylabel('Actual')\n",
    "plt.xlabel('Predicted')\n",
    "plt.title('Confusion Matrix')\n",
    "plt.xticks([.5,1.5,2.5],labels=['Bad','Good','Neutral'])\n",
    "plt.yticks([.5,1.5,2.5],labels=['Neutral','Good','Bad'])\n",
    "plt.ylim(-.5,3)"
   ]
  },
  {
   "cell_type": "code",
   "execution_count": 202,
   "metadata": {},
   "outputs": [
    {
     "ename": "NameError",
     "evalue": "name 'X_train_voncount' is not defined",
     "output_type": "error",
     "traceback": [
      "\u001b[0;31m---------------------------------------------------------------------------\u001b[0m",
      "\u001b[0;31mNameError\u001b[0m                                 Traceback (most recent call last)",
      "\u001b[0;32m<ipython-input-202-192b539be444>\u001b[0m in \u001b[0;36m<module>\u001b[0;34m\u001b[0m\n\u001b[1;32m      2\u001b[0m \u001b[0;34m\u001b[0m\u001b[0m\n\u001b[1;32m      3\u001b[0m \u001b[0mmodel\u001b[0m \u001b[0;34m=\u001b[0m \u001b[0mMultinomialNB\u001b[0m\u001b[0;34m(\u001b[0m\u001b[0malpha\u001b[0m\u001b[0;34m=\u001b[0m\u001b[0;36m.01\u001b[0m\u001b[0;34m)\u001b[0m\u001b[0;34m\u001b[0m\u001b[0;34m\u001b[0m\u001b[0m\n\u001b[0;32m----> 4\u001b[0;31m \u001b[0mmodel\u001b[0m\u001b[0;34m.\u001b[0m\u001b[0mfit\u001b[0m\u001b[0;34m(\u001b[0m\u001b[0mX_train_voncount\u001b[0m\u001b[0;34m,\u001b[0m \u001b[0my_train\u001b[0m\u001b[0;34m)\u001b[0m\u001b[0;34m\u001b[0m\u001b[0;34m\u001b[0m\u001b[0m\n\u001b[0m\u001b[1;32m      5\u001b[0m \u001b[0my_hat\u001b[0m \u001b[0;34m=\u001b[0m \u001b[0mmodel\u001b[0m\u001b[0;34m.\u001b[0m\u001b[0mpredict\u001b[0m\u001b[0;34m(\u001b[0m\u001b[0mX_test_voncount\u001b[0m\u001b[0;34m)\u001b[0m\u001b[0;34m\u001b[0m\u001b[0;34m\u001b[0m\u001b[0m\n\u001b[1;32m      6\u001b[0m \u001b[0;34m\u001b[0m\u001b[0m\n",
      "\u001b[0;31mNameError\u001b[0m: name 'X_train_voncount' is not defined"
     ]
    }
   ],
   "source": [
    "#Multinomial NB with count vectorizer instead of TFIDF\n",
    "\n",
    "model = MultinomialNB(alpha=.01)\n",
    "model.fit(X_train_voncount, y_train)\n",
    "y_hat = model.predict(X_test_voncount)\n",
    "\n",
    "model.score(X_test_voncount, y_test)"
   ]
  },
  {
   "cell_type": "code",
   "execution_count": 230,
   "metadata": {},
   "outputs": [
    {
     "data": {
      "text/plain": [
       "0.7081967213114754"
      ]
     },
     "execution_count": 230,
     "metadata": {},
     "output_type": "execute_result"
    }
   ],
   "source": [
    "#Complement NB\n",
    "\n",
    "model = MultinomialNB(alpha=.3)\n",
    "model.fit(X_train_tfiddy, y_train)\n",
    "y_hat = model.predict(X_test_tfiddy)\n",
    "\n",
    "#model.predict_proba(X_test_tfiddy)\n",
    "model.score(X_test_tfiddy,y_test)"
   ]
  },
  {
   "cell_type": "code",
   "execution_count": 241,
   "metadata": {},
   "outputs": [],
   "source": [
    "dime = LogisticRegression(solver='lbfgs',C=100,max_iter=200,multi_class='multinomial')\n",
    "dime.fit(X_train_tfiddy,y_train)\n",
    "y_dime = dime.predict"
   ]
  },
  {
   "cell_type": "code",
   "execution_count": 389,
   "metadata": {},
   "outputs": [],
   "source": [
    "y_dime = dime.predict(X_test_tfiddy)\n",
    "log_prob = dime.predict_proba(X_test_tfiddy)"
   ]
  },
  {
   "cell_type": "code",
   "execution_count": 356,
   "metadata": {},
   "outputs": [
    {
     "data": {
      "text/plain": [
       "array(['bad', 'good', 'neutral'], dtype=object)"
      ]
     },
     "execution_count": 356,
     "metadata": {},
     "output_type": "execute_result"
    }
   ],
   "source": [
    "dime.classes_"
   ]
  },
  {
   "cell_type": "code",
   "execution_count": 388,
   "metadata": {},
   "outputs": [
    {
     "data": {
      "text/plain": [
       "0.7918032786885246"
      ]
     },
     "execution_count": 388,
     "metadata": {},
     "output_type": "execute_result"
    }
   ],
   "source": [
    "tfiddy = TfidfVectorizer(stop_words=cleanest_companies,ngram_range=(1,2))\n",
    "tfiddy.fit(X_train)\n",
    "X_train_tfiddy = tfiddy.transform(X_train).toarray()\n",
    "X_test_tfiddy = tfiddy.transform(X_test).toarray()\n",
    "\n",
    "model = MultinomialNB(alpha=.02)\n",
    "model.fit(X_train_tfiddy, y_train)\n",
    "y_mnb = model.predict(X_test_tfiddy)\n",
    "\n",
    "model.score(X_test_tfiddy, y_test)"
   ]
  },
  {
   "cell_type": "code",
   "execution_count": null,
   "metadata": {},
   "outputs": [],
   "source": []
  },
  {
   "cell_type": "code",
   "execution_count": 358,
   "metadata": {},
   "outputs": [
    {
     "data": {
      "text/plain": [
       "array(['bad', 'good', 'neutral'], dtype='<U7')"
      ]
     },
     "execution_count": 358,
     "metadata": {},
     "output_type": "execute_result"
    }
   ],
   "source": [
    "model.classes_"
   ]
  },
  {
   "cell_type": "code",
   "execution_count": 340,
   "metadata": {},
   "outputs": [],
   "source": [
    "a = (mnp_probs + log_prob)/2"
   ]
  },
  {
   "cell_type": "code",
   "execution_count": 308,
   "metadata": {},
   "outputs": [
    {
     "data": {
      "text/plain": [
       "(610, 3)"
      ]
     },
     "execution_count": 308,
     "metadata": {},
     "output_type": "execute_result"
    }
   ],
   "source": [
    "a.shape"
   ]
  },
  {
   "cell_type": "code",
   "execution_count": 316,
   "metadata": {
    "scrolled": true
   },
   "outputs": [
    {
     "ename": "AttributeError",
     "evalue": "module 'numpy' has no attribute 'index'",
     "output_type": "error",
     "traceback": [
      "\u001b[0;31m---------------------------------------------------------------------------\u001b[0m",
      "\u001b[0;31mAttributeError\u001b[0m                            Traceback (most recent call last)",
      "\u001b[0;32m<ipython-input-316-f7541b1cc168>\u001b[0m in \u001b[0;36m<module>\u001b[0;34m\u001b[0m\n\u001b[0;32m----> 1\u001b[0;31m \u001b[0mnp\u001b[0m\u001b[0;34m.\u001b[0m\u001b[0mindex\u001b[0m\u001b[0;34m\u001b[0m\u001b[0;34m\u001b[0m\u001b[0m\n\u001b[0m",
      "\u001b[0;31mAttributeError\u001b[0m: module 'numpy' has no attribute 'index'"
     ]
    }
   ],
   "source": [
    "np.index_exp()"
   ]
  },
  {
   "cell_type": "code",
   "execution_count": 365,
   "metadata": {},
   "outputs": [],
   "source": [
    "y_pred = model.classes_[arg]"
   ]
  },
  {
   "cell_type": "code",
   "execution_count": 304,
   "metadata": {},
   "outputs": [],
   "source": [
    "arg = np.argmax(a,axis=1).reshape(610,1)"
   ]
  },
  {
   "cell_type": "code",
   "execution_count": 311,
   "metadata": {},
   "outputs": [],
   "source": [
    "array = np.full((610,3),fill_value=False)"
   ]
  },
  {
   "cell_type": "code",
   "execution_count": 347,
   "metadata": {},
   "outputs": [],
   "source": [
    "array[np.arange(len(a)),a.argmax(1)] = True"
   ]
  },
  {
   "cell_type": "code",
   "execution_count": 359,
   "metadata": {},
   "outputs": [
    {
     "data": {
      "text/plain": [
       "array([[False,  True, False],\n",
       "       [ True, False, False],\n",
       "       [False, False,  True],\n",
       "       ...,\n",
       "       [False, False,  True],\n",
       "       [False,  True, False],\n",
       "       [ True, False, False]])"
      ]
     },
     "execution_count": 359,
     "metadata": {},
     "output_type": "execute_result"
    }
   ],
   "source": [
    "array"
   ]
  },
  {
   "cell_type": "code",
   "execution_count": 342,
   "metadata": {},
   "outputs": [
    {
     "data": {
      "text/plain": [
       "array([0.75565618, 0.74074126, 0.80106696, 0.67070722, 0.963055  ,\n",
       "       0.99982732, 0.94645197, 0.98536801, 0.92908792, 0.59261599,\n",
       "       0.95458743, 0.53222118, 0.99675206, 0.99820315, 0.98119087,\n",
       "       0.99737889, 0.99593614, 0.68997705, 0.96696007, 0.89892349,\n",
       "       0.66650169, 0.99864156, 0.9882842 , 0.99782711, 0.53917807,\n",
       "       0.89088645, 0.588608  , 0.99185177, 0.43116563, 0.97800964,\n",
       "       0.82400222, 0.5666323 , 0.99476757, 0.99939677, 0.99154633,\n",
       "       0.9830405 , 0.92597955, 0.50319881, 0.98563319, 0.79293515,\n",
       "       0.61354646, 0.99771299, 0.99566412, 0.40515057, 0.71192049,\n",
       "       0.90883391, 0.49864422, 0.99120142, 0.46676923, 0.66060806,\n",
       "       0.84760072, 0.89116044, 0.99759876, 0.89866924, 0.97489009,\n",
       "       0.57445818, 0.99794265, 0.99440111, 0.76872109, 0.99373623,\n",
       "       0.82996883, 0.74390612, 0.93215958, 0.98708016, 0.99827028,\n",
       "       0.97394325, 0.992388  , 0.61957782, 0.5487127 , 0.90741484,\n",
       "       0.76807618, 0.66476721, 0.97544204, 0.88081878, 0.72551916,\n",
       "       0.88952379, 0.94808511, 0.88261456, 0.99200568, 0.59573647,\n",
       "       0.99965975, 0.98743828, 0.53898133, 0.99933498, 0.98430498,\n",
       "       0.90990973, 0.96313578, 0.80920845, 0.65893888, 0.85661056,\n",
       "       0.96341644, 0.99952202, 0.59862948, 0.56684627, 0.99015237,\n",
       "       0.96753041, 0.99989588, 0.99628021, 0.99748852, 0.9906902 ,\n",
       "       0.99904658, 0.99781061, 0.99361423, 0.92333024, 0.98107458,\n",
       "       0.6508221 , 0.82769188, 0.97767389, 0.99971894, 0.98833357,\n",
       "       0.71178637, 0.60263371, 0.55921089, 0.90350118, 0.999974  ,\n",
       "       0.95240796, 0.79321052, 0.85950782, 0.99888626, 0.87876298,\n",
       "       0.99898323, 0.98914562, 0.98750185, 0.62445813, 0.98773913,\n",
       "       0.96314839, 0.93878906, 0.85150243, 0.99650843, 0.98980745,\n",
       "       0.9870026 , 0.99681278, 0.98697349, 0.58595088, 0.94559379,\n",
       "       0.99791559, 0.68734286, 0.66691952, 0.99321601, 0.56328798,\n",
       "       0.89917212, 0.54355565, 0.78605371, 0.99940184, 0.9984204 ,\n",
       "       0.98019184, 0.99663229, 0.69953294, 0.99730843, 0.988834  ,\n",
       "       0.95578959, 0.98470629, 0.99621656, 0.69630854, 0.54244304,\n",
       "       0.99521563, 0.9660588 , 0.9065103 , 0.70127313, 0.99510281,\n",
       "       0.99880145, 0.99986487, 0.8747623 , 0.99895718, 0.9966121 ,\n",
       "       0.99325474, 0.60179744, 0.8319376 , 0.99610589, 0.60608824,\n",
       "       0.84735288, 0.58846371, 0.99167606, 0.9803672 , 0.90175472,\n",
       "       0.99577425, 0.57979839, 0.89375421, 0.71247382, 0.47846854,\n",
       "       0.90459596, 0.52554676, 0.98129396, 0.51093198, 0.99562854,\n",
       "       0.69283176, 0.98645446, 0.84539996, 0.89874672, 0.99610173,\n",
       "       0.96970052, 0.99795794, 0.99833159, 0.94996654, 0.58358517,\n",
       "       0.84555807, 0.98138258, 0.98107693, 0.97896399, 0.48323612,\n",
       "       0.71847469, 0.94744766, 0.99858498, 0.9728986 , 0.95746489,\n",
       "       0.93936486, 0.9926131 , 0.89000251, 0.59704419, 0.45955759,\n",
       "       0.9405231 , 0.54113588, 0.9831257 , 0.96417339, 0.99877608,\n",
       "       0.82173069, 0.99698417, 0.99542379, 0.88285849, 0.97611575,\n",
       "       0.99781556, 0.99478507, 0.75453494, 0.97324518, 0.84716171,\n",
       "       0.99371513, 0.93572082, 0.99924314, 0.99042328, 0.69321443,\n",
       "       0.98105839, 0.99357369, 0.53553173, 0.9993804 , 0.91691542,\n",
       "       0.99880143, 0.98857217, 0.98599905, 0.6975186 , 0.7230305 ,\n",
       "       0.99911469, 0.94183883, 0.41673037, 0.62898377, 0.99547307,\n",
       "       0.99115887, 0.62675231, 0.99802464, 0.57101594, 0.83903707,\n",
       "       0.98333201, 0.99723814, 0.9695216 , 0.66238813, 0.98310329,\n",
       "       0.98974144, 0.99478678, 0.84368586, 0.95801824, 0.95149504,\n",
       "       0.9980415 , 0.98672505, 0.99307194, 0.99214357, 0.95615189,\n",
       "       0.60174479, 0.97941021, 0.99806538, 0.46921958, 0.99264321,\n",
       "       0.90346956, 0.34529328, 0.77870395, 0.99879014, 0.97040401,\n",
       "       0.95677672, 0.86607724, 0.9989944 , 0.85102987, 0.90535774,\n",
       "       0.85843857, 0.54180432, 0.99252475, 0.98711859, 0.52038873,\n",
       "       0.99829538, 0.41119491, 0.87934404, 0.99982732, 0.79233483,\n",
       "       0.88816105, 0.55056153, 0.88960139, 0.86074271, 0.99357561,\n",
       "       0.99701291, 0.96879207, 0.99792418, 0.99907641, 0.98885507,\n",
       "       0.97100026, 0.91109762, 0.99902933, 0.99997208, 0.43832938,\n",
       "       0.55764294, 0.99942077, 0.94195226, 0.92850523, 0.55611259,\n",
       "       0.64013716, 0.97950018, 0.8761401 , 0.38593665, 0.79678409,\n",
       "       0.77242852, 0.80345332, 0.99863409, 0.83508875, 0.94861671,\n",
       "       0.39993094, 0.93246127, 0.99924237, 0.56681777, 0.97936245,\n",
       "       0.99583019, 0.99755309, 0.72974539, 0.96466394, 0.99627498,\n",
       "       0.9938567 , 0.89833189, 0.97907857, 0.49880674, 0.61799824,\n",
       "       0.99419048, 0.96306999, 0.5699468 , 0.97565038, 0.96784576,\n",
       "       0.99740143, 0.92217948, 0.97923914, 0.98483289, 0.9915687 ,\n",
       "       0.8103109 , 0.98460333, 0.97285902, 0.55130017, 0.60961429,\n",
       "       0.90745147, 0.86961649, 0.60593283, 0.94065414, 0.99923649,\n",
       "       0.94577378, 0.9959951 , 0.73445845, 0.99969567, 0.99659623,\n",
       "       0.93486814, 0.96641177, 0.98598856, 0.98264639, 0.39064387,\n",
       "       0.91850644, 0.99965895, 0.97799093, 0.57399314, 0.69285416,\n",
       "       0.81082579, 0.9492583 , 0.94077149, 0.89427815, 0.5169517 ,\n",
       "       0.88944659, 0.84195993, 0.42565028, 0.41478026, 0.96606361,\n",
       "       0.99211493, 0.9472845 , 0.71245228, 0.74824761, 0.98026086,\n",
       "       0.58075113, 0.99018765, 0.81408307, 0.98620781, 0.86272845,\n",
       "       0.99511397, 0.52546612, 0.99972968, 0.98140607, 0.93073549,\n",
       "       0.96968607, 0.99904456, 0.95205111, 0.9959297 , 0.99043579,\n",
       "       0.99781581, 0.99102308, 0.92432713, 0.98264671, 0.95786745,\n",
       "       0.82717509, 0.92727442, 0.99986876, 0.99843122, 0.59555186,\n",
       "       0.4535812 , 0.96385722, 0.6829261 , 0.78981329, 0.79078445,\n",
       "       0.68145832, 0.99075985, 0.66445155, 0.97933132, 0.99668827,\n",
       "       0.99934974, 0.99934912, 0.55452466, 0.99458286, 0.99059822,\n",
       "       0.98630783, 0.9991102 , 0.96809565, 0.74945084, 0.55584183,\n",
       "       0.98935598, 0.92436928, 0.55798002, 0.99280039, 0.99269225,\n",
       "       0.99920842, 0.84455903, 0.80124161, 0.85416642, 0.93361429,\n",
       "       0.72885257, 0.96992141, 0.99708479, 0.99780211, 0.79067375,\n",
       "       0.81460306, 0.37725779, 0.99199385, 0.94625478, 0.92484367,\n",
       "       0.99697572, 0.99862825, 0.79512846, 0.78499925, 0.94215674,\n",
       "       0.97560741, 0.46013908, 0.99492107, 0.99266361, 0.61190961,\n",
       "       0.9846223 , 0.57367305, 0.46421038, 0.94124275, 0.54962836,\n",
       "       0.99792418, 0.98469637, 0.89161034, 0.61385054, 0.99921599,\n",
       "       0.73999499, 0.98223879, 0.99552598, 0.9988096 , 0.62215132,\n",
       "       0.45139905, 0.98443638, 0.69779501, 0.97805789, 0.58524075,\n",
       "       0.99198129, 0.99170868, 0.97385863, 0.98819569, 0.99984426,\n",
       "       0.61656053, 0.65768203, 0.57768621, 0.74482872, 0.53538285,\n",
       "       0.99686071, 0.82516123, 0.97401235, 0.84057017, 0.62091615,\n",
       "       0.99996828, 0.57768924, 0.53172853, 0.97550475, 0.95191047,\n",
       "       0.50011348, 0.92326995, 0.99938206, 0.48286214, 0.99553677,\n",
       "       0.96591558, 0.99801371, 0.68020768, 0.54042314, 0.68847377,\n",
       "       0.99839064, 0.93734954, 0.83350078, 0.9916932 , 0.9809764 ,\n",
       "       0.97292483, 0.7273286 , 0.67845703, 0.981379  , 0.86117091,\n",
       "       0.99890103, 0.97566491, 0.96893592, 0.97446285, 0.99761946,\n",
       "       0.61694134, 0.85687767, 0.49876693, 0.98518931, 0.99956862,\n",
       "       0.9293501 , 0.86188826, 0.56590025, 0.98385965, 0.73279882,\n",
       "       0.97637858, 0.99889077, 0.97947492, 0.94408645, 0.99733501,\n",
       "       0.69597414, 0.72980811, 0.84754284, 0.97039292, 0.369674  ,\n",
       "       0.80480942, 0.96345818, 0.99917451, 0.51548474, 0.95371562,\n",
       "       0.79820552, 0.99710557, 0.99832581, 0.95443871, 0.99190863,\n",
       "       0.967682  , 0.68423772, 0.45845811, 0.6101127 , 0.99072789,\n",
       "       0.83272758, 0.93134155, 0.86508209, 0.88125373, 0.9987554 ,\n",
       "       0.99903815, 0.99744246, 0.61453644, 0.53867438, 0.96191648,\n",
       "       0.95355802, 0.97304558, 0.99908683, 0.62273131, 0.92383144,\n",
       "       0.86961649, 0.87948858, 0.99572163, 0.99541303, 0.69755636,\n",
       "       0.93316025, 0.99398874, 0.72809409, 0.92523183, 0.96242304,\n",
       "       0.92417103, 0.99440128, 0.98958556, 0.80257863, 0.90180115,\n",
       "       0.81765379, 0.90097775, 0.85941384, 0.95190985, 0.92254598,\n",
       "       0.69535842, 0.90780401, 0.87108367, 0.9357883 , 0.99703694,\n",
       "       0.99832935, 0.99772227, 0.96921212, 0.99972539, 0.60752443,\n",
       "       0.91848498, 0.98806904, 0.99541936, 0.87943459, 0.77081047])"
      ]
     },
     "execution_count": 342,
     "metadata": {},
     "output_type": "execute_result"
    }
   ],
   "source": [
    "for num in a:\n",
    "    if num != np.amax(a,axis=1):\n",
    "        None\n",
    "    if num == np.amax(a,axis=1):\n",
    "        a"
   ]
  },
  {
   "cell_type": "code",
   "execution_count": 248,
   "metadata": {},
   "outputs": [
    {
     "data": {
      "text/plain": [
       "0.8229508196721311"
      ]
     },
     "execution_count": 248,
     "metadata": {},
     "output_type": "execute_result"
    }
   ],
   "source": [
    "dime.score(X_test_tfiddy,y_test)"
   ]
  },
  {
   "cell_type": "code",
   "execution_count": 391,
   "metadata": {},
   "outputs": [
    {
     "data": {
      "image/png": "[encoded data removed]",
      "text/plain": [
       "<Figure size 432x288 with 3 Axes>"
      ]
     },
     "metadata": {
      "needs_background": "light"
     },
     "output_type": "display_data"
    }
   ],
   "source": [
    "fig,axs = plt.subplots(1,3)\n",
    "\n",
    "preds = [y_dime,y_mnb,y_pred]\n",
    "\n",
    "for i,ax in enumerate(axs):\n",
    "    confusion_matrix(y_test, preds[i])[::-1]\n",
    "    sns.heatmap(confusion_matrix(y_test, preds[i])[::-1],ax=ax,annot=True,cbar=False,cmap='Blues', fmt='g')\n",
    "    ax.set_title('Confusion Matrix')\n",
    "    ax.set_ylabel('Actual')\n",
    "    ax.set_xlabel('Predicted')\n",
    "    ax.set_xticks([.5,1.5,2.5])#,labels=['Bad','Good','Neutral'])\n",
    "    ax.set_yticks([.5,1.5,2.5])#,labels=['Neutral','Good','Bad'])\n",
    "    ax.set_ylim(-.5,3)\n",
    "\n",
    "plt.tight_layout()"
   ]
  },
  {
   "cell_type": "code",
   "execution_count": 129,
   "metadata": {},
   "outputs": [
    {
     "data": {
      "text/plain": [
       "RandomForestClassifier(bootstrap=True, ccp_alpha=0.0, class_weight=None,\n",
       "                       criterion='gini', max_depth=None, max_features='auto',\n",
       "                       max_leaf_nodes=None, max_samples=None,\n",
       "                       min_impurity_decrease=0.0, min_impurity_split=None,\n",
       "                       min_samples_leaf=1, min_samples_split=2,\n",
       "                       min_weight_fraction_leaf=0.0, n_estimators=1000,\n",
       "                       n_jobs=None, oob_score=False, random_state=None,\n",
       "                       verbose=0, warm_start=False)"
      ]
     },
     "execution_count": 129,
     "metadata": {},
     "output_type": "execute_result"
    }
   ],
   "source": [
    "lostwoods = RandomForestClassifier(n_estimators=1000)\n",
    "lostwoods.fit(X_train_tfiddy,y_train)"
   ]
  },
  {
   "cell_type": "code",
   "execution_count": 130,
   "metadata": {},
   "outputs": [
    {
     "data": {
      "text/plain": [
       "0.7540983606557377"
      ]
     },
     "execution_count": 130,
     "metadata": {},
     "output_type": "execute_result"
    }
   ],
   "source": [
    "lostwoods.score(X_test_tfiddy,y_test)"
   ]
  },
  {
   "cell_type": "code",
   "execution_count": 131,
   "metadata": {},
   "outputs": [
    {
     "ename": "NameError",
     "evalue": "name 'OneVsRestClassifier' is not defined",
     "output_type": "error",
     "traceback": [
      "\u001b[0;31m---------------------------------------------------------------------------\u001b[0m",
      "\u001b[0;31mNameError\u001b[0m                                 Traceback (most recent call last)",
      "\u001b[0;32m<ipython-input-131-66baab6324cf>\u001b[0m in \u001b[0;36m<module>\u001b[0;34m\u001b[0m\n\u001b[0;32m----> 1\u001b[0;31m \u001b[0mclflost\u001b[0m \u001b[0;34m=\u001b[0m \u001b[0mOneVsRestClassifier\u001b[0m\u001b[0;34m(\u001b[0m\u001b[0mRandomForestClassifier\u001b[0m\u001b[0;34m(\u001b[0m\u001b[0mn_estimators\u001b[0m\u001b[0;34m=\u001b[0m\u001b[0;36m100\u001b[0m\u001b[0;34m)\u001b[0m\u001b[0;34m)\u001b[0m\u001b[0;34m\u001b[0m\u001b[0;34m\u001b[0m\u001b[0m\n\u001b[0m\u001b[1;32m      2\u001b[0m \u001b[0mylost_score\u001b[0m \u001b[0;34m=\u001b[0m \u001b[0mclflost\u001b[0m\u001b[0;34m.\u001b[0m\u001b[0mfit\u001b[0m\u001b[0;34m(\u001b[0m\u001b[0mX_train_tfiddy\u001b[0m\u001b[0;34m,\u001b[0m\u001b[0mytrain_bin\u001b[0m\u001b[0;34m)\u001b[0m\u001b[0;34m.\u001b[0m\u001b[0mpredict_proba\u001b[0m\u001b[0;34m(\u001b[0m\u001b[0mX_test_tfiddy\u001b[0m\u001b[0;34m)\u001b[0m\u001b[0;34m\u001b[0m\u001b[0;34m\u001b[0m\u001b[0m\n",
      "\u001b[0;31mNameError\u001b[0m: name 'OneVsRestClassifier' is not defined"
     ]
    }
   ],
   "source": [
    "clflost = OneVsRestClassifier(RandomForestClassifier(n_estimators=100))\n",
    "ylost_score = clflost.fit(X_train_tfiddy,ytrain_bin).predict_proba(X_test_tfiddy)"
   ]
  },
  {
   "cell_type": "code",
   "execution_count": 319,
   "metadata": {},
   "outputs": [
    {
     "data": {
      "image/png": "[encoded data removed]",
      "text/plain": [
       "<Figure size 1008x432 with 1 Axes>"
      ]
     },
     "metadata": {
      "needs_background": "light"
     },
     "output_type": "display_data"
    }
   ],
   "source": [
    "fpr = dict()\n",
    "tpr = dict()\n",
    "roc_auc = dict()\n",
    "labels = ['bad','good','neutral']\n",
    "for i in range(3):\n",
    "    fpr[i], tpr[i], _ = roc_curve(ytest_bin[:, i], ylost_score[:, i])\n",
    "    roc_auc[i] = auc(fpr[i], tpr[i])\n",
    "fig, ax = plt.subplots(figsize=(14,6))\n",
    "ax.plot([0, 1], [0, 1], 'k--')\n",
    "ax.set_xlim([0.0, 1.0])\n",
    "ax.set_ylim([0.0, 1.05])\n",
    "ax.set_xlabel('False Positive Rate')\n",
    "ax.set_ylabel('True Positive Rate')\n",
    "ax.set_title('One Vs Rest ROC Curve - RandomForest')\n",
    "for i in range(3):\n",
    "    ax.plot(fpr[i], tpr[i], label=f'ROC curve (area = {roc_auc[i]:.2f}) for {labels[i]} vs all')\n",
    "ax.legend(loc=\"best\")\n",
    "ax.grid(alpha=.4)\n",
    "sns.despine()\n",
    "plt.show()"
   ]
  },
  {
   "cell_type": "code",
   "execution_count": null,
   "metadata": {},
   "outputs": [],
   "source": [
    "gradientfalls = GradientBoostingClassifier(n_estimators=1000,subsample=0.5)\n",
    "gradientfalls.fit(X_train_tfiddy,y_train)"
   ]
  },
  {
   "cell_type": "code",
   "execution_count": null,
   "metadata": {},
   "outputs": [],
   "source": [
    "gradientfalls.score(X_test_tfiddy,y_test)\n",
    "gradientfalls.predict_"
   ]
  },
  {
   "cell_type": "code",
   "execution_count": 45,
   "metadata": {},
   "outputs": [
    {
     "ename": "NameError",
     "evalue": "name 'feature_log_prob' is not defined",
     "output_type": "error",
     "traceback": [
      "\u001b[0;31m---------------------------------------------------------------------------\u001b[0m",
      "\u001b[0;31mNameError\u001b[0m                                 Traceback (most recent call last)",
      "\u001b[0;32m<ipython-input-45-e40f06ffb9a7>\u001b[0m in \u001b[0;36m<module>\u001b[0;34m\u001b[0m\n\u001b[0;32m----> 1\u001b[0;31m \u001b[0mfeature_log_prob\u001b[0m\u001b[0;34m\u001b[0m\u001b[0;34m\u001b[0m\u001b[0m\n\u001b[0m",
      "\u001b[0;31mNameError\u001b[0m: name 'feature_log_prob' is not defined"
     ]
    }
   ],
   "source": [
    "feature_log_prob"
   ]
  },
  {
   "cell_type": "code",
   "execution_count": 72,
   "metadata": {},
   "outputs": [],
   "source": [
    "terms_US = '''Users of the Services may be permitted to upload, post or transmit (such as via a stream) or otherwise make available content through the Services including, without limitation, any text, photographs, user videos, sound recordings and the musical works embodied therein, including videos that incorporate locally stored sound recordings from your personal music library and ambient noise (“User Content”). Users of the Services may also extract all or any portion of User Content created by another user to produce additional User Content, including collaborative User Content with other users, that combine and intersperse User Content generated by more than one user. Users of the Services may also overlay music, graphics, stickers, Virtual Items (as defined and further explained Virtual Items Policy) and other elements provided by TikTok (“TikTok Elements”) onto this User Content and transmit this User Content through the Services. The information and materials in the User Content, including User Content that includes TikTok Elements, have not been verified or approved by us. The views expressed by other users on the Services (including through use of the virtual gifts) do not represent our views or values.\n",
    "\n",
    "Whenever you access or use a feature that allows you to upload or transmit User Content through the Services (including via certain third party social media platforms such as Instagram, Facebook, YouTube, Twitter), or to make contact with other users of the Services, you must comply with the standards set out at “Your Access to and Use of Our Services” above. You may also choose to upload or transmit your User Content, including User Content that includes TikTok Elements, on sites or platforms hosted by third parties. If you decide to do this, you must comply with their content guidelines as well as with the standards set out at “Your Access to and Use of Our Services” above. As noted above, these features may not be available to all users of the Services, and we have no liability to you for limiting your right to certain features of the Services.\n",
    "\n",
    "You warrant that any such contribution does comply with those standards, and you will be liable to us and indemnify us for any breach of that warranty. This means you will be responsible for any loss or damage we suffer as a result of your breach of warranty.\n",
    "\n",
    "Any User Content will be considered non-confidential and non-proprietary. You must not post any User Content on or through the Services or transmit to us any User Content that you consider to be confidential or proprietary. When you submit User Content through the Services, you agree and represent that you own that User Content, or you have received all necessary permissions, clearances from, or are authorised by, the owner of any part of the content to submit it to the Services, to transmit it from the Services to other third party platforms, and/or adopt any third party content.\n",
    "\n",
    "If you only own the rights in and to a sound recording, but not to the underlying musical works embodied in such sound recordings, then you must not post such sound recordings to the Services unless you have all permissions, clearances from, or are authorised by, the owner of any part of the content to submit it to the Services\n",
    "\n",
    "You or the owner of your User Content still own the copyright in User Content sent to us, but by submitting User Content via the Services, you hereby grant us an unconditional irrevocable, non-exclusive, royalty-free, fully transferable, perpetual worldwide licence to use, modify, adapt, reproduce, make derivative works of, publish and/or transmit, and/or distribute and to authorise other users of the Services and other third-parties to view, access, use, download, modify, adapt, reproduce, make derivative works of, publish and/or transmit your User Content in any format and on any platform, either now known or hereinafter invented.\n",
    "\n",
    "You further grant us a royalty-free license to use your user name, image, voice, and likeness to identify you as the source of any of your User Content; provided, however, that your ability to provide an image, voice, and likeness may be subject to limitations due to age restrictions.\n",
    "\n",
    "For the avoidance of doubt, the rights granted in the preceding paragraphs of this Section include, but are not limited to, the right to reproduce sound recordings (and make mechanical reproductions of the musical works embodied in such sound recordings), and publicly perform and communicate to the public sound recordings (and the musical works embodied therein), all on a royalty-free basis. This means that you are granting us the right to use your User Content without the obligation to pay royalties to any third party, including, but not limited to, a sound recording copyright owner (e.g., a record label), a musical work copyright owner (e.g., a music publisher), a performing rights organization (e.g., ASCAP, BMI, SESAC, etc.) (a “PRO”), a sound recording PRO (e.g., SoundExchange), any unions or guilds, and engineers, producers or other royalty participants involved in the creation of User Content.\n",
    "\n",
    "Specific Rules for Musical Works and for Recording Artists. If you are a composer or author of a musical work and are affiliated with a PRO, then you must notify your PRO of the royalty-free license you grant through these Terms in your User Content to us. You are solely responsible for ensuring your compliance with the relevant PRO’s reporting obligations. If you have assigned your rights to a music publisher, then you must obtain the consent of such music publisher to grant the royalty-free license(s) set forth in these Terms in your User Content or have such music publisher enter into these Terms with us. Just because you authored a musical work (e.g., wrote a song) does not mean you have the right to grant us the licenses in these Terms. If you are a recording artist under contract with a record label, then you are solely responsible for ensuring that your use of the Services is in compliance with any contractual obligations you may have to your record label, including if you create any new recordings through the Services that may be claimed by your label.\n",
    "\n",
    "Through-To-The-Audience Rights. All of the rights you grant in your User Content in these Terms are provided on a through-to-the-audience basis, meaning the owners or operators of third party services will not have any separate liability to you or any other third party for User Content posted or used on such third party service via the Services.\n",
    "\n",
    "Waiver of Rights to User Content. By posting User Content to or through the Services, you waive any rights to prior inspection or approval of any marketing or promotional materials related to such User Content. You also waive any and all rights of privacy, publicity, or any other rights of a similar nature in connection with your User Content, or any portion thereof. To the extent any moral rights are not transferable or assignable, you hereby waive and agree never to assert any and all moral rights, or to support, maintain or permit any action based on any moral rights that you may have in or with respect to any User Content you Post to or through the Services.\n",
    "\n",
    "We also have the right to disclose your identity to any third party who is claiming that any User Content posted or uploaded by you to our Services constitutes a violation of their intellectual property rights, or of their right to privacy.\n",
    "\n",
    "We, or authorised third parties, reserve the right to cut, crop, edit or refuse to publish, your content at our or their sole discretion. We have the right to remove, disallow, block or delete any posting you make on our Services if, in our opinion, your post does not comply with the content standards set out at “Your Access to and Use of Our Services”above. In addition, we have the right – but not the obligation – in our sole discretion to remove, disallow, block or delete any User Content (i) that we consider to violate these Terms, or (ii) in response to complaints from other users or third parties, with or without notice and without any liability to you. As a result, we recommend that you save copies of any User Content that you post to the Services on your personal device(s) in the event that you want to ensure that you have permanent access to copies of such User Content. We do not guarantee the accuracy, integrity, appropriateness or quality of any User Content, and under no circumstances will we be liable in any way for any User Content.\n",
    "\n",
    "You control whether your User Content is made publicly available on the Services to all other users of the Services or only available to people you approve. To restrict access to your User Content, you should select the privacy setting available within the Platform.\n",
    "\n",
    "We accept no liability in respect of any content submitted by users and published by us or by authorised third parties.\n",
    "\n",
    "If you wish to complain about information and materials uploaded by other users please contact us at: feedback@tiktok.com.\n",
    "\n",
    "TikTok takes reasonable measures to expeditiously remove from our Services any infringing material that we become aware of.It is TikTok’s policy, in appropriate circumstances and at its discretion, to disable or terminate the accounts of users of the Services who repeatedly infringe copyrights or intellectual property rights of others.\n",
    "\n",
    "While our own staff is continually working to develop and evaluate our own product ideas and features, we pride ourselves on paying close attention to the interests, feedback, comments, and suggestions we receive from the user community. If you choose to contribute by sending us or our employees any ideas for products, services, features, modifications, enhancements, content, refinements, technologies, content offerings (such as audio, visual, games, or other types of content), promotions, strategies, or product/feature names, or any related documentation, artwork, computer code, diagrams, or other materials (collectively “Feedback”), then regardless of what your accompanying communication may say, the following terms will apply, so that future misunderstandings can be avoided. Accordingly, by sending Feedback to us, you agree that:\n",
    "\n",
    "TikTok has no obligation to review, consider, or implement your Feedback, or to return to you all or part of any Feedback for any reason;\n",
    "\n",
    "Feedback is provided on a non-confidential basis, and we are not under any obligation to keep any Feedback you send confidential or to refrain from using or disclosing it in any way; and\n",
    "\n",
    "You irrevocably grant us perpetual and unlimited permission to reproduce, distribute, create derivative works of, modify, publicly perform (including on a through-to-the-audience basis), communicate to the public, make available, publicly display, and otherwise use and exploit the Feedback and derivatives thereof for any purpose and without restriction, free of charge and without attribution of any kind, including by making, using, selling, offering for sale, importing, and promoting commercial products and services that incorporate or embody Feedback, whether in whole or in part, and whether as provided or as modified.'''"
   ]
  },
  {
   "cell_type": "code",
   "execution_count": 73,
   "metadata": {},
   "outputs": [],
   "source": [
    "terms_EU = '''    Users of the Services may be permitted to upload, post or transmit (such as via a stream) or otherwise make available content through the Services including, without limitation, any text, photographs, user videos, sound recordings and the musical works embodied therein, including videos that incorporate locally stored sound recordings from your personal music library and ambient noise (“User Content”). Users of the Services may also extract all or any portion of User Content created by another user to produce additional User Content, including collaborative User Content with other users, that combine and intersperse User Content generated by more than one user. Users of the Services may also overlay music, graphics, stickers, Virtual Items (as defined and further explained in the “VIRTUAL ITEMS POLICY “) and other elements provided by TikTok (“TikTok Elements”) onto this User Content and transmit this User Content through the Services. The information and materials in the User Content, including User Content that includes TikTok Elements, have not been verified or approved by us. The views expressed by other users on the Services (including through use of the virtual gifts) do not represent our views or values.\n",
    "\n",
    "    Whenever you access or use a feature that allows you to upload or transmit User Content through the Services (including via certain third party social media platforms such as Instagram, Facebook, YouTube, Twitter), or to make contact with other users of the Services, you must comply with the standards set out at Section 5 above. You may also choose to upload or transmit your User Content, including User Content that includes TikTok Elements, on sites or platforms hosted by third parties. If you decide to do this, you must comply with their content guidelines as well as with the standards set out in this Section 7 above.\n",
    "\n",
    "    You warrant that any such contribution does comply with those standards, and you will be liable to us and indemnify us for any breach of that warranty. This means you will be responsible for any loss or damage we suffer as a result of your breach of warranty.\n",
    "\n",
    "    Any User Content will be considered non-confidential and non-proprietary. You must not post any User Content on or through the Services or transmit to us any User Content that you consider to be confidential or proprietary. When you submit User Content through the Services, you agree and represent that you own that User Content, or you have received all necessary permissions, clearances from, or are authorised by, the owner of any part of the content to submit it to the Services, to transmit it from the Services to other third party platforms, and/or adopt any third party content.\n",
    "\n",
    "    If you only own the rights in and to a sound recording, but not to the underlying musical works embodied in such sound recordings, then you must not post such sound recordings to the Services unless you have all permissions, clearances from, or are authorised by, the owner of any part of the content to submit it to the Services .\n",
    "\n",
    "    You or the owner of your User Content still own the copyright in User Content sent to us, but by submitting User Content via the Services, you hereby grant us an unconditional irrevocable, non-exclusive, royalty-free, fully transferable, perpetual worldwide licence to use, modify, adapt, reproduce, make derivative works of, publish and/or transmit, and/or distribute and to authorise others users of the Services and other third-parties to view, access, use, download, modify, adapt, reproduce, make derivative works of, publish and/or transmit your User Content in any format and on any platform, either now known or hereinafter invented.\n",
    "\n",
    "    You further grant us a royalty-free license to use your user name, image, voice, and likeness to identify you as the source of any of your User Content.\n",
    "\n",
    "    For the avoidance of doubt, the rights granted in the preceding paragraphs of this Section include, but are not limited to, the right to reproduce sound recordings (and make mechanical reproductions of the musical works embodied in such sound recordings), and publicly perform and communicate to the public sound recordings (and the musical works embodied therein), all on a royalty-free basis. This means that you are granting us the right to Use your User Content without the obligation to pay royalties to any third party, including, but not limited to, a sound recording copyright owner ( e.g. , a record label), a musical work copyright owner ( e.g. , a music publisher), a performing rights organization ( e.g. , ASCAP, BMI, SESAC, etc.) (a “ PRO ”), a sound recording PRO (e.g., SoundExchange), any unions or guilds, and engineers, producers or other royalty participants involved in the creation of User Content.\n",
    "\n",
    "Specific Rules for Musical Works and for Recording Artists. If you are a composer or author of a musical work and are affiliated with a [PRO], then you must notify your PRO of the royalty-free license you grant through these Terms in your User Content to us. You are solely responsible for ensuring your compliance with the relevant PRO’s reporting obligations. If you have assigned your rights to a music publisher, then you must obtain the consent of such music publisher to grant the royalty-free license(s) set forth in these Terms in your User Content or have such music publisher enter into these Terms with us. Just because you authored a musical work (e.g., wrote a song) does not mean you have the right to grant us the licenses in these Terms. If you are a recording artist under contract with a record label, then you are solely responsible for ensuring that your use of the Services is in compliance with any contractual obligations you may have to your record label, including if you create any new recordings through the Services that may be claimed by your label.\n",
    "\n",
    "Through-To-The-Audience Rights. All of the rights you grant in your User Content in these Terms are provided on a through-to-the-audience basis, meaning the owners or operators of third party services will not have any separate liability to you or any other third party for User Content posted or used on such third party service via the Services.\n",
    "\n",
    "Waiver of Rights to User Content. By posting User Content to or through the Services, you waive any rights to prior inspection or approval of any marketing or promotional materials related to such User Content. You also waive any and all rights of privacy, publicity, or any other rights of a similar nature in connection with your User Content, or any portion thereof. To the extent any moral rights are not transferable or assignable, you hereby waive and agree never to assert any and all moral rights, or to support, maintain or permit any action based on any moral rights that you may have in or with respect to any User Content you Post to or through the Services.\n",
    "\n",
    "In certain circumstances, we also have the right to disclose your identity to any third party who is claiming that any User Content posted or uploaded by you to our Services constitutes a violation of their intellectual property rights, or of their right to privacy.\n",
    "\n",
    "We, or authorised third parties, reserve the right to cut, crop, edit or refuse to publish, your content at our or their sole discretion. We have the right to remove, disallow, block or delete any posting you make on our Platform if, in our opinion, your post does not comply with the content standards set out at Section 5 (Your Use of Our Services) above. In addition, we have the right – but not the obligation – in our sole discretion to remove, disallow, block or delete any User Content (i) that we consider to violate these Terms, or (ii) in response to complaints from other users or third parties, with or without notice and without any liability to you. As a result, we recommend that you save copies of any User Content that you post to the Services on your personal device(s) in the event that you want to ensure that you have permanent access to copies of such User Content. We do not guarantee the accuracy, integrity, appropriateness or quality of any User Content, and under no circumstances will we be liable in any way for any User Content.\n",
    "\n",
    "You control whether your User Content is made publicly available on the Services to all other users of the Services or only available to people you approve. To change the default access setting for how your User Content is made available to other users, you should select the privacy setting available within the Apps.\n",
    "\n",
    "We accept no liability in respect of any content submitted by users and published by us or by authorised third parties.\n",
    "\n",
    "If you wish to complain about information and materials uploaded by other users, please contact us at reports@tiktok.com. \n",
    "\n",
    "TikTok takes reasonable measures to expeditiously remove from our Services any infringing material that we become aware of. It is TikTok’s policy, in appropriate circumstances and at its discretion, to disable or terminate the accounts of users of the Services who repeatedly infringe copyrights or intellectual property rights of others.\n",
    "\n",
    "While our own staff is continually working to develop and evaluate our own product ideas and features, we pride ourselves on paying close attention to the interests, feedback, comments, and suggestions we receive from the user community. If you choose to contribute by sending us or our employees any ideas for products, services, features, modifications, enhancements, content, refinements, technologies, content offerings (such as audio, visual, games, or other types of content), promotions, strategies, or product/feature names, or any related documentation, artwork, computer code, diagrams, or other materials (collectively “Feedback”), then regardless of what your accompanying communication may say, the following terms will apply, so that future misunderstandings can be avoided. Accordingly, by sending Feedback to us, you agree that:\n",
    "\n",
    "    we have no obligation to review, consider, or implement your Feedback, or to return to you all or part of any Feedback for any reason;\n",
    "\n",
    "    Feedback is provided on a non-confidential basis, and we are not under any obligation to keep any Feedback you send confidential or to refrain from using or disclosing it in any way;\n",
    "\n",
    "    and You irrevocably grant us perpetual and unlimited permission to reproduce, distribute, create derivative works of, modify, publicly perform (including on a through-to-the-audience basis), communicate to the public, make available, publicly display, and otherwise use and exploit the Feedback and derivatives thereof for any purpose and without restriction, free of charge and without attribution of any kind, including by making, using, selling, offering for sale, importing, and promoting commercial products and services that incorporate or embody Feedback, whether in whole or in part, and whether as provided or as modified.'''"
   ]
  },
  {
   "cell_type": "code",
   "execution_count": 7,
   "metadata": {},
   "outputs": [
    {
     "data": {
      "text/plain": [
       "11187"
      ]
     },
     "execution_count": 7,
     "metadata": {},
     "output_type": "execute_result"
    }
   ],
   "source": [
    "len(terms_US)"
   ]
  },
  {
   "cell_type": "code",
   "execution_count": 8,
   "metadata": {},
   "outputs": [
    {
     "data": {
      "text/plain": [
       "10938"
      ]
     },
     "execution_count": 8,
     "metadata": {},
     "output_type": "execute_result"
    }
   ],
   "source": [
    "len(terms_EU)"
   ]
  },
  {
   "cell_type": "code",
   "execution_count": 201,
   "metadata": {},
   "outputs": [
    {
     "ename": "AttributeError",
     "evalue": "'list' object has no attribute 'split'",
     "output_type": "error",
     "traceback": [
      "\u001b[0;31m---------------------------------------------------------------------------\u001b[0m",
      "\u001b[0;31mAttributeError\u001b[0m                            Traceback (most recent call last)",
      "\u001b[0;32m<ipython-input-201-7b5d236774e8>\u001b[0m in \u001b[0;36m<module>\u001b[0;34m\u001b[0m\n\u001b[0;32m----> 1\u001b[0;31m \u001b[0mterms_US\u001b[0m \u001b[0;34m=\u001b[0m \u001b[0mterms_US\u001b[0m\u001b[0;34m.\u001b[0m\u001b[0msplit\u001b[0m\u001b[0;34m(\u001b[0m\u001b[0;34m'\\n'\u001b[0m\u001b[0;34m)\u001b[0m\u001b[0;34m\u001b[0m\u001b[0;34m\u001b[0m\u001b[0m\n\u001b[0m\u001b[1;32m      2\u001b[0m \u001b[0mterms_US\u001b[0m \u001b[0;34m=\u001b[0m \u001b[0;34m[\u001b[0m\u001b[0mterm\u001b[0m \u001b[0;32mfor\u001b[0m \u001b[0mterm\u001b[0m \u001b[0;32min\u001b[0m \u001b[0mterms_US\u001b[0m \u001b[0;32mif\u001b[0m \u001b[0mterm\u001b[0m \u001b[0;34m!=\u001b[0m \u001b[0;34m''\u001b[0m\u001b[0;34m]\u001b[0m\u001b[0;34m\u001b[0m\u001b[0;34m\u001b[0m\u001b[0m\n",
      "\u001b[0;31mAttributeError\u001b[0m: 'list' object has no attribute 'split'"
     ]
    }
   ],
   "source": [
    "terms_US = terms_US.split('\\n')\n",
    "terms_US = [term for term in terms_US if term != '']"
   ]
  },
  {
   "cell_type": "code",
   "execution_count": 205,
   "metadata": {},
   "outputs": [
    {
     "ename": "AttributeError",
     "evalue": "'list' object has no attribute 'split'",
     "output_type": "error",
     "traceback": [
      "\u001b[0;31m---------------------------------------------------------------------------\u001b[0m",
      "\u001b[0;31mAttributeError\u001b[0m                            Traceback (most recent call last)",
      "\u001b[0;32m<ipython-input-205-a6d383357c9b>\u001b[0m in \u001b[0;36m<module>\u001b[0;34m\u001b[0m\n\u001b[0;32m----> 1\u001b[0;31m \u001b[0mterms_EU\u001b[0m \u001b[0;34m=\u001b[0m \u001b[0mterms_EU\u001b[0m\u001b[0;34m.\u001b[0m\u001b[0msplit\u001b[0m\u001b[0;34m(\u001b[0m\u001b[0;34m'\\n'\u001b[0m\u001b[0;34m)\u001b[0m\u001b[0;34m\u001b[0m\u001b[0;34m\u001b[0m\u001b[0m\n\u001b[0m",
      "\u001b[0;31mAttributeError\u001b[0m: 'list' object has no attribute 'split'"
     ]
    }
   ],
   "source": [
    "terms_EU = terms_EU.split('\\n')"
   ]
  },
  {
   "cell_type": "code",
   "execution_count": 76,
   "metadata": {},
   "outputs": [],
   "source": [
    "terms_EU = [term for term in terms_EU if term != '']"
   ]
  },
  {
   "cell_type": "code",
   "execution_count": 206,
   "metadata": {},
   "outputs": [],
   "source": [
    "import pickle\n",
    "tfidf_model = pickle.load(open('apps/tfidf.sav','rb'))\n",
    "loaded_model = pickle.load(open('apps/model.sav', 'rb'))\n",
    "#input_vectorized = tfidf_model.transform(pd.Series(term)).toarray()\n",
    "#classification = str(loaded_model.predict(input_vectorized))"
   ]
  },
  {
   "cell_type": "code",
   "execution_count": 207,
   "metadata": {},
   "outputs": [
    {
     "ename": "NotFittedError",
     "evalue": "This MultinomialNB instance is not fitted yet. Call 'fit' with appropriate arguments before using this estimator.",
     "output_type": "error",
     "traceback": [
      "\u001b[0;31m---------------------------------------------------------------------------\u001b[0m",
      "\u001b[0;31mNotFittedError\u001b[0m                            Traceback (most recent call last)",
      "\u001b[0;32m<ipython-input-207-1731ffeda938>\u001b[0m in \u001b[0;36m<module>\u001b[0;34m\u001b[0m\n\u001b[1;32m      2\u001b[0m \u001b[0;34m\u001b[0m\u001b[0m\n\u001b[1;32m      3\u001b[0m \u001b[0;32mfor\u001b[0m \u001b[0mterm\u001b[0m \u001b[0;32min\u001b[0m \u001b[0mterms_US\u001b[0m\u001b[0;34m:\u001b[0m\u001b[0;34m\u001b[0m\u001b[0;34m\u001b[0m\u001b[0m\n\u001b[0;32m----> 4\u001b[0;31m     \u001b[0mclassification_US\u001b[0m\u001b[0;34m.\u001b[0m\u001b[0mappend\u001b[0m\u001b[0;34m(\u001b[0m\u001b[0mstr\u001b[0m\u001b[0;34m(\u001b[0m\u001b[0mloaded_model\u001b[0m\u001b[0;34m.\u001b[0m\u001b[0mpredict\u001b[0m\u001b[0;34m(\u001b[0m\u001b[0mtfidf_model\u001b[0m\u001b[0;34m.\u001b[0m\u001b[0mtransform\u001b[0m\u001b[0;34m(\u001b[0m\u001b[0mpd\u001b[0m\u001b[0;34m.\u001b[0m\u001b[0mSeries\u001b[0m\u001b[0;34m(\u001b[0m\u001b[0mterm\u001b[0m\u001b[0;34m)\u001b[0m\u001b[0;34m)\u001b[0m\u001b[0;34m.\u001b[0m\u001b[0mtoarray\u001b[0m\u001b[0;34m(\u001b[0m\u001b[0;34m)\u001b[0m\u001b[0;34m)\u001b[0m\u001b[0;34m)\u001b[0m\u001b[0;34m)\u001b[0m\u001b[0;34m\u001b[0m\u001b[0;34m\u001b[0m\u001b[0m\n\u001b[0m",
      "\u001b[0;32m/anaconda3/lib/python3.7/site-packages/sklearn/naive_bayes.py\u001b[0m in \u001b[0;36mpredict\u001b[0;34m(self, X)\u001b[0m\n\u001b[1;32m     73\u001b[0m             \u001b[0mPredicted\u001b[0m \u001b[0mtarget\u001b[0m \u001b[0mvalues\u001b[0m \u001b[0;32mfor\u001b[0m \u001b[0mX\u001b[0m\u001b[0;34m\u001b[0m\u001b[0;34m\u001b[0m\u001b[0m\n\u001b[1;32m     74\u001b[0m         \"\"\"\n\u001b[0;32m---> 75\u001b[0;31m         \u001b[0mcheck_is_fitted\u001b[0m\u001b[0;34m(\u001b[0m\u001b[0mself\u001b[0m\u001b[0;34m)\u001b[0m\u001b[0;34m\u001b[0m\u001b[0;34m\u001b[0m\u001b[0m\n\u001b[0m\u001b[1;32m     76\u001b[0m         \u001b[0mX\u001b[0m \u001b[0;34m=\u001b[0m \u001b[0mself\u001b[0m\u001b[0;34m.\u001b[0m\u001b[0m_check_X\u001b[0m\u001b[0;34m(\u001b[0m\u001b[0mX\u001b[0m\u001b[0;34m)\u001b[0m\u001b[0;34m\u001b[0m\u001b[0;34m\u001b[0m\u001b[0m\n\u001b[1;32m     77\u001b[0m         \u001b[0mjll\u001b[0m \u001b[0;34m=\u001b[0m \u001b[0mself\u001b[0m\u001b[0;34m.\u001b[0m\u001b[0m_joint_log_likelihood\u001b[0m\u001b[0;34m(\u001b[0m\u001b[0mX\u001b[0m\u001b[0;34m)\u001b[0m\u001b[0;34m\u001b[0m\u001b[0;34m\u001b[0m\u001b[0m\n",
      "\u001b[0;32m/anaconda3/lib/python3.7/site-packages/sklearn/utils/validation.py\u001b[0m in \u001b[0;36mcheck_is_fitted\u001b[0;34m(estimator, attributes, msg, all_or_any)\u001b[0m\n\u001b[1;32m    965\u001b[0m \u001b[0;34m\u001b[0m\u001b[0m\n\u001b[1;32m    966\u001b[0m     \u001b[0;32mif\u001b[0m \u001b[0;32mnot\u001b[0m \u001b[0mattrs\u001b[0m\u001b[0;34m:\u001b[0m\u001b[0;34m\u001b[0m\u001b[0;34m\u001b[0m\u001b[0m\n\u001b[0;32m--> 967\u001b[0;31m         \u001b[0;32mraise\u001b[0m \u001b[0mNotFittedError\u001b[0m\u001b[0;34m(\u001b[0m\u001b[0mmsg\u001b[0m \u001b[0;34m%\u001b[0m \u001b[0;34m{\u001b[0m\u001b[0;34m'name'\u001b[0m\u001b[0;34m:\u001b[0m \u001b[0mtype\u001b[0m\u001b[0;34m(\u001b[0m\u001b[0mestimator\u001b[0m\u001b[0;34m)\u001b[0m\u001b[0;34m.\u001b[0m\u001b[0m__name__\u001b[0m\u001b[0;34m}\u001b[0m\u001b[0;34m)\u001b[0m\u001b[0;34m\u001b[0m\u001b[0;34m\u001b[0m\u001b[0m\n\u001b[0m\u001b[1;32m    968\u001b[0m \u001b[0;34m\u001b[0m\u001b[0m\n\u001b[1;32m    969\u001b[0m \u001b[0;34m\u001b[0m\u001b[0m\n",
      "\u001b[0;31mNotFittedError\u001b[0m: This MultinomialNB instance is not fitted yet. Call 'fit' with appropriate arguments before using this estimator."
     ]
    }
   ],
   "source": [
    "classification_US = []\n",
    "\n",
    "for term in terms_US:\n",
    "    classification_US.append(str(loaded_model.predict(tfidf_model.transform(pd.Series(term)).toarray())))"
   ]
  },
  {
   "cell_type": "code",
   "execution_count": 140,
   "metadata": {},
   "outputs": [],
   "source": [
    "classification_EU = []\n",
    "\n",
    "for term in terms_EU:\n",
    "    classification_EU.append(str(loaded_model.predict(tfidf_model.transform(pd.Series(term)).toarray())))"
   ]
  },
  {
   "cell_type": "code",
   "execution_count": 141,
   "metadata": {},
   "outputs": [
    {
     "data": {
      "text/html": [
       "<div>\n",
       "<style scoped>\n",
       "    .dataframe tbody tr th:only-of-type {\n",
       "        vertical-align: middle;\n",
       "    }\n",
       "\n",
       "    .dataframe tbody tr th {\n",
       "        vertical-align: top;\n",
       "    }\n",
       "\n",
       "    .dataframe thead th {\n",
       "        text-align: right;\n",
       "    }\n",
       "</style>\n",
       "<table border=\"1\" class=\"dataframe\">\n",
       "  <thead>\n",
       "    <tr style=\"text-align: right;\">\n",
       "      <th></th>\n",
       "      <th>US</th>\n",
       "      <th>EU</th>\n",
       "    </tr>\n",
       "  </thead>\n",
       "  <tbody>\n",
       "    <tr>\n",
       "      <td>0</td>\n",
       "      <td>['bad']</td>\n",
       "      <td>['bad']</td>\n",
       "    </tr>\n",
       "    <tr>\n",
       "      <td>1</td>\n",
       "      <td>['bad']</td>\n",
       "      <td>['bad']</td>\n",
       "    </tr>\n",
       "    <tr>\n",
       "      <td>2</td>\n",
       "      <td>['bad']</td>\n",
       "      <td>['bad']</td>\n",
       "    </tr>\n",
       "    <tr>\n",
       "      <td>3</td>\n",
       "      <td>['bad']</td>\n",
       "      <td>['bad']</td>\n",
       "    </tr>\n",
       "    <tr>\n",
       "      <td>4</td>\n",
       "      <td>['bad']</td>\n",
       "      <td>['bad']</td>\n",
       "    </tr>\n",
       "    <tr>\n",
       "      <td>5</td>\n",
       "      <td>['bad']</td>\n",
       "      <td>['bad']</td>\n",
       "    </tr>\n",
       "    <tr>\n",
       "      <td>6</td>\n",
       "      <td>['bad']</td>\n",
       "      <td>['bad']</td>\n",
       "    </tr>\n",
       "    <tr>\n",
       "      <td>7</td>\n",
       "      <td>['bad']</td>\n",
       "      <td>['bad']</td>\n",
       "    </tr>\n",
       "    <tr>\n",
       "      <td>8</td>\n",
       "      <td>['bad']</td>\n",
       "      <td>['bad']</td>\n",
       "    </tr>\n",
       "    <tr>\n",
       "      <td>9</td>\n",
       "      <td>['bad']</td>\n",
       "      <td>['bad']</td>\n",
       "    </tr>\n",
       "    <tr>\n",
       "      <td>10</td>\n",
       "      <td>['bad']</td>\n",
       "      <td>['bad']</td>\n",
       "    </tr>\n",
       "    <tr>\n",
       "      <td>11</td>\n",
       "      <td>['bad']</td>\n",
       "      <td>['bad']</td>\n",
       "    </tr>\n",
       "    <tr>\n",
       "      <td>12</td>\n",
       "      <td>['bad']</td>\n",
       "      <td>['bad']</td>\n",
       "    </tr>\n",
       "    <tr>\n",
       "      <td>13</td>\n",
       "      <td>['bad']</td>\n",
       "      <td>['bad']</td>\n",
       "    </tr>\n",
       "    <tr>\n",
       "      <td>14</td>\n",
       "      <td>['bad']</td>\n",
       "      <td>['bad']</td>\n",
       "    </tr>\n",
       "    <tr>\n",
       "      <td>15</td>\n",
       "      <td>['good']</td>\n",
       "      <td>['good']</td>\n",
       "    </tr>\n",
       "    <tr>\n",
       "      <td>16</td>\n",
       "      <td>['good']</td>\n",
       "      <td>['good']</td>\n",
       "    </tr>\n",
       "    <tr>\n",
       "      <td>17</td>\n",
       "      <td>['bad']</td>\n",
       "      <td>['bad']</td>\n",
       "    </tr>\n",
       "    <tr>\n",
       "      <td>18</td>\n",
       "      <td>['bad']</td>\n",
       "      <td>['bad']</td>\n",
       "    </tr>\n",
       "    <tr>\n",
       "      <td>19</td>\n",
       "      <td>['bad']</td>\n",
       "      <td>['bad']</td>\n",
       "    </tr>\n",
       "    <tr>\n",
       "      <td>20</td>\n",
       "      <td>['bad']</td>\n",
       "      <td>['bad']</td>\n",
       "    </tr>\n",
       "  </tbody>\n",
       "</table>\n",
       "</div>"
      ],
      "text/plain": [
       "          US        EU\n",
       "0    ['bad']   ['bad']\n",
       "1    ['bad']   ['bad']\n",
       "2    ['bad']   ['bad']\n",
       "3    ['bad']   ['bad']\n",
       "4    ['bad']   ['bad']\n",
       "5    ['bad']   ['bad']\n",
       "6    ['bad']   ['bad']\n",
       "7    ['bad']   ['bad']\n",
       "8    ['bad']   ['bad']\n",
       "9    ['bad']   ['bad']\n",
       "10   ['bad']   ['bad']\n",
       "11   ['bad']   ['bad']\n",
       "12   ['bad']   ['bad']\n",
       "13   ['bad']   ['bad']\n",
       "14   ['bad']   ['bad']\n",
       "15  ['good']  ['good']\n",
       "16  ['good']  ['good']\n",
       "17   ['bad']   ['bad']\n",
       "18   ['bad']   ['bad']\n",
       "19   ['bad']   ['bad']\n",
       "20   ['bad']   ['bad']"
      ]
     },
     "execution_count": 141,
     "metadata": {},
     "output_type": "execute_result"
    }
   ],
   "source": [
    "pd.DataFrame([classification_US,classification_EU],index=['US','EU']).T"
   ]
  },
  {
   "cell_type": "code",
   "execution_count": null,
   "metadata": {},
   "outputs": [],
   "source": []
  }
 ],
 "metadata": {
  "kernelspec": {
   "display_name": "Python 3",
   "language": "python",
   "name": "python3"
  },
  "language_info": {
   "codemirror_mode": {
    "name": "ipython",
    "version": 3
   },
   "file_extension": ".py",
   "mimetype": "text/x-python",
   "name": "python",
   "nbconvert_exporter": "python",
   "pygments_lexer": "ipython3",
   "version": "3.7.4"
  }
 },
 "nbformat": 4,
 "nbformat_minor": 2
}
