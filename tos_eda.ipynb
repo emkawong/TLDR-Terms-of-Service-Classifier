{
 "cells": [
  {
   "cell_type": "code",
   "execution_count": 39,
   "metadata": {},
   "outputs": [
    {
     "name": "stdout",
     "output_type": "stream",
     "text": [
      "The autoreload extension is already loaded. To reload it, use:\n",
      "  %reload_ext autoreload\n"
     ]
    }
   ],
   "source": [
    "%load_ext autoreload\n",
    "%autoreload 2"
   ]
  },
  {
   "cell_type": "markdown",
   "metadata": {},
   "source": [
    "# Imports"
   ]
  },
  {
   "cell_type": "code",
   "execution_count": 40,
   "metadata": {},
   "outputs": [],
   "source": [
    "# the usual imports\n",
    "import numpy as np\n",
    "import pandas as pd\n",
    "import seaborn as sns\n",
    "import matplotlib.pyplot as plt\n",
    "from collections import Counter\n",
    "# nlp imports\n",
    "from nltk.corpus import stopwords\n",
    "from sklearn.feature_extraction.text import CountVectorizer,TfidfVectorizer\n",
    "# model imports\n",
    "from sklearn.model_selection import train_test_split\n",
    "from sklearn.naive_bayes import GaussianNB,MultinomialNB,ComplementNB\n",
    "from sklearn.linear_model import LogisticRegression,LogisticRegressionCV\n",
    "from sklearn.ensemble import RandomForestClassifier, GradientBoostingClassifier\n",
    "# metric imports\n",
    "from sklearn.metrics import roc_curve, auc\n",
    "from sklearn.multiclass import OneVsRestClassifier\n",
    "from sklearn.preprocessing import label_binarize"
   ]
  },
  {
   "cell_type": "code",
   "execution_count": 395,
   "metadata": {},
   "outputs": [],
   "source": [
    "from apps.tosclassifier import *"
   ]
  },
  {
   "cell_type": "markdown",
   "metadata": {},
   "source": [
    "# Create Master DF\n",
    "\n",
    "## Data Cleaning\n",
    "\n",
    "All of the data for ToS;DR is stored in a directory of different json files, each labeled with a different company name. "
   ]
  },
  {
   "cell_type": "code",
   "execution_count": 406,
   "metadata": {},
   "outputs": [],
   "source": [
    "cleaner = ToS_DataCleaner('../tosdr.org/api/1/service')"
   ]
  },
  {
   "cell_type": "code",
   "execution_count": 408,
   "metadata": {},
   "outputs": [],
   "source": [
    "companies = pd.Series()"
   ]
  },
  {
   "cell_type": "code",
   "execution_count": 414,
   "metadata": {},
   "outputs": [
    {
     "ename": "AttributeError",
     "evalue": "'list' object has no attribute 'to_csv'",
     "output_type": "error",
     "traceback": [
      "\u001b[0;31m---------------------------------------------------------------------------\u001b[0m",
      "\u001b[0;31mAttributeError\u001b[0m                            Traceback (most recent call last)",
      "\u001b[0;32m<ipython-input-414-644ee36550e2>\u001b[0m in \u001b[0;36m<module>\u001b[0;34m\u001b[0m\n\u001b[0;32m----> 1\u001b[0;31m \u001b[0mcompanies\u001b[0m\u001b[0;34m.\u001b[0m\u001b[0mto_csv\u001b[0m\u001b[0;34m(\u001b[0m\u001b[0;34m'apps/companies_df.csv'\u001b[0m\u001b[0;34m)\u001b[0m\u001b[0;34m\u001b[0m\u001b[0;34m\u001b[0m\u001b[0m\n\u001b[0m",
      "\u001b[0;31mAttributeError\u001b[0m: 'list' object has no attribute 'to_csv'"
     ]
    }
   ],
   "source": [
    "companies.to_csv('apps/companies_df.csv')"
   ]
  },
  {
   "cell_type": "code",
   "execution_count": 409,
   "metadata": {},
   "outputs": [],
   "source": [
    "df = cleaner.create_df()"
   ]
  },
  {
   "cell_type": "code",
   "execution_count": 413,
   "metadata": {},
   "outputs": [],
   "source": [
    "df.to_csv('apps/tos_df.csv')"
   ]
  },
  {
   "cell_type": "code",
   "execution_count": 410,
   "metadata": {},
   "outputs": [],
   "source": [
    "tos = ToS_Classifier(df)"
   ]
  },
  {
   "cell_type": "code",
   "execution_count": 412,
   "metadata": {},
   "outputs": [],
   "source": [
    "X,y = tos.get_data()"
   ]
  },
  {
   "cell_type": "code",
   "execution_count": 389,
   "metadata": {},
   "outputs": [],
   "source": [
    "X = tos.vectorize_text(X,companies,new_X=None,y=None,cross_validate=False)"
   ]
  },
  {
   "cell_type": "code",
   "execution_count": 381,
   "metadata": {},
   "outputs": [
    {
     "ename": "KeyboardInterrupt",
     "evalue": "",
     "output_type": "error",
     "traceback": [
      "\u001b[0;31m---------------------------------------------------------------------------\u001b[0m",
      "\u001b[0;31mKeyboardInterrupt\u001b[0m                         Traceback (most recent call last)",
      "\u001b[0;32m<ipython-input-381-d0672470fe11>\u001b[0m in \u001b[0;36m<module>\u001b[0;34m\u001b[0m\n\u001b[0;32m----> 1\u001b[0;31m \u001b[0mtos\u001b[0m\u001b[0;34m.\u001b[0m\u001b[0mensemble_fit\u001b[0m\u001b[0;34m(\u001b[0m\u001b[0mX\u001b[0m\u001b[0;34m,\u001b[0m\u001b[0my\u001b[0m\u001b[0;34m)\u001b[0m\u001b[0;34m\u001b[0m\u001b[0;34m\u001b[0m\u001b[0m\n\u001b[0m",
      "\u001b[0;32m~/gal/capstone2/capstone2/apps/tosclassifier.py\u001b[0m in \u001b[0;36mensemble_fit\u001b[0;34m(self, X_vectorized, y, model_1, model_2)\u001b[0m\n\u001b[1;32m    111\u001b[0m         \u001b[0mself\u001b[0m\u001b[0;34m.\u001b[0m\u001b[0mmodel_2\u001b[0m \u001b[0;34m=\u001b[0m \u001b[0mmodel_2\u001b[0m\u001b[0;34m\u001b[0m\u001b[0;34m\u001b[0m\u001b[0m\n\u001b[1;32m    112\u001b[0m         \u001b[0mself\u001b[0m\u001b[0;34m.\u001b[0m\u001b[0mmodel_1\u001b[0m\u001b[0;34m.\u001b[0m\u001b[0mfit\u001b[0m\u001b[0;34m(\u001b[0m\u001b[0mX_vectorized\u001b[0m\u001b[0;34m,\u001b[0m\u001b[0my\u001b[0m\u001b[0;34m)\u001b[0m\u001b[0;34m\u001b[0m\u001b[0;34m\u001b[0m\u001b[0m\n\u001b[0;32m--> 113\u001b[0;31m         \u001b[0mself\u001b[0m\u001b[0;34m.\u001b[0m\u001b[0mmodel_2\u001b[0m\u001b[0;34m.\u001b[0m\u001b[0mfit\u001b[0m\u001b[0;34m(\u001b[0m\u001b[0mX_vectorized\u001b[0m\u001b[0;34m,\u001b[0m\u001b[0my\u001b[0m\u001b[0;34m)\u001b[0m\u001b[0;34m\u001b[0m\u001b[0;34m\u001b[0m\u001b[0m\n\u001b[0m\u001b[1;32m    114\u001b[0m \u001b[0;34m\u001b[0m\u001b[0m\n\u001b[1;32m    115\u001b[0m     \u001b[0;32mdef\u001b[0m \u001b[0mclean_tos\u001b[0m\u001b[0;34m(\u001b[0m\u001b[0mself\u001b[0m\u001b[0;34m,\u001b[0m\u001b[0mX\u001b[0m\u001b[0;34m,\u001b[0m\u001b[0mnew_X\u001b[0m\u001b[0;34m)\u001b[0m\u001b[0;34m:\u001b[0m\u001b[0;34m\u001b[0m\u001b[0;34m\u001b[0m\u001b[0m\n",
      "\u001b[0;32m/anaconda3/lib/python3.7/site-packages/sklearn/linear_model/_logistic.py\u001b[0m in \u001b[0;36mfit\u001b[0;34m(self, X, y, sample_weight)\u001b[0m\n\u001b[1;32m   2083\u001b[0m                       \u001b[0ml1_ratio\u001b[0m\u001b[0;34m=\u001b[0m\u001b[0ml1_ratio\u001b[0m\u001b[0;34m\u001b[0m\u001b[0;34m\u001b[0m\u001b[0m\n\u001b[1;32m   2084\u001b[0m                       )\n\u001b[0;32m-> 2085\u001b[0;31m             \u001b[0;32mfor\u001b[0m \u001b[0mlabel\u001b[0m \u001b[0;32min\u001b[0m \u001b[0miter_encoded_labels\u001b[0m\u001b[0;34m\u001b[0m\u001b[0;34m\u001b[0m\u001b[0m\n\u001b[0m\u001b[1;32m   2086\u001b[0m             \u001b[0;32mfor\u001b[0m \u001b[0mtrain\u001b[0m\u001b[0;34m,\u001b[0m \u001b[0mtest\u001b[0m \u001b[0;32min\u001b[0m \u001b[0mfolds\u001b[0m\u001b[0;34m\u001b[0m\u001b[0;34m\u001b[0m\u001b[0m\n\u001b[1;32m   2087\u001b[0m             for l1_ratio in l1_ratios_)\n",
      "\u001b[0;32m/anaconda3/lib/python3.7/site-packages/joblib/parallel.py\u001b[0m in \u001b[0;36m__call__\u001b[0;34m(self, iterable)\u001b[0m\n\u001b[1;32m   1002\u001b[0m             \u001b[0;31m# remaining jobs.\u001b[0m\u001b[0;34m\u001b[0m\u001b[0;34m\u001b[0m\u001b[0;34m\u001b[0m\u001b[0m\n\u001b[1;32m   1003\u001b[0m             \u001b[0mself\u001b[0m\u001b[0;34m.\u001b[0m\u001b[0m_iterating\u001b[0m \u001b[0;34m=\u001b[0m \u001b[0;32mFalse\u001b[0m\u001b[0;34m\u001b[0m\u001b[0;34m\u001b[0m\u001b[0m\n\u001b[0;32m-> 1004\u001b[0;31m             \u001b[0;32mif\u001b[0m \u001b[0mself\u001b[0m\u001b[0;34m.\u001b[0m\u001b[0mdispatch_one_batch\u001b[0m\u001b[0;34m(\u001b[0m\u001b[0miterator\u001b[0m\u001b[0;34m)\u001b[0m\u001b[0;34m:\u001b[0m\u001b[0;34m\u001b[0m\u001b[0;34m\u001b[0m\u001b[0m\n\u001b[0m\u001b[1;32m   1005\u001b[0m                 \u001b[0mself\u001b[0m\u001b[0;34m.\u001b[0m\u001b[0m_iterating\u001b[0m \u001b[0;34m=\u001b[0m \u001b[0mself\u001b[0m\u001b[0;34m.\u001b[0m\u001b[0m_original_iterator\u001b[0m \u001b[0;32mis\u001b[0m \u001b[0;32mnot\u001b[0m \u001b[0;32mNone\u001b[0m\u001b[0;34m\u001b[0m\u001b[0;34m\u001b[0m\u001b[0m\n\u001b[1;32m   1006\u001b[0m \u001b[0;34m\u001b[0m\u001b[0m\n",
      "\u001b[0;32m/anaconda3/lib/python3.7/site-packages/joblib/parallel.py\u001b[0m in \u001b[0;36mdispatch_one_batch\u001b[0;34m(self, iterator)\u001b[0m\n\u001b[1;32m    833\u001b[0m                 \u001b[0;32mreturn\u001b[0m \u001b[0;32mFalse\u001b[0m\u001b[0;34m\u001b[0m\u001b[0;34m\u001b[0m\u001b[0m\n\u001b[1;32m    834\u001b[0m             \u001b[0;32melse\u001b[0m\u001b[0;34m:\u001b[0m\u001b[0;34m\u001b[0m\u001b[0;34m\u001b[0m\u001b[0m\n\u001b[0;32m--> 835\u001b[0;31m                 \u001b[0mself\u001b[0m\u001b[0;34m.\u001b[0m\u001b[0m_dispatch\u001b[0m\u001b[0;34m(\u001b[0m\u001b[0mtasks\u001b[0m\u001b[0;34m)\u001b[0m\u001b[0;34m\u001b[0m\u001b[0;34m\u001b[0m\u001b[0m\n\u001b[0m\u001b[1;32m    836\u001b[0m                 \u001b[0;32mreturn\u001b[0m \u001b[0;32mTrue\u001b[0m\u001b[0;34m\u001b[0m\u001b[0;34m\u001b[0m\u001b[0m\n\u001b[1;32m    837\u001b[0m \u001b[0;34m\u001b[0m\u001b[0m\n",
      "\u001b[0;32m/anaconda3/lib/python3.7/site-packages/joblib/parallel.py\u001b[0m in \u001b[0;36m_dispatch\u001b[0;34m(self, batch)\u001b[0m\n\u001b[1;32m    752\u001b[0m         \u001b[0;32mwith\u001b[0m \u001b[0mself\u001b[0m\u001b[0;34m.\u001b[0m\u001b[0m_lock\u001b[0m\u001b[0;34m:\u001b[0m\u001b[0;34m\u001b[0m\u001b[0;34m\u001b[0m\u001b[0m\n\u001b[1;32m    753\u001b[0m             \u001b[0mjob_idx\u001b[0m \u001b[0;34m=\u001b[0m \u001b[0mlen\u001b[0m\u001b[0;34m(\u001b[0m\u001b[0mself\u001b[0m\u001b[0;34m.\u001b[0m\u001b[0m_jobs\u001b[0m\u001b[0;34m)\u001b[0m\u001b[0;34m\u001b[0m\u001b[0;34m\u001b[0m\u001b[0m\n\u001b[0;32m--> 754\u001b[0;31m             \u001b[0mjob\u001b[0m \u001b[0;34m=\u001b[0m \u001b[0mself\u001b[0m\u001b[0;34m.\u001b[0m\u001b[0m_backend\u001b[0m\u001b[0;34m.\u001b[0m\u001b[0mapply_async\u001b[0m\u001b[0;34m(\u001b[0m\u001b[0mbatch\u001b[0m\u001b[0;34m,\u001b[0m \u001b[0mcallback\u001b[0m\u001b[0;34m=\u001b[0m\u001b[0mcb\u001b[0m\u001b[0;34m)\u001b[0m\u001b[0;34m\u001b[0m\u001b[0;34m\u001b[0m\u001b[0m\n\u001b[0m\u001b[1;32m    755\u001b[0m             \u001b[0;31m# A job can complete so quickly than its callback is\u001b[0m\u001b[0;34m\u001b[0m\u001b[0;34m\u001b[0m\u001b[0;34m\u001b[0m\u001b[0m\n\u001b[1;32m    756\u001b[0m             \u001b[0;31m# called before we get here, causing self._jobs to\u001b[0m\u001b[0;34m\u001b[0m\u001b[0;34m\u001b[0m\u001b[0;34m\u001b[0m\u001b[0m\n",
      "\u001b[0;32m/anaconda3/lib/python3.7/site-packages/joblib/_parallel_backends.py\u001b[0m in \u001b[0;36mapply_async\u001b[0;34m(self, func, callback)\u001b[0m\n\u001b[1;32m    207\u001b[0m     \u001b[0;32mdef\u001b[0m \u001b[0mapply_async\u001b[0m\u001b[0;34m(\u001b[0m\u001b[0mself\u001b[0m\u001b[0;34m,\u001b[0m \u001b[0mfunc\u001b[0m\u001b[0;34m,\u001b[0m \u001b[0mcallback\u001b[0m\u001b[0;34m=\u001b[0m\u001b[0;32mNone\u001b[0m\u001b[0;34m)\u001b[0m\u001b[0;34m:\u001b[0m\u001b[0;34m\u001b[0m\u001b[0;34m\u001b[0m\u001b[0m\n\u001b[1;32m    208\u001b[0m         \u001b[0;34m\"\"\"Schedule a func to be run\"\"\"\u001b[0m\u001b[0;34m\u001b[0m\u001b[0;34m\u001b[0m\u001b[0m\n\u001b[0;32m--> 209\u001b[0;31m         \u001b[0mresult\u001b[0m \u001b[0;34m=\u001b[0m \u001b[0mImmediateResult\u001b[0m\u001b[0;34m(\u001b[0m\u001b[0mfunc\u001b[0m\u001b[0;34m)\u001b[0m\u001b[0;34m\u001b[0m\u001b[0;34m\u001b[0m\u001b[0m\n\u001b[0m\u001b[1;32m    210\u001b[0m         \u001b[0;32mif\u001b[0m \u001b[0mcallback\u001b[0m\u001b[0;34m:\u001b[0m\u001b[0;34m\u001b[0m\u001b[0;34m\u001b[0m\u001b[0m\n\u001b[1;32m    211\u001b[0m             \u001b[0mcallback\u001b[0m\u001b[0;34m(\u001b[0m\u001b[0mresult\u001b[0m\u001b[0;34m)\u001b[0m\u001b[0;34m\u001b[0m\u001b[0;34m\u001b[0m\u001b[0m\n",
      "\u001b[0;32m/anaconda3/lib/python3.7/site-packages/joblib/_parallel_backends.py\u001b[0m in \u001b[0;36m__init__\u001b[0;34m(self, batch)\u001b[0m\n\u001b[1;32m    588\u001b[0m         \u001b[0;31m# Don't delay the application, to avoid keeping the input\u001b[0m\u001b[0;34m\u001b[0m\u001b[0;34m\u001b[0m\u001b[0;34m\u001b[0m\u001b[0m\n\u001b[1;32m    589\u001b[0m         \u001b[0;31m# arguments in memory\u001b[0m\u001b[0;34m\u001b[0m\u001b[0;34m\u001b[0m\u001b[0;34m\u001b[0m\u001b[0m\n\u001b[0;32m--> 590\u001b[0;31m         \u001b[0mself\u001b[0m\u001b[0;34m.\u001b[0m\u001b[0mresults\u001b[0m \u001b[0;34m=\u001b[0m \u001b[0mbatch\u001b[0m\u001b[0;34m(\u001b[0m\u001b[0;34m)\u001b[0m\u001b[0;34m\u001b[0m\u001b[0;34m\u001b[0m\u001b[0m\n\u001b[0m\u001b[1;32m    591\u001b[0m \u001b[0;34m\u001b[0m\u001b[0m\n\u001b[1;32m    592\u001b[0m     \u001b[0;32mdef\u001b[0m \u001b[0mget\u001b[0m\u001b[0;34m(\u001b[0m\u001b[0mself\u001b[0m\u001b[0;34m)\u001b[0m\u001b[0;34m:\u001b[0m\u001b[0;34m\u001b[0m\u001b[0;34m\u001b[0m\u001b[0m\n",
      "\u001b[0;32m/anaconda3/lib/python3.7/site-packages/joblib/parallel.py\u001b[0m in \u001b[0;36m__call__\u001b[0;34m(self)\u001b[0m\n\u001b[1;32m    254\u001b[0m         \u001b[0;32mwith\u001b[0m \u001b[0mparallel_backend\u001b[0m\u001b[0;34m(\u001b[0m\u001b[0mself\u001b[0m\u001b[0;34m.\u001b[0m\u001b[0m_backend\u001b[0m\u001b[0;34m,\u001b[0m \u001b[0mn_jobs\u001b[0m\u001b[0;34m=\u001b[0m\u001b[0mself\u001b[0m\u001b[0;34m.\u001b[0m\u001b[0m_n_jobs\u001b[0m\u001b[0;34m)\u001b[0m\u001b[0;34m:\u001b[0m\u001b[0;34m\u001b[0m\u001b[0;34m\u001b[0m\u001b[0m\n\u001b[1;32m    255\u001b[0m             return [func(*args, **kwargs)\n\u001b[0;32m--> 256\u001b[0;31m                     for func, args, kwargs in self.items]\n\u001b[0m\u001b[1;32m    257\u001b[0m \u001b[0;34m\u001b[0m\u001b[0m\n\u001b[1;32m    258\u001b[0m     \u001b[0;32mdef\u001b[0m \u001b[0m__len__\u001b[0m\u001b[0;34m(\u001b[0m\u001b[0mself\u001b[0m\u001b[0;34m)\u001b[0m\u001b[0;34m:\u001b[0m\u001b[0;34m\u001b[0m\u001b[0;34m\u001b[0m\u001b[0m\n",
      "\u001b[0;32m/anaconda3/lib/python3.7/site-packages/joblib/parallel.py\u001b[0m in \u001b[0;36m<listcomp>\u001b[0;34m(.0)\u001b[0m\n\u001b[1;32m    254\u001b[0m         \u001b[0;32mwith\u001b[0m \u001b[0mparallel_backend\u001b[0m\u001b[0;34m(\u001b[0m\u001b[0mself\u001b[0m\u001b[0;34m.\u001b[0m\u001b[0m_backend\u001b[0m\u001b[0;34m,\u001b[0m \u001b[0mn_jobs\u001b[0m\u001b[0;34m=\u001b[0m\u001b[0mself\u001b[0m\u001b[0;34m.\u001b[0m\u001b[0m_n_jobs\u001b[0m\u001b[0;34m)\u001b[0m\u001b[0;34m:\u001b[0m\u001b[0;34m\u001b[0m\u001b[0;34m\u001b[0m\u001b[0m\n\u001b[1;32m    255\u001b[0m             return [func(*args, **kwargs)\n\u001b[0;32m--> 256\u001b[0;31m                     for func, args, kwargs in self.items]\n\u001b[0m\u001b[1;32m    257\u001b[0m \u001b[0;34m\u001b[0m\u001b[0m\n\u001b[1;32m    258\u001b[0m     \u001b[0;32mdef\u001b[0m \u001b[0m__len__\u001b[0m\u001b[0;34m(\u001b[0m\u001b[0mself\u001b[0m\u001b[0;34m)\u001b[0m\u001b[0;34m:\u001b[0m\u001b[0;34m\u001b[0m\u001b[0;34m\u001b[0m\u001b[0m\n",
      "\u001b[0;32m/anaconda3/lib/python3.7/site-packages/sklearn/linear_model/_logistic.py\u001b[0m in \u001b[0;36m_log_reg_scoring_path\u001b[0;34m(X, y, train, test, pos_class, Cs, scoring, fit_intercept, max_iter, tol, class_weight, verbose, solver, penalty, dual, intercept_scaling, multi_class, random_state, max_squared_sum, sample_weight, l1_ratio)\u001b[0m\n\u001b[1;32m   1150\u001b[0m         \u001b[0mpenalty\u001b[0m\u001b[0;34m=\u001b[0m\u001b[0mpenalty\u001b[0m\u001b[0;34m,\u001b[0m \u001b[0mintercept_scaling\u001b[0m\u001b[0;34m=\u001b[0m\u001b[0mintercept_scaling\u001b[0m\u001b[0;34m,\u001b[0m\u001b[0;34m\u001b[0m\u001b[0;34m\u001b[0m\u001b[0m\n\u001b[1;32m   1151\u001b[0m         \u001b[0mrandom_state\u001b[0m\u001b[0;34m=\u001b[0m\u001b[0mrandom_state\u001b[0m\u001b[0;34m,\u001b[0m \u001b[0mcheck_input\u001b[0m\u001b[0;34m=\u001b[0m\u001b[0;32mFalse\u001b[0m\u001b[0;34m,\u001b[0m\u001b[0;34m\u001b[0m\u001b[0;34m\u001b[0m\u001b[0m\n\u001b[0;32m-> 1152\u001b[0;31m         max_squared_sum=max_squared_sum, sample_weight=sample_weight)\n\u001b[0m\u001b[1;32m   1153\u001b[0m \u001b[0;34m\u001b[0m\u001b[0m\n\u001b[1;32m   1154\u001b[0m     \u001b[0mlog_reg\u001b[0m \u001b[0;34m=\u001b[0m \u001b[0mLogisticRegression\u001b[0m\u001b[0;34m(\u001b[0m\u001b[0msolver\u001b[0m\u001b[0;34m=\u001b[0m\u001b[0msolver\u001b[0m\u001b[0;34m,\u001b[0m \u001b[0mmulti_class\u001b[0m\u001b[0;34m=\u001b[0m\u001b[0mmulti_class\u001b[0m\u001b[0;34m)\u001b[0m\u001b[0;34m\u001b[0m\u001b[0;34m\u001b[0m\u001b[0m\n",
      "\u001b[0;32m/anaconda3/lib/python3.7/site-packages/sklearn/linear_model/_logistic.py\u001b[0m in \u001b[0;36m_logistic_regression_path\u001b[0;34m(X, y, pos_class, Cs, fit_intercept, max_iter, tol, verbose, solver, coef, class_weight, dual, penalty, intercept_scaling, multi_class, random_state, check_input, max_squared_sum, sample_weight, l1_ratio)\u001b[0m\n\u001b[1;32m    934\u001b[0m                 \u001b[0mfunc\u001b[0m\u001b[0;34m,\u001b[0m \u001b[0mw0\u001b[0m\u001b[0;34m,\u001b[0m \u001b[0mmethod\u001b[0m\u001b[0;34m=\u001b[0m\u001b[0;34m\"L-BFGS-B\"\u001b[0m\u001b[0;34m,\u001b[0m \u001b[0mjac\u001b[0m\u001b[0;34m=\u001b[0m\u001b[0;32mTrue\u001b[0m\u001b[0;34m,\u001b[0m\u001b[0;34m\u001b[0m\u001b[0;34m\u001b[0m\u001b[0m\n\u001b[1;32m    935\u001b[0m                 \u001b[0margs\u001b[0m\u001b[0;34m=\u001b[0m\u001b[0;34m(\u001b[0m\u001b[0mX\u001b[0m\u001b[0;34m,\u001b[0m \u001b[0mtarget\u001b[0m\u001b[0;34m,\u001b[0m \u001b[0;36m1.\u001b[0m \u001b[0;34m/\u001b[0m \u001b[0mC\u001b[0m\u001b[0;34m,\u001b[0m \u001b[0msample_weight\u001b[0m\u001b[0;34m)\u001b[0m\u001b[0;34m,\u001b[0m\u001b[0;34m\u001b[0m\u001b[0;34m\u001b[0m\u001b[0m\n\u001b[0;32m--> 936\u001b[0;31m                 \u001b[0moptions\u001b[0m\u001b[0;34m=\u001b[0m\u001b[0;34m{\u001b[0m\u001b[0;34m\"iprint\"\u001b[0m\u001b[0;34m:\u001b[0m \u001b[0miprint\u001b[0m\u001b[0;34m,\u001b[0m \u001b[0;34m\"gtol\"\u001b[0m\u001b[0;34m:\u001b[0m \u001b[0mtol\u001b[0m\u001b[0;34m,\u001b[0m \u001b[0;34m\"maxiter\"\u001b[0m\u001b[0;34m:\u001b[0m \u001b[0mmax_iter\u001b[0m\u001b[0;34m}\u001b[0m\u001b[0;34m\u001b[0m\u001b[0;34m\u001b[0m\u001b[0m\n\u001b[0m\u001b[1;32m    937\u001b[0m             )\n\u001b[1;32m    938\u001b[0m             n_iter_i = _check_optimize_result(\n",
      "\u001b[0;32m/anaconda3/lib/python3.7/site-packages/scipy/optimize/_minimize.py\u001b[0m in \u001b[0;36mminimize\u001b[0;34m(fun, x0, args, method, jac, hess, hessp, bounds, constraints, tol, callback, options)\u001b[0m\n\u001b[1;32m    608\u001b[0m     \u001b[0;32melif\u001b[0m \u001b[0mmeth\u001b[0m \u001b[0;34m==\u001b[0m \u001b[0;34m'l-bfgs-b'\u001b[0m\u001b[0;34m:\u001b[0m\u001b[0;34m\u001b[0m\u001b[0;34m\u001b[0m\u001b[0m\n\u001b[1;32m    609\u001b[0m         return _minimize_lbfgsb(fun, x0, args, jac, bounds,\n\u001b[0;32m--> 610\u001b[0;31m                                 callback=callback, **options)\n\u001b[0m\u001b[1;32m    611\u001b[0m     \u001b[0;32melif\u001b[0m \u001b[0mmeth\u001b[0m \u001b[0;34m==\u001b[0m \u001b[0;34m'tnc'\u001b[0m\u001b[0;34m:\u001b[0m\u001b[0;34m\u001b[0m\u001b[0;34m\u001b[0m\u001b[0m\n\u001b[1;32m    612\u001b[0m         return _minimize_tnc(fun, x0, args, jac, bounds, callback=callback,\n",
      "\u001b[0;32m/anaconda3/lib/python3.7/site-packages/scipy/optimize/lbfgsb.py\u001b[0m in \u001b[0;36m_minimize_lbfgsb\u001b[0;34m(fun, x0, args, jac, bounds, disp, maxcor, ftol, gtol, eps, maxfun, maxiter, iprint, callback, maxls, **unknown_options)\u001b[0m\n\u001b[1;32m    343\u001b[0m             \u001b[0;31m# until the completion of the current minimization iteration.\u001b[0m\u001b[0;34m\u001b[0m\u001b[0;34m\u001b[0m\u001b[0;34m\u001b[0m\u001b[0m\n\u001b[1;32m    344\u001b[0m             \u001b[0;31m# Overwrite f and g:\u001b[0m\u001b[0;34m\u001b[0m\u001b[0;34m\u001b[0m\u001b[0;34m\u001b[0m\u001b[0m\n\u001b[0;32m--> 345\u001b[0;31m             \u001b[0mf\u001b[0m\u001b[0;34m,\u001b[0m \u001b[0mg\u001b[0m \u001b[0;34m=\u001b[0m \u001b[0mfunc_and_grad\u001b[0m\u001b[0;34m(\u001b[0m\u001b[0mx\u001b[0m\u001b[0;34m)\u001b[0m\u001b[0;34m\u001b[0m\u001b[0;34m\u001b[0m\u001b[0m\n\u001b[0m\u001b[1;32m    346\u001b[0m         \u001b[0;32melif\u001b[0m \u001b[0mtask_str\u001b[0m\u001b[0;34m.\u001b[0m\u001b[0mstartswith\u001b[0m\u001b[0;34m(\u001b[0m\u001b[0;34mb'NEW_X'\u001b[0m\u001b[0;34m)\u001b[0m\u001b[0;34m:\u001b[0m\u001b[0;34m\u001b[0m\u001b[0;34m\u001b[0m\u001b[0m\n\u001b[1;32m    347\u001b[0m             \u001b[0;31m# new iteration\u001b[0m\u001b[0;34m\u001b[0m\u001b[0;34m\u001b[0m\u001b[0;34m\u001b[0m\u001b[0m\n",
      "\u001b[0;32m/anaconda3/lib/python3.7/site-packages/scipy/optimize/lbfgsb.py\u001b[0m in \u001b[0;36mfunc_and_grad\u001b[0;34m(x)\u001b[0m\n\u001b[1;32m    293\u001b[0m     \u001b[0;32melse\u001b[0m\u001b[0;34m:\u001b[0m\u001b[0;34m\u001b[0m\u001b[0;34m\u001b[0m\u001b[0m\n\u001b[1;32m    294\u001b[0m         \u001b[0;32mdef\u001b[0m \u001b[0mfunc_and_grad\u001b[0m\u001b[0;34m(\u001b[0m\u001b[0mx\u001b[0m\u001b[0;34m)\u001b[0m\u001b[0;34m:\u001b[0m\u001b[0;34m\u001b[0m\u001b[0;34m\u001b[0m\u001b[0m\n\u001b[0;32m--> 295\u001b[0;31m             \u001b[0mf\u001b[0m \u001b[0;34m=\u001b[0m \u001b[0mfun\u001b[0m\u001b[0;34m(\u001b[0m\u001b[0mx\u001b[0m\u001b[0;34m,\u001b[0m \u001b[0;34m*\u001b[0m\u001b[0margs\u001b[0m\u001b[0;34m)\u001b[0m\u001b[0;34m\u001b[0m\u001b[0;34m\u001b[0m\u001b[0m\n\u001b[0m\u001b[1;32m    296\u001b[0m             \u001b[0mg\u001b[0m \u001b[0;34m=\u001b[0m \u001b[0mjac\u001b[0m\u001b[0;34m(\u001b[0m\u001b[0mx\u001b[0m\u001b[0;34m,\u001b[0m \u001b[0;34m*\u001b[0m\u001b[0margs\u001b[0m\u001b[0;34m)\u001b[0m\u001b[0;34m\u001b[0m\u001b[0;34m\u001b[0m\u001b[0m\n\u001b[1;32m    297\u001b[0m             \u001b[0;32mreturn\u001b[0m \u001b[0mf\u001b[0m\u001b[0;34m,\u001b[0m \u001b[0mg\u001b[0m\u001b[0;34m\u001b[0m\u001b[0;34m\u001b[0m\u001b[0m\n",
      "\u001b[0;32m/anaconda3/lib/python3.7/site-packages/scipy/optimize/optimize.py\u001b[0m in \u001b[0;36mfunction_wrapper\u001b[0;34m(*wrapper_args)\u001b[0m\n\u001b[1;32m    325\u001b[0m     \u001b[0;32mdef\u001b[0m \u001b[0mfunction_wrapper\u001b[0m\u001b[0;34m(\u001b[0m\u001b[0;34m*\u001b[0m\u001b[0mwrapper_args\u001b[0m\u001b[0;34m)\u001b[0m\u001b[0;34m:\u001b[0m\u001b[0;34m\u001b[0m\u001b[0;34m\u001b[0m\u001b[0m\n\u001b[1;32m    326\u001b[0m         \u001b[0mncalls\u001b[0m\u001b[0;34m[\u001b[0m\u001b[0;36m0\u001b[0m\u001b[0;34m]\u001b[0m \u001b[0;34m+=\u001b[0m \u001b[0;36m1\u001b[0m\u001b[0;34m\u001b[0m\u001b[0;34m\u001b[0m\u001b[0m\n\u001b[0;32m--> 327\u001b[0;31m         \u001b[0;32mreturn\u001b[0m \u001b[0mfunction\u001b[0m\u001b[0;34m(\u001b[0m\u001b[0;34m*\u001b[0m\u001b[0;34m(\u001b[0m\u001b[0mwrapper_args\u001b[0m \u001b[0;34m+\u001b[0m \u001b[0margs\u001b[0m\u001b[0;34m)\u001b[0m\u001b[0;34m)\u001b[0m\u001b[0;34m\u001b[0m\u001b[0;34m\u001b[0m\u001b[0m\n\u001b[0m\u001b[1;32m    328\u001b[0m \u001b[0;34m\u001b[0m\u001b[0m\n\u001b[1;32m    329\u001b[0m     \u001b[0;32mreturn\u001b[0m \u001b[0mncalls\u001b[0m\u001b[0;34m,\u001b[0m \u001b[0mfunction_wrapper\u001b[0m\u001b[0;34m\u001b[0m\u001b[0;34m\u001b[0m\u001b[0m\n",
      "\u001b[0;32m/anaconda3/lib/python3.7/site-packages/scipy/optimize/optimize.py\u001b[0m in \u001b[0;36m__call__\u001b[0;34m(self, x, *args)\u001b[0m\n\u001b[1;32m     63\u001b[0m     \u001b[0;32mdef\u001b[0m \u001b[0m__call__\u001b[0m\u001b[0;34m(\u001b[0m\u001b[0mself\u001b[0m\u001b[0;34m,\u001b[0m \u001b[0mx\u001b[0m\u001b[0;34m,\u001b[0m \u001b[0;34m*\u001b[0m\u001b[0margs\u001b[0m\u001b[0;34m)\u001b[0m\u001b[0;34m:\u001b[0m\u001b[0;34m\u001b[0m\u001b[0;34m\u001b[0m\u001b[0m\n\u001b[1;32m     64\u001b[0m         \u001b[0mself\u001b[0m\u001b[0;34m.\u001b[0m\u001b[0mx\u001b[0m \u001b[0;34m=\u001b[0m \u001b[0mnumpy\u001b[0m\u001b[0;34m.\u001b[0m\u001b[0masarray\u001b[0m\u001b[0;34m(\u001b[0m\u001b[0mx\u001b[0m\u001b[0;34m)\u001b[0m\u001b[0;34m.\u001b[0m\u001b[0mcopy\u001b[0m\u001b[0;34m(\u001b[0m\u001b[0;34m)\u001b[0m\u001b[0;34m\u001b[0m\u001b[0;34m\u001b[0m\u001b[0m\n\u001b[0;32m---> 65\u001b[0;31m         \u001b[0mfg\u001b[0m \u001b[0;34m=\u001b[0m \u001b[0mself\u001b[0m\u001b[0;34m.\u001b[0m\u001b[0mfun\u001b[0m\u001b[0;34m(\u001b[0m\u001b[0mx\u001b[0m\u001b[0;34m,\u001b[0m \u001b[0;34m*\u001b[0m\u001b[0margs\u001b[0m\u001b[0;34m)\u001b[0m\u001b[0;34m\u001b[0m\u001b[0;34m\u001b[0m\u001b[0m\n\u001b[0m\u001b[1;32m     66\u001b[0m         \u001b[0mself\u001b[0m\u001b[0;34m.\u001b[0m\u001b[0mjac\u001b[0m \u001b[0;34m=\u001b[0m \u001b[0mfg\u001b[0m\u001b[0;34m[\u001b[0m\u001b[0;36m1\u001b[0m\u001b[0;34m]\u001b[0m\u001b[0;34m\u001b[0m\u001b[0;34m\u001b[0m\u001b[0m\n\u001b[1;32m     67\u001b[0m         \u001b[0;32mreturn\u001b[0m \u001b[0mfg\u001b[0m\u001b[0;34m[\u001b[0m\u001b[0;36m0\u001b[0m\u001b[0;34m]\u001b[0m\u001b[0;34m\u001b[0m\u001b[0;34m\u001b[0m\u001b[0m\n",
      "\u001b[0;32m/anaconda3/lib/python3.7/site-packages/sklearn/linear_model/_logistic.py\u001b[0m in \u001b[0;36m_logistic_loss_and_grad\u001b[0;34m(w, X, y, alpha, sample_weight)\u001b[0m\n\u001b[1;32m    127\u001b[0m     \u001b[0mz0\u001b[0m \u001b[0;34m=\u001b[0m \u001b[0msample_weight\u001b[0m \u001b[0;34m*\u001b[0m \u001b[0;34m(\u001b[0m\u001b[0mz\u001b[0m \u001b[0;34m-\u001b[0m \u001b[0;36m1\u001b[0m\u001b[0;34m)\u001b[0m \u001b[0;34m*\u001b[0m \u001b[0my\u001b[0m\u001b[0;34m\u001b[0m\u001b[0;34m\u001b[0m\u001b[0m\n\u001b[1;32m    128\u001b[0m \u001b[0;34m\u001b[0m\u001b[0m\n\u001b[0;32m--> 129\u001b[0;31m     \u001b[0mgrad\u001b[0m\u001b[0;34m[\u001b[0m\u001b[0;34m:\u001b[0m\u001b[0mn_features\u001b[0m\u001b[0;34m]\u001b[0m \u001b[0;34m=\u001b[0m \u001b[0msafe_sparse_dot\u001b[0m\u001b[0;34m(\u001b[0m\u001b[0mX\u001b[0m\u001b[0;34m.\u001b[0m\u001b[0mT\u001b[0m\u001b[0;34m,\u001b[0m \u001b[0mz0\u001b[0m\u001b[0;34m)\u001b[0m \u001b[0;34m+\u001b[0m \u001b[0malpha\u001b[0m \u001b[0;34m*\u001b[0m \u001b[0mw\u001b[0m\u001b[0;34m\u001b[0m\u001b[0;34m\u001b[0m\u001b[0m\n\u001b[0m\u001b[1;32m    130\u001b[0m \u001b[0;34m\u001b[0m\u001b[0m\n\u001b[1;32m    131\u001b[0m     \u001b[0;31m# Case where we fit the intercept.\u001b[0m\u001b[0;34m\u001b[0m\u001b[0;34m\u001b[0m\u001b[0;34m\u001b[0m\u001b[0m\n",
      "\u001b[0;32m/anaconda3/lib/python3.7/site-packages/sklearn/utils/extmath.py\u001b[0m in \u001b[0;36msafe_sparse_dot\u001b[0;34m(a, b, dense_output)\u001b[0m\n\u001b[1;32m    149\u001b[0m             \u001b[0mret\u001b[0m \u001b[0;34m=\u001b[0m \u001b[0mnp\u001b[0m\u001b[0;34m.\u001b[0m\u001b[0mdot\u001b[0m\u001b[0;34m(\u001b[0m\u001b[0ma\u001b[0m\u001b[0;34m,\u001b[0m \u001b[0mb\u001b[0m\u001b[0;34m)\u001b[0m\u001b[0;34m\u001b[0m\u001b[0;34m\u001b[0m\u001b[0m\n\u001b[1;32m    150\u001b[0m     \u001b[0;32melse\u001b[0m\u001b[0;34m:\u001b[0m\u001b[0;34m\u001b[0m\u001b[0;34m\u001b[0m\u001b[0m\n\u001b[0;32m--> 151\u001b[0;31m         \u001b[0mret\u001b[0m \u001b[0;34m=\u001b[0m \u001b[0ma\u001b[0m \u001b[0;34m@\u001b[0m \u001b[0mb\u001b[0m\u001b[0;34m\u001b[0m\u001b[0;34m\u001b[0m\u001b[0m\n\u001b[0m\u001b[1;32m    152\u001b[0m \u001b[0;34m\u001b[0m\u001b[0m\n\u001b[1;32m    153\u001b[0m     if (sparse.issparse(a) and sparse.issparse(b)\n",
      "\u001b[0;31mKeyboardInterrupt\u001b[0m: "
     ]
    }
   ],
   "source": [
    "tos.ensemble_fit(X,y)"
   ]
  },
  {
   "cell_type": "code",
   "execution_count": 390,
   "metadata": {},
   "outputs": [],
   "source": [
    "import pickle\n",
    "with open('apps/tos_classifier.pkl', 'wb') as f:\n",
    "    pickle.dump(tos, f)"
   ]
  },
  {
   "cell_type": "code",
   "execution_count": 393,
   "metadata": {},
   "outputs": [],
   "source": [
    "model = pickle.load(open('apps/tos_classifier.pkl','rb'))"
   ]
  },
  {
   "cell_type": "code",
   "execution_count": 363,
   "metadata": {},
   "outputs": [],
   "source": [
    "X,y = model.get_data()"
   ]
  },
  {
   "cell_type": "code",
   "execution_count": 364,
   "metadata": {},
   "outputs": [],
   "source": [
    "proba = model.predict_proba(X,input_user=True,input_X=terms_EU)"
   ]
  },
  {
   "cell_type": "code",
   "execution_count": 365,
   "metadata": {},
   "outputs": [],
   "source": [
    "colors = model.get_colors(proba[:,1])"
   ]
  },
  {
   "cell_type": "code",
   "execution_count": 366,
   "metadata": {},
   "outputs": [
    {
     "data": {
      "text/plain": [
       "['#FAA181',\n",
       " '#F2DE97',\n",
       " '#FAA181',\n",
       " '#F2DE97',\n",
       " '#DFEEB9',\n",
       " '#F77B7E',\n",
       " '#F2DE97',\n",
       " '#F2DE97',\n",
       " '#C7FEDD',\n",
       " '#F2DE97',\n",
       " '#F77B7E',\n",
       " '#F2DE97',\n",
       " '#FAA181',\n",
       " '#DFEEB9',\n",
       " '#F2DE97',\n",
       " '#DFEEB9',\n",
       " '#DFEEB9',\n",
       " '#FAA181',\n",
       " '#F77B7E',\n",
       " '#FAA181',\n",
       " '#F77B7E']"
      ]
     },
     "execution_count": 366,
     "metadata": {},
     "output_type": "execute_result"
    }
   ],
   "source": [
    "colors"
   ]
  },
  {
   "cell_type": "code",
   "execution_count": 289,
   "metadata": {},
   "outputs": [],
   "source": [
    "twitch_tos = '''Twitch allows users to distribute streaming live and pre-recorded audio-visual works, to use services, such as chat, bulletin boards, forum postings, wiki contributions, voice interactive services, and to participate in other activities in which you may create, post, transmit, perform, or store content, messages, text, sound, images, applications, code or other data or materials on the Twitch Services (“User Content”).\n",
    "\n",
    "(i) Unless otherwise agreed to in a written agreement between you and Twitch that was signed by an authorized representative of Twitch, if you submit, transmit, display, perform, post or store User Content using the Twitch Services, you grant Twitch and its sublicensees, to the furthest extent and for the maximum duration permitted by applicable law (including in perpetuity if permitted under applicable law), an unrestricted, worldwide, irrevocable, fully sub-licenseable, nonexclusive, and royalty-free right to (a) use, reproduce, modify, adapt, publish, translate, create derivative works from, distribute, perform and display such User Content (including without limitation for promoting and redistributing part or all of the Twitch Services (and derivative works thereof)) in any form, format, media or media channels now known or later developed or discovered; and (b) use the name, identity, likeness and voice (or other biographical information) that you submit in connection with such User Content. Should such User Content contain the name, identity, likeness and voice (or other biographical information) of third parties, you represent and warrant that you have obtained the appropriate consents and/or licenses for your use of such features and that Twitch and its sub-licensees are allowed to use them to the extent indicated in these Terms of Service.\n",
    "\n",
    "(ii) With respect to User Content known as “add-ons”, “maps”, “mods”, or other types of projects submitted through CurseForge.com or related sites (“Submitted Projects”), the rights granted by you hereunder terminate once you remove or delete such Submitted Projects from the Twitch Services. You also acknowledge that Twitch may retain, but not display, distribute, or perform, server copies of Submitted Projects that have been removed or deleted.\n",
    "\n",
    "(iii) With respect to streaming live and pre-recorded audio-visual works, the rights granted by you hereunder terminate once you delete such User Content from the Twitch Services, or generally by closing your account, except (a) to the extent you shared it with others as part of the Twitch Services and others copied or stored portions of the User Content (e.g., made a Clip); (b) Twitch used it for promotional purposes; and (c) for the reasonable time it takes to remove from backup and other systems.\n",
    "\n",
    "You are solely responsible for your User Content and the consequences of posting or publishing it. You represent, and warrant that: (1) you are the creator and owner of the User Content or otherwise have sufficient rights and authority to grant the rights granted herein; (2) your User Content does not and will not (a) infringe, violate, or misappropriate any third-party right, including any copyright, trademark, patent, trade secret, moral right, privacy right, right of publicity, or any other intellectual property or proprietary right or (b) defame any other person; (3) your User Content does not contain any viruses, adware, spyware, worms, or other harmful or malicious code; and (4) unless you have received prior written authorization, your User Content specifically does not contain any pre-release or non-public beta software or game content or any confidential information of Twitch or third parties. Twitch reserves all rights and remedies against any users who breach these representations and warranties.\n",
    "\n",
    "Twitch uses reasonable security measures in order to attempt to protect User Content against unauthorized copying and distribution. However, Twitch does not guarantee that any unauthorized copying, use or distribution of User Content by third parties will not take place. To the furthest extent permitted by applicable law, you hereby agree that Twitch shall not be liable for any unauthorized copying, use or distribution of User Content by third parties and release and forever waive any claims you may have against Twitch for any such unauthorized copying or usage of the User Content, under any theory. THE SECURITY MEASURES TO PROTECT USER CONTENT USED BY TWITCH HEREIN ARE PROVIDED AND USED “AS-IS” AND WITH NO WARRANTIES, GUARANTEES, CONDITIONS, ASSURANCES OR OTHER TERMS THAT SUCH SECURITY MEASURES WILL WITHSTAND ATTEMPTS TO EVADE SECURITY MECHANISMS OR THAT THERE WILL BE NO CRACKS, DISABLEMENTS OR OTHER CIRCUMVENTION OF SUCH SECURITY MEASURES.\n",
    "\n",
    "Users may promote, administer, or conduct a promotion (a contest or sweepstakes) on, through or utilizing the Twitch Services (a “ Promotion ”). If you choose to promote, administer or conduct a Promotion, you must adhere to the following rules: (i) You may carry out Promotions to the extent permitted by applicable law and you are solely responsible for ensuring that any Promotions comply with any and all applicable laws, obligations, and restrictions. (ii) You will be classified as the promoter of your Promotion in the applicable jurisdiction(s) and you will be solely responsible for all aspects of and expenses related to your Promotion, including, without limitation, the execution, administration, and operation of the Promotion; drafting and posting any official rules; selecting winners; issuing prizes; and obtaining all necessary third-party permissions and approvals, including, without limitation, filing any and all necessary registrations and bonds. Twitch has the right to remove your Promotion from the Twitch Services if Twitch reasonably believes that your Promotion does not comply with the Terms of Service or applicable law. (iii) Twitch is not responsible for and does not endorse or support any such Promotions. You may not indicate that Twitch is a sponsor or co-sponsor of the Promotion. (iv) You will display or read out the following when a Promotion is connection with your Promotion: “This is a promotion by [Your Name]. Twitch does not sponsor or endorse [Your Name]’s promotion and is not responsible for this promotion”.\n",
    "\n",
    "You agree that your User Content will comply with the FTC’s Guidelines Concerning the Use of Testimonials and Endorsements in Advertising, the FTC’s .com Disclosures Guide , the FTC’s Native Advertising Guidelines, and any other guidelines issued by the FTC from time to time (“FTC Guidelines”), as well as any other advertising guidelines required under applicable law. For example, if you have been paid or provided with free products in exchange for discussing or promoting a product or service through the Twitch Services, or if you are an employee of a company and you decide to discuss or promote that company’s products or services through the Twitch Services, you agree to comply with the FTC Guidelines’ requirements for disclosing such relationships. You, and not Twitch, are solely responsible for any endorsements or testimonials you make regarding any product or service through the Twitch Services.\n",
    "\n",
    "Subject to these Terms of Service and the Community Guidelines, you may share political opinions; participate in political activity; provide links to a political committee’s official website, including the contribution page of a political committee; and solicit viewers to make contributions directly to a political committee. You agree, however, that these activities are entirely your own. Moreover, by engaging in these activities, you represent and warrant that you are eligible to engage in them under applicable law, and that you will abide by all relevant laws and regulations while doing so. \n",
    "\n",
    "You agree not to solicit the use of or use any Twitch monetization tool (e.g., Bits or subscriptions) for the purpose of making or delivering a contribution to a candidate, candidate’s committee, political action committee, ballot committee, or any other campaign committee, or otherwise for the purpose of influencing any election. Candidates for political office are not eligible to use any Twitch monetization tool on their channels.'''"
   ]
  },
  {
   "cell_type": "code",
   "execution_count": 285,
   "metadata": {},
   "outputs": [],
   "source": [
    "tiktok_tos = '''Users of the Services may be permitted to upload, post or transmit (such as via a stream) or otherwise make available content through the Services including, without limitation, any text, photographs, user videos, sound recordings and the musical works embodied therein, including videos that incorporate locally stored sound recordings from your personal music library and ambient noise (“User Content”). Users of the Services may also extract all or any portion of User Content created by another user to produce additional User Content, including collaborative User Content with other users, that combine and intersperse User Content generated by more than one user. Users of the Services may also overlay music, graphics, stickers, Virtual Items (as defined and further explained Virtual Items Policy) and other elements provided by TikTok (“TikTok Elements”) onto this User Content and transmit this User Content through the Services. The information and materials in the User Content, including User Content that includes TikTok Elements, have not been verified or approved by us. The views expressed by other users on the Services (including through use of the virtual gifts) do not represent our views or values.\n",
    "\n",
    "Whenever you access or use a feature that allows you to upload or transmit User Content through the Services (including via certain third party social media platforms such as Instagram, Facebook, YouTube, Twitter), or to make contact with other users of the Services, you must comply with the standards set out at “Your Access to and Use of Our Services” above. You may also choose to upload or transmit your User Content, including User Content that includes TikTok Elements, on sites or platforms hosted by third parties. If you decide to do this, you must comply with their content guidelines as well as with the standards set out at “Your Access to and Use of Our Services” above. As noted above, these features may not be available to all users of the Services, and we have no liability to you for limiting your right to certain features of the Services.\n",
    "\n",
    "You warrant that any such contribution does comply with those standards, and you will be liable to us and indemnify us for any breach of that warranty. This means you will be responsible for any loss or damage we suffer as a result of your breach of warranty.\n",
    "\n",
    "Any User Content will be considered non-confidential and non-proprietary. You must not post any User Content on or through the Services or transmit to us any User Content that you consider to be confidential or proprietary. When you submit User Content through the Services, you agree and represent that you own that User Content, or you have received all necessary permissions, clearances from, or are authorised by, the owner of any part of the content to submit it to the Services, to transmit it from the Services to other third party platforms, and/or adopt any third party content.\n",
    "\n",
    "If you only own the rights in and to a sound recording, but not to the underlying musical works embodied in such sound recordings, then you must not post such sound recordings to the Services unless you have all permissions, clearances from, or are authorised by, the owner of any part of the content to submit it to the Services\n",
    "\n",
    "You or the owner of your User Content still own the copyright in User Content sent to us, but by submitting User Content via the Services, you hereby grant us an unconditional irrevocable, non-exclusive, royalty-free, fully transferable, perpetual worldwide licence to use, modify, adapt, reproduce, make derivative works of, publish and/or transmit, and/or distribute and to authorise other users of the Services and other third-parties to view, access, use, download, modify, adapt, reproduce, make derivative works of, publish and/or transmit your User Content in any format and on any platform, either now known or hereinafter invented.\n",
    "\n",
    "You further grant us a royalty-free license to use your user name, image, voice, and likeness to identify you as the source of any of your User Content; provided, however, that your ability to provide an image, voice, and likeness may be subject to limitations due to age restrictions.\n",
    "\n",
    "For the avoidance of doubt, the rights granted in the preceding paragraphs of this Section include, but are not limited to, the right to reproduce sound recordings (and make mechanical reproductions of the musical works embodied in such sound recordings), and publicly perform and communicate to the public sound recordings (and the musical works embodied therein), all on a royalty-free basis. This means that you are granting us the right to use your User Content without the obligation to pay royalties to any third party, including, but not limited to, a sound recording copyright owner (e.g., a record label), a musical work copyright owner (e.g., a music publisher), a performing rights organization (e.g., ASCAP, BMI, SESAC, etc.) (a “PRO”), a sound recording PRO (e.g., SoundExchange), any unions or guilds, and engineers, producers or other royalty participants involved in the creation of User Content.\n",
    "\n",
    "Specific Rules for Musical Works and for Recording Artists. If you are a composer or author of a musical work and are affiliated with a PRO, then you must notify your PRO of the royalty-free license you grant through these Terms in your User Content to us. You are solely responsible for ensuring your compliance with the relevant PRO’s reporting obligations. If you have assigned your rights to a music publisher, then you must obtain the consent of such music publisher to grant the royalty-free license(s) set forth in these Terms in your User Content or have such music publisher enter into these Terms with us. Just because you authored a musical work (e.g., wrote a song) does not mean you have the right to grant us the licenses in these Terms. If you are a recording artist under contract with a record label, then you are solely responsible for ensuring that your use of the Services is in compliance with any contractual obligations you may have to your record label, including if you create any new recordings through the Services that may be claimed by your label.\n",
    "\n",
    "Through-To-The-Audience Rights. All of the rights you grant in your User Content in these Terms are provided on a through-to-the-audience basis, meaning the owners or operators of third party services will not have any separate liability to you or any other third party for User Content posted or used on such third party service via the Services.\n",
    "\n",
    "Waiver of Rights to User Content. By posting User Content to or through the Services, you waive any rights to prior inspection or approval of any marketing or promotional materials related to such User Content. You also waive any and all rights of privacy, publicity, or any other rights of a similar nature in connection with your User Content, or any portion thereof. To the extent any moral rights are not transferable or assignable, you hereby waive and agree never to assert any and all moral rights, or to support, maintain or permit any action based on any moral rights that you may have in or with respect to any User Content you Post to or through the Services.\n",
    "\n",
    "We also have the right to disclose your identity to any third party who is claiming that any User Content posted or uploaded by you to our Services constitutes a violation of their intellectual property rights, or of their right to privacy.\n",
    "\n",
    "We, or authorised third parties, reserve the right to cut, crop, edit or refuse to publish, your content at our or their sole discretion. We have the right to remove, disallow, block or delete any posting you make on our Services if, in our opinion, your post does not comply with the content standards set out at “Your Access to and Use of Our Services”above. In addition, we have the right – but not the obligation – in our sole discretion to remove, disallow, block or delete any User Content (i) that we consider to violate these Terms, or (ii) in response to complaints from other users or third parties, with or without notice and without any liability to you. As a result, we recommend that you save copies of any User Content that you post to the Services on your personal device(s) in the event that you want to ensure that you have permanent access to copies of such User Content. We do not guarantee the accuracy, integrity, appropriateness or quality of any User Content, and under no circumstances will we be liable in any way for any User Content.\n",
    "\n",
    "You control whether your User Content is made publicly available on the Services to all other users of the Services or only available to people you approve. To restrict access to your User Content, you should select the privacy setting available within the Platform.\n",
    "\n",
    "We accept no liability in respect of any content submitted by users and published by us or by authorised third parties.\n",
    "\n",
    "If you wish to complain about information and materials uploaded by other users please contact us at: feedback@tiktok.com.\n",
    "\n",
    "TikTok takes reasonable measures to expeditiously remove from our Services any infringing material that we become aware of.It is TikTok’s policy, in appropriate circumstances and at its discretion, to disable or terminate the accounts of users of the Services who repeatedly infringe copyrights or intellectual property rights of others.\n",
    "\n",
    "While our own staff is continually working to develop and evaluate our own product ideas and features, we pride ourselves on paying close attention to the interests, feedback, comments, and suggestions we receive from the user community. If you choose to contribute by sending us or our employees any ideas for products, services, features, modifications, enhancements, content, refinements, technologies, content offerings (such as audio, visual, games, or other types of content), promotions, strategies, or product/feature names, or any related documentation, artwork, computer code, diagrams, or other materials (collectively “Feedback”), then regardless of what your accompanying communication may say, the following terms will apply, so that future misunderstandings can be avoided. Accordingly, by sending Feedback to us, you agree that:\n",
    "\n",
    "TikTok has no obligation to review, consider, or implement your Feedback, or to return to you all or part of any Feedback for any reason;\n",
    "\n",
    "Feedback is provided on a non-confidential basis, and we are not under any obligation to keep any Feedback you send confidential or to refrain from using or disclosing it in any way; and\n",
    "\n",
    "You irrevocably grant us perpetual and unlimited permission to reproduce, distribute, create derivative works of, modify, publicly perform (including on a through-to-the-audience basis), communicate to the public, make available, publicly display, and otherwise use and exploit the Feedback and derivatives thereof for any purpose and without restriction, free of charge and without attribution of any kind, including by making, using, selling, offering for sale, importing, and promoting commercial products and services that incorporate or embody Feedback, whether in whole or in part, and whether as provided or as modified.'''"
   ]
  },
  {
   "cell_type": "code",
   "execution_count": 279,
   "metadata": {},
   "outputs": [],
   "source": [
    "youtube_tos = '''If you have a YouTube channel, you may be able to upload Content to the Service. You may use your Content to promote your business or artistic enterprise. If you choose to upload Content, you must not submit to the Service any Content that does not comply with this Agreement (including the YouTube Community Guidelines) or the law. For example, the Content you submit must not include third-party intellectual property (such as copyrighted material) unless you have permission from that party or are otherwise legally entitled to do so. You are legally responsible for the Content you submit to the Service. We may use automated systems that analyze your Content to help detect infringement and abuse, such as spam, malware, and illegal content.\n",
    "\n",
    "You retain ownership rights in your Content. However, we do require you to grant certain rights to YouTube and other users of the Service, as described below.\n",
    "\n",
    "By providing Content to the Service, you grant to YouTube a worldwide, non-exclusive, royalty-free, sublicensable and transferable license to use that Content (including to reproduce, distribute, prepare derivative works, display and perform it) in connection with the Service and YouTube’s (and its successors' and Affiliates') business, including for the purpose of promoting and redistributing part or all of the Service.\n",
    "\n",
    "\n",
    "You also grant each other user of the Service a worldwide, non-exclusive, royalty-free license to access your Content through the Service, and to use that Content, including to reproduce, distribute, prepare derivative works, display, and perform it, only as enabled by a feature of the Service (such as video playback or embeds). For clarity, this license does not grant any rights or permissions for a user to make use of your Content independent of the Service.\n",
    "\n",
    "The licenses granted by you continue for a commercially reasonable period of time after you remove or delete your Content from the Service. You understand and agree, however, that YouTube may retain, but not display, distribute, or perform, server copies of your videos that have been removed or deleted. \n",
    "\n",
    "\n",
    "You may remove your Content from the Service at any time. You also have the option to make a copy of your Content before removing it. You must remove your Content if you no longer have the rights required by these terms.\n",
    "\n",
    "\n",
    "If we reasonably believe that any Content is in breach of this Agreement or may cause harm to YouTube, our users, or third parties, we may remove or take down that Content in our discretion. We will notify you with the reason for our action unless we reasonably believe that to do so: (a) would breach the law or the direction of a legal enforcement authority or would otherwise risk legal liability for YouTube or our Affiliates; (b) would compromise an investigation or the integrity or operation of the Service; or (c) would cause harm to any user, other third party, YouTube or our Affiliates. You can learn more about reporting and enforcement, including how to appeal on the Troubleshooting page of our Help Center.\n",
    "\n",
    "\n",
    "We provide information to help copyright holders manage their intellectual property online in our YouTube Copyright Center. If you believe your copyright has been infringed on the Service, please send us a notice.\n",
    "\n",
    "We respond to notices of alleged copyright infringement according to the process in our YouTube Copyright Center, where you can also find information about how to resolve a copyright strike. YouTube's policies provide for the termination, in appropriate circumstances, of repeat infringers’ access to the Service.'''"
   ]
  },
  {
   "cell_type": "code",
   "execution_count": 300,
   "metadata": {},
   "outputs": [],
   "source": [
    "soundcloud_tos = '''Your content\n",
    "\n",
    "Any and all audio, text, photos, pictures, graphics, comments, and other content, data or information that you upload, store, transmit, submit, exchange or make available to or via the Platform (hereinafter \"Your Content\") is generated, owned and controlled solely by you, and not by SoundCloud.\n",
    "\n",
    "SoundCloud does not claim any ownership rights in Your Content, and you hereby expressly acknowledge and agree that Your Content remains your sole responsibility.\n",
    "\n",
    "Without prejudice to the conditions set forth in Your Use of the Platform you must not upload, store, distribute, send, transmit, display, perform, make available, continue to make available or otherwise communicate to the public any Content to which you do not hold the necessary rights. In particular, any unauthorized use of copyright protected material within Your Content (including by way of reproduction, distribution, modification, adaptation, public display, public performance, preparation of derivative works, making available or otherwise communicating to the public via the Platform), independent of wheteher it is or becomes unauthorized at a later point, may constitute an infringement of third party rights and is strictly prohibited. Any such infringements may result in termination of your access to the Platform as described in the Repeat Infringers section below, and may also result in civil litigation or criminal prosecution by or on behalf of the relevant rightsholder.\n",
    "\n",
    "We may, from time to time, invite or provide you with means to provide feedback regarding the Platform, and in such circumstances, any feedback you provide will be deemed non-confidential and SoundCloud shall have the right, but not the obligation, to use such feedback on an unrestricted basis.\n",
    "\n",
    "By uploading or posting Your Content to the Platform, you initiate an automated process to transcode any audio Content and direct SoundCloud to store Your Content on our servers, from where you may control and authorize the use, ways of reproduction, transmission, distribution, public display, public performance, making available (including whether users will be permitted to listen to your Content offline) and other communication to the public of Your Content on the Platform and elsewhere using the Services. To the extent it is necessary in order for SoundCloud to provide you with any of the aforementioned hosting services, to undertake any of the tasks set forth in these Terms of Use, including the distribution of advertising or other promotional material on our Platform and/or to enable your use of the Platform, you hereby grant such licenses to SoundCloud on a limited, worldwide, non-exclusive, royalty-free and fully paid basis.\n",
    "\n",
    "By uploading Your Content to the Platform, you also grant a limited, worldwide, non-exclusive, royalty-free, fully paid up, license to other users of the Platform, and to operators and users of any other websites, apps and/or platforms to which Your Content has been shared or embedded using the Services (\"Linked Services\"), to use, copy, listen to offline, repost, transmit or otherwise distribute, publicly display, publicly perform, adapt, prepare derivative works of, compile, make available and otherwise communicate to the public, Your Content utilizing the features of the Platform from time to time, and within the parameters set by you using the Services. You can limit and restrict the availability of certain of Your Content to other users of the Platform, and to users of Linked Services, at any time using the permissions tab in the track edit section for each sound you upload, subject to the provisions of the Disclaimer section below. Notwithstanding the foregoing, nothing in these Terms of Use grants any rights to any other user of the Platform with respect to any proprietary name, logo, trademark or service mark uploaded by you as part of Your Content (for example, your profile picture) (\"Marks\"), other than the right to reproduce, publicly display, make available and otherwise communicate to the public those Marks, automatically and without alteration, as part of the act of reposting sounds with which you have associated those Marks.\n",
    "\n",
    "The licenses granted in this section are granted separately with respect to each item of Your Content that you upload to the Platform. Licenses with respect to audio Content, and any images or text within your account, will (subject to the following paragraph of these Terms of Use) terminate automatically when you remove such Content from your account. Licenses with respect to comments or other contributions that you make on the Platform will be perpetual and irrevocable, and will continue notwithstanding any termination of your account.\n",
    "\n",
    "Removal of audio Content from your account will automatically result in the deletion of the relevant files from SoundCloud’s systems and servers. However, notwithstanding the foregoing, you hereby acknowledge and agree that once Your Content is distributed to a Linked Service, SoundCloud is not obligated to ensure the deletion of Your Content from any servers or systems operated by the operators of any Linked Service, or to require that any user of the Platform or any Linked Service deletes any item of Your Content. Furthermore, if you authorize any of Your Content to be available for offline listening, after deletion of an item of Your Content or removal from the ability for other users to listen to the applicable Content offline, the applicable Content may still be temporarily available to other users of the Platform who saved the applicable Content for offline listening on their devices, but no longer than 30 days from the time of deletion.\n",
    "\n",
    "Any Content other than Your Content is the property of the relevant Uploader, and is or may be subject to copyright, trademark rights or other intellectual property or proprietary rights. Such Content may not be downloaded, reproduced, distributed, transmitted, re-uploaded, republished, displayed, sold, licensed, made available or otherwise communicated to the public or exploited for any purposes except via the features of the Platform from time to time and within the parameters set by the Uploader on the Platform or with the express written consent of the Uploader. Where you repost another user’s Content, or include another user’s Content in a playlist or station or where you listen to another user’s Content offline, you acquire no ownership rights whatsoever in that Content. Subject to the rights expressly granted in this section, all rights in Content are reserved to the relevant Uploader.'''"
   ]
  },
  {
   "cell_type": "code",
   "execution_count": 284,
   "metadata": {},
   "outputs": [],
   "source": [
    "reddit_tos = '''\n",
    "\n",
    "The Services may contain information, text, links, graphics, photos, videos, or other materials (“Content”), including Content created with or submitted to the Services by you or through your Account (“Your Content”). We take no responsibility for and we do not expressly or implicitly endorse any of Your Content.\n",
    "\n",
    "By submitting Your Content to the Services, you represent and warrant that you have all rights, power, and authority necessary to grant the rights to Your Content contained within these Terms. Because you alone are responsible for Your Content, you may expose yourself to liability if you post or share Content without all necessary rights.\n",
    "\n",
    "You retain any ownership rights you have in Your Content, but you grant Reddit the following license to use that Content:\n",
    "\n",
    "When Your Content is created with or submitted to the Services, you grant us a worldwide, royalty-free, perpetual, irrevocable, non-exclusive, transferable, and sublicensable license to use, copy, modify, adapt, prepare derivative works from, distribute, perform, and display Your Content and any name, username, voice, or likeness provided in connection with Your Content in all media formats and channels now known or later developed. This license includes the right for us to make Your Content available for syndication, broadcast, distribution, or publication by other companies, organizations, or individuals who partner with Reddit. You also agree that we may remove metadata associated with Your Content, and you irrevocably waive any claims and assertions of moral rights or attribution with respect to Your Content.\n",
    "\n",
    "Any ideas, suggestions, and feedback about Reddit or our Services that you provide to us are entirely voluntary, and you agree that Reddit may use such ideas, suggestions, and feedback without compensation or obligation to you.\n",
    "\n",
    "Although we have no obligation to screen, edit, or monitor Your Content, we may, in our sole discretion, delete or remove Your Content at any time and for any reason, including for a violation of these Terms, a violation of our Content Policy, or if you otherwise create liability for us.\n",
    "'''"
   ]
  },
  {
   "cell_type": "markdown",
   "metadata": {},
   "source": [
    "# Feature Engineering"
   ]
  },
  {
   "cell_type": "code",
   "execution_count": 73,
   "metadata": {},
   "outputs": [
    {
     "data": {
      "text/plain": [
       "(0       Signal does not sell, rent or monetize your pe...\n",
       " 1       You must be at least 13 years old to use our S...\n",
       " 2       You agree to resolve any Claim you have with u...\n",
       " 3       We may modify, suspend, or terminate your acce...\n",
       " 4       We work with third parties to provide some of ...\n",
       "                               ...                        \n",
       " 2547    Phoenix is hosted on Heroku for development pu...\n",
       " 2549    Nothing here should be considered legal advice...\n",
       " 2550    We do not use cookies or any other tracking te...\n",
       " 2551    By contributing to this project (e.g.\\nby send...\n",
       " 2552    We need you to license your contributions unde...\n",
       " Name: quoteText, Length: 2440, dtype: object,\n",
       " 0       0\n",
       " 1       0\n",
       " 2       0\n",
       " 3       1\n",
       " 4       1\n",
       "        ..\n",
       " 2547    1\n",
       " 2549    1\n",
       " 2550    0\n",
       " 2551    0\n",
       " 2552    0\n",
       " Name: label, Length: 2440, dtype: int64)"
      ]
     },
     "execution_count": 73,
     "metadata": {},
     "output_type": "execute_result"
    }
   ],
   "source": [
    "X,y"
   ]
  },
  {
   "cell_type": "code",
   "execution_count": 74,
   "metadata": {},
   "outputs": [],
   "source": [
    "X_train, X_test, y_train, y_test = train_test_split(X,y,test_size=0.25)"
   ]
  },
  {
   "cell_type": "code",
   "execution_count": null,
   "metadata": {},
   "outputs": [],
   "source": [
    "def countvoncount(stop_words,X_train,y_)\n",
    "voncount = CountVectorizer(stop_words=companies,ngram_range=(1,2))\n",
    "voncount.fit(X_train)\n",
    "X_train_voncount = voncount.transform(X_train).toarray()\n",
    "X_test_voncount = voncount.transform(X_test).toarray()"
   ]
  },
  {
   "cell_type": "code",
   "execution_count": null,
   "metadata": {},
   "outputs": [],
   "source": [
    "voncount = CountVectorizer(stop_words=companies)\n",
    "voncount_all = voncount.fit_transform(df['document']).toarray()\n",
    "toswords = voncount.get_feature_names()"
   ]
  },
  {
   "cell_type": "code",
   "execution_count": null,
   "metadata": {},
   "outputs": [],
   "source": [
    "all_sum = voncount_all.sum()\n",
    "good_sum = voncount_all[df['point'] == 'good'].sum()\n",
    "neutral_sum = voncount_all[df['point'] == 'neutral'].sum()\n",
    "bad_sum = voncount_all[df['point'] == 'bad'].sum()\n",
    "print(f'Count of all words: {all_sum} \\nCount of words in good documents: {good_sum}\\\n",
    "\\nCount of words in netural documents: {neutral_sum} \\nCount of words in bad documents: {bad_sum}')"
   ]
  },
  {
   "cell_type": "code",
   "execution_count": null,
   "metadata": {},
   "outputs": [],
   "source": [
    "all_count = np.sum(voncount_all,axis=0)\n",
    "good_count = np.sum(voncount_all[df['point'] =='good'],axis = 0)\n",
    "neutral_count = np.sum(voncount_all[df['point'] =='neutral'],axis = 0)\n",
    "bad_count = np.sum(voncount_all[df['point'] =='bad'],axis = 0)"
   ]
  },
  {
   "cell_type": "code",
   "execution_count": null,
   "metadata": {},
   "outputs": [],
   "source": [
    "# Distinguishing words\n",
    "\n",
    "good_words = {}\n",
    "neutral_words = {}\n",
    "bad_words = {}\n",
    "alph = 1.2\n",
    "\n",
    "for class_word_count,total_word_count,word in zip(good_count,all_count,toswords):\n",
    "    good_words[word] = ((class_word_count**alph)/total_word_count).round(2)\n",
    "for class_word_count,total_word_count,word in zip(neutral_count,all_count,toswords):\n",
    "    neutral_words[word] = ((class_word_count**alph)/total_word_count).round(2)\n",
    "for class_word_count,total_word_count,word in zip(bad_count,all_count,toswords):\n",
    "    bad_words[word] = ((class_word_count**alph)/total_word_count).round(2)\n",
    "    \n",
    "good_15 = pd.DataFrame(Counter(good_words).most_common(15))\n",
    "neutral_15 = pd.DataFrame(Counter(neutral_words).most_common(15))\n",
    "bad_15 = pd.DataFrame(Counter(bad_words).most_common(15))\n",
    "\n",
    "unique_words = pd.concat([good_15,neutral_15,bad_15],axis=1)\n",
    "unique_words"
   ]
  },
  {
   "cell_type": "code",
   "execution_count": 77,
   "metadata": {},
   "outputs": [
    {
     "name": "stderr",
     "output_type": "stream",
     "text": [
      "/anaconda3/lib/python3.7/site-packages/sklearn/feature_extraction/text.py:385: UserWarning: Your stop_words may be inconsistent with your preprocessing. Tokenizing the stop words generated tokens ['420a3', '67', 'abandonmentprotector', 'abc', 'academia', 'amnestyinternationallimited', 'any', 'arc', 'australia', 'bg', 'billiger', 'bit', 'carrot', 'cc', 'chilliapps', 'coinbase', 'colloq', 'com', 'cxautomation', 'cz', 'de', 'digitaladvertisingplatform', 'directly', 'dnd5e', 'do', 'dr', 'edu', 'email', 'emotion', 'games', 'gog', 'gov', 'here', 'heretechnologies', 'hp', 'huntandjump', 'icloud', 'in', 'info', 'io', 'irecommend', 'it', 'itch', 'kahoot', 'kink', 'liamrosenfeld', 'livemastodon', 'ly', 'mastodon', 'mcdonald', 'mcdougall', 'medicalcenter', 'moddb', 'mozilla', 'musik', 'net', 'netpodcast', 'newegg', 'nickwasused', 'offtopical', 'org', 'osu', 'pepper', 'pole', 'reklamstore', 'remove', 'repl', 'riseup', 'ru', 'sammler', 'screencast', 'seodesigners', 'shealth', 'shortcutworld', 'slither', 'social', 'sonic', 'sonicdrive', 'stablemanaginggame', 'store', 'techsmith', 'toptree', 'tos', 'uk', 'urban', 'web', 'werk32', 'whatismyip', 'witches', 'wordpress', 'zenimaxmediainc'] not in stop_words.\n",
      "  'stop_words.' % sorted(inconsistent))\n"
     ]
    }
   ],
   "source": [
    "tfiddy = TfidfVectorizer(stop_words=companies,ngram_range=(1,2))\n",
    "tfiddy.fit(X_train)\n",
    "X_train_tfiddy = tfiddy.transform(X_train).toarray()\n",
    "X_test_tfiddy = tfiddy.transform(X_test).toarray()"
   ]
  },
  {
   "cell_type": "code",
   "execution_count": 186,
   "metadata": {},
   "outputs": [
    {
     "data": {
      "text/plain": [
       "array([[9.98815473e-01, 1.18452711e-03],\n",
       "       [3.14736388e-03, 9.96852636e-01],\n",
       "       [2.89268679e-02, 9.71073132e-01],\n",
       "       ...,\n",
       "       [4.81191452e-01, 5.18808548e-01],\n",
       "       [9.56944805e-01, 4.30551951e-02],\n",
       "       [9.99453701e-01, 5.46299497e-04]])"
      ]
     },
     "execution_count": 186,
     "metadata": {},
     "output_type": "execute_result"
    }
   ],
   "source": [
    "m_naive = MultinomialNB(alpha=.1)\n",
    "m_naive.fit(X_train_tfiddy, y_train)\n",
    "y_hat = m_naive.predict_proba(X_test_tfiddy)\n",
    "y_hat\n",
    "y_hat"
   ]
  },
  {
   "cell_type": "code",
   "execution_count": null,
   "metadata": {},
   "outputs": [],
   "source": [
    "mnp_probs = m_naive.predict_proba(X_test_tfiddy)"
   ]
  },
  {
   "cell_type": "code",
   "execution_count": null,
   "metadata": {},
   "outputs": [],
   "source": [
    "import pickle\n",
    "filename_model = 'apps/model.sav'\n",
    "pickle.dump(m_naive, open(filename_model, 'wb'))"
   ]
  },
  {
   "cell_type": "code",
   "execution_count": null,
   "metadata": {},
   "outputs": [],
   "source": [
    "filename_tfidf = 'apps/tfidf.sav'\n",
    "pickle.dump(tfiddy, open(filename_tfidf, 'wb'))"
   ]
  },
  {
   "cell_type": "code",
   "execution_count": null,
   "metadata": {},
   "outputs": [],
   "source": [
    "input_text = \"something about indemnify\""
   ]
  },
  {
   "cell_type": "code",
   "execution_count": null,
   "metadata": {},
   "outputs": [],
   "source": [
    "tfidf_model = pickle.load(open(filename_tfidf,'rb'))\n",
    "loaded_model = pickle.load(open(filename_model, 'rb'))\n",
    "#input_vectorized = tfidf_model.transform(pd.Series(input_text)).toarray()\n",
    "#classification,probability = loaded_model.predict(input_vectorized),loaded_model.predict_proba(input_vectorized)\n",
    "#print(f'Classification:{classification}classification,f'probability)"
   ]
  },
  {
   "cell_type": "code",
   "execution_count": null,
   "metadata": {},
   "outputs": [],
   "source": [
    "from sklearn.metrics import roc_curve, auc\n",
    "from sklearn import datasets\n",
    "from sklearn.multiclass import OneVsRestClassifier\n",
    "from sklearn.preprocessing import label_binarize\n",
    "import matplotlib.pyplot as plt"
   ]
  },
  {
   "cell_type": "code",
   "execution_count": null,
   "metadata": {
    "scrolled": true
   },
   "outputs": [],
   "source": [
    "clf = OneVsRestClassifier(MultinomialNB(alpha=.01))\n",
    "y_score = clf.fit(X_train_tfiddy,ytrain_bin).predict_proba(X_test_tfiddy)\n",
    "fpr = dict()\n",
    "tpr = dict()\n",
    "roc_auc = dict()\n",
    "for i in range(3):\n",
    "    fpr[i], tpr[i], _ = roc_curve(ytest_bin[:, i], y_score[:, i])\n",
    "    roc_auc[i] = auc(fpr[i], tpr[i])\n",
    "fig, ax = plt.subplots(figsize=(14,6))\n",
    "ax.plot([0, 1], [0, 1], 'k--')\n",
    "ax.set_xlim([0.0, 1.0])\n",
    "ax.set_ylim([0.0, 1.05])\n",
    "ax.set_xlabel('False Positive Rate')\n",
    "ax.set_ylabel('True Positive Rate')\n",
    "ax.set_title('One Vs Rest ROC Curve - Multinomial Naive Bayes')\n",
    "for i in range(3):\n",
    "    ax.plot(fpr[i], tpr[i], label=f'ROC curve (area = {roc_auc[i]:.2f}) for {labels[i]} vs all')\n",
    "ax.legend(loc=\"best\")\n",
    "ax.grid(alpha=.4)\n",
    "sns.despine()\n",
    "plt.show()"
   ]
  },
  {
   "cell_type": "code",
   "execution_count": null,
   "metadata": {},
   "outputs": [],
   "source": [
    "y_score.shape\n",
    "roc_curve()"
   ]
  },
  {
   "cell_type": "code",
   "execution_count": null,
   "metadata": {},
   "outputs": [],
   "source": [
    "model.predict_proba(X_test_tfiddy)[4]"
   ]
  },
  {
   "cell_type": "code",
   "execution_count": null,
   "metadata": {},
   "outputs": [],
   "source": [
    "y_test.iloc[200]"
   ]
  },
  {
   "cell_type": "code",
   "execution_count": null,
   "metadata": {},
   "outputs": [],
   "source": [
    "model.predict(X_test_tfiddy)[200]"
   ]
  },
  {
   "cell_type": "code",
   "execution_count": null,
   "metadata": {},
   "outputs": [],
   "source": [
    "df.iloc[[1681,2194]]"
   ]
  },
  {
   "cell_type": "code",
   "execution_count": null,
   "metadata": {},
   "outputs": [],
   "source": [
    "truegood,trueneutral,truebad,neutral_notgood,neutral_notbad,good_notneutral,good_notbad,bad_notneutral,bad_notgood = 0,0,0,0,0,0,0,0,0\n",
    "\n",
    "for predicted,actual in zip(y_hat,y_test):\n",
    "    if predicted == actual:\n",
    "        if predicted == 'good':\n",
    "            truegood += 1\n",
    "        if predicted == 'neutral':\n",
    "            trueneutral += 1\n",
    "        if predicted == 'bad':\n",
    "            truebad += 1\n",
    "    elif (actual == 'good') & (predicted == 'neutral'):\n",
    "        good_notneutral += 1\n",
    "    elif (actual == 'good') & (predicted == 'bad'):\n",
    "        good_notbad += 1\n",
    "    elif (actual == 'neutral') & (predicted == 'good'):\n",
    "        neutral_notgood += 1\n",
    "    elif (actual == 'neutral') & (predicted == 'bad'):\n",
    "        neutral_notbad += 1\n",
    "    elif (actual == 'bad') & (predicted == 'neutral'):\n",
    "        bad_notneutral += 1\n",
    "    elif (actual == 'bad') & (predicted == 'good'):\n",
    "        bad_notgood += 1"
   ]
  },
  {
   "cell_type": "code",
   "execution_count": null,
   "metadata": {},
   "outputs": [],
   "source": [
    "actualgood = [truegood,good_notneutral,good_notbad]\n",
    "actualneutral = [neutral_notgood,trueneutral,neutral_notbad]\n",
    "actualbad = [bad_notgood,bad_notneutral,truebad]\n",
    "actualgood\n",
    "actualbad"
   ]
  },
  {
   "cell_type": "code",
   "execution_count": null,
   "metadata": {},
   "outputs": [],
   "source": [
    "#of course there is libary for this\n",
    "\n",
    "from sklearn.metrics import confusion_matrix\n",
    "matrix = confusion_matrix(y_test, y_hat)[::-1]\n",
    "matrix"
   ]
  },
  {
   "cell_type": "code",
   "execution_count": null,
   "metadata": {},
   "outputs": [],
   "source": [
    "matrix = confusion_matrix(y_test, y_hat)[::-1]\n",
    "fig,ax = plt.subplots()\n",
    "\n",
    "sns.heatmap(matrix,annot=True,cbar=False,cmap='Blues', fmt='g')\n",
    "plt.ylabel('Actual')\n",
    "plt.xlabel('Predicted')\n",
    "plt.title('Confusion Matrix')\n",
    "plt.xticks([.5,1.5,2.5],labels=['Bad','Good','Neutral'])\n",
    "plt.yticks([.5,1.5,2.5],labels=['Neutral','Good','Bad'])\n",
    "plt.ylim(-.5,3)"
   ]
  },
  {
   "cell_type": "code",
   "execution_count": null,
   "metadata": {},
   "outputs": [],
   "source": [
    "#Multinomial NB with count vectorizer instead of TFIDF\n",
    "\n",
    "model = MultinomialNB(alpha=.01)\n",
    "model.fit(X_train_voncount, y_train)\n",
    "y_hat = model.predict(X_test_voncount)\n",
    "\n",
    "model.score(X_test_voncount, y_test)"
   ]
  },
  {
   "cell_type": "code",
   "execution_count": null,
   "metadata": {},
   "outputs": [],
   "source": [
    "#Complement NB\n",
    "\n",
    "model = MultinomialNB(alpha=.3)\n",
    "model.fit(X_train_tfiddy, y_train)\n",
    "y_hat = model.predict(X_test_tfiddy)\n",
    "\n",
    "#model.predict_proba(X_test_tfiddy)\n",
    "model.score(X_test_tfiddy,y_test)"
   ]
  },
  {
   "cell_type": "code",
   "execution_count": 118,
   "metadata": {},
   "outputs": [
    {
     "ename": "ValueError",
     "evalue": "Expected 2D array, got 1D array instead:\narray=[0 1 1 0 0 0 1 0 1 0 0 1 0 0 1 1 1 1 0 0 1 1 1 1 0 0 1 0 0 1 1 0 1 0 0 1 0\n 0 1 1 1 0 0 1 1 1 1 0 1 1 1 1 0 0 0 1 1 0 1 0 1 1 1 0 1 1 0 0 1 1 0 0 0 1\n 0 0 0 0 0 0 0 0 0 0 0 0 1 1 0 1 0 0 1 1 0 0 0 0 1 0 1 0 0 1 1 0 0 1 0 1 1\n 0 1 0 0 0 1 1 1 1 0 0 0 1 1 0 0 1 1 1 0 1 0 0 0 1 1 1 1 0 0 0 0 1 1 1 1 1\n 1 0 1 1 0 0 0 1 0 0 1 0 0 1 0 1 1 0 1 0 0 0 0 0 0 0 0 1 1 0 1 0 0 1 0 0 0\n 0 0 0 0 1 0 0 1 1 0 0 0 0 1 0 0 0 1 0 0 1 0 0 0 1 1 1 0 0 1 1 0 0 1 0 1 1\n 1 0 0 1 1 0 0 1 1 0 0 1 1 0 0 0 0 0 0 0 0 0 0 1 1 0 0 1 0 1 1 0 0 0 0 0 1\n 1 0 0 0 0 1 0 1 0 0 1 0 0 0 0 0 0 0 1 1 0 0 0 1 1 1 1 0 0 1 1 1 0 1 1 1 1\n 1 1 0 1 0 1 0 0 0 1 0 1 0 1 0 1 0 1 1 1 0 0 1 1 0 1 0 0 0 1 1 0 0 1 0 0 1\n 0 0 0 1 0 0 0 1 0 1 0 1 1 1 1 0 1 0 0 0 1 1 0 1 0 1 1 1 1 0 0 0 0 0 1 1 0\n 1 0 1 1 0 1 0 1 0 0 1 1 0 1 1 0 1 1 0 0 1 1 0 1 1 0 0 1 0 1 0 1 1 1 0 1 1\n 0 0 0 0 0 0 0 0 1 1 0 1 1 0 0 0 1 1 0 0 1 0 0 1 1 1 0 0 1 0 0 1 0 0 1 0 1\n 0 0 0 0 0 0 0 1 0 1 0 1 0 0 1 1 1 0 0 1 1 1 0 1 0 0 1 0 1 0 1 0 0 1 0 1 1\n 1 0 0 1 1 1 0 0 0 0 1 1 1 1 0 1 1 1 0 0 1 0 1 0 0 1 0 0 0 1 1 0 0 1 0 0 0\n 1 0 1 0 0 0 0 0 0 0 0 0 1 0 1 0 0 1 1 0 0 0 0 0 0 0 0 1 1 0 1 0 0 0 1 0 0\n 0 1 1 1 1 1 0 0 0 1 0 0 1 1 1 1 1 0 1 0 1 0 1 1 1 0 0 0 0 0 1 1 0 0 1 0 0\n 1 0 1 1 0 0 1 1 1 0 1 1 1 1 1 0 0 0].\nReshape your data either using array.reshape(-1, 1) if your data has a single feature or array.reshape(1, -1) if it contains a single sample.",
     "output_type": "error",
     "traceback": [
      "\u001b[0;31m---------------------------------------------------------------------------\u001b[0m",
      "\u001b[0;31mValueError\u001b[0m                                Traceback (most recent call last)",
      "\u001b[0;32m<ipython-input-118-3e0661dd4b02>\u001b[0m in \u001b[0;36m<module>\u001b[0;34m\u001b[0m\n\u001b[1;32m      1\u001b[0m \u001b[0mdime\u001b[0m \u001b[0;34m=\u001b[0m \u001b[0mLogisticRegressionCV\u001b[0m\u001b[0;34m(\u001b[0m\u001b[0msolver\u001b[0m\u001b[0;34m=\u001b[0m\u001b[0;34m'lbfgs'\u001b[0m\u001b[0;34m,\u001b[0m\u001b[0mCs\u001b[0m\u001b[0;34m=\u001b[0m\u001b[0;36m100\u001b[0m\u001b[0;34m,\u001b[0m\u001b[0mmax_iter\u001b[0m\u001b[0;34m=\u001b[0m\u001b[0;36m200\u001b[0m\u001b[0;34m)\u001b[0m\u001b[0;34m\u001b[0m\u001b[0;34m\u001b[0m\u001b[0m\n\u001b[1;32m      2\u001b[0m \u001b[0mdime\u001b[0m\u001b[0;34m.\u001b[0m\u001b[0mfit\u001b[0m\u001b[0;34m(\u001b[0m\u001b[0mX_train_tfiddy\u001b[0m\u001b[0;34m,\u001b[0m\u001b[0my_train\u001b[0m\u001b[0;34m)\u001b[0m\u001b[0;34m\u001b[0m\u001b[0;34m\u001b[0m\u001b[0m\n\u001b[0;32m----> 3\u001b[0;31m \u001b[0my_dime\u001b[0m \u001b[0;34m=\u001b[0m \u001b[0mdime\u001b[0m\u001b[0;34m.\u001b[0m\u001b[0mpredict_proba\u001b[0m\u001b[0;34m(\u001b[0m\u001b[0my_test\u001b[0m\u001b[0;34m)\u001b[0m\u001b[0;34m\u001b[0m\u001b[0;34m\u001b[0m\u001b[0m\n\u001b[0m",
      "\u001b[0;32m/anaconda3/lib/python3.7/site-packages/sklearn/linear_model/_logistic.py\u001b[0m in \u001b[0;36mpredict_proba\u001b[0;34m(self, X)\u001b[0m\n\u001b[1;32m   1649\u001b[0m                                                 self.solver == 'liblinear')))\n\u001b[1;32m   1650\u001b[0m         \u001b[0;32mif\u001b[0m \u001b[0movr\u001b[0m\u001b[0;34m:\u001b[0m\u001b[0;34m\u001b[0m\u001b[0;34m\u001b[0m\u001b[0m\n\u001b[0;32m-> 1651\u001b[0;31m             \u001b[0;32mreturn\u001b[0m \u001b[0msuper\u001b[0m\u001b[0;34m(\u001b[0m\u001b[0;34m)\u001b[0m\u001b[0;34m.\u001b[0m\u001b[0m_predict_proba_lr\u001b[0m\u001b[0;34m(\u001b[0m\u001b[0mX\u001b[0m\u001b[0;34m)\u001b[0m\u001b[0;34m\u001b[0m\u001b[0;34m\u001b[0m\u001b[0m\n\u001b[0m\u001b[1;32m   1652\u001b[0m         \u001b[0;32melse\u001b[0m\u001b[0;34m:\u001b[0m\u001b[0;34m\u001b[0m\u001b[0;34m\u001b[0m\u001b[0m\n\u001b[1;32m   1653\u001b[0m             \u001b[0mdecision\u001b[0m \u001b[0;34m=\u001b[0m \u001b[0mself\u001b[0m\u001b[0;34m.\u001b[0m\u001b[0mdecision_function\u001b[0m\u001b[0;34m(\u001b[0m\u001b[0mX\u001b[0m\u001b[0;34m)\u001b[0m\u001b[0;34m\u001b[0m\u001b[0;34m\u001b[0m\u001b[0m\n",
      "\u001b[0;32m/anaconda3/lib/python3.7/site-packages/sklearn/linear_model/_base.py\u001b[0m in \u001b[0;36m_predict_proba_lr\u001b[0;34m(self, X)\u001b[0m\n\u001b[1;32m    305\u001b[0m         \u001b[0mmulticlass\u001b[0m \u001b[0;32mis\u001b[0m \u001b[0mhandled\u001b[0m \u001b[0mby\u001b[0m \u001b[0mnormalizing\u001b[0m \u001b[0mthat\u001b[0m \u001b[0mover\u001b[0m \u001b[0mall\u001b[0m \u001b[0mclasses\u001b[0m\u001b[0;34m.\u001b[0m\u001b[0;34m\u001b[0m\u001b[0;34m\u001b[0m\u001b[0m\n\u001b[1;32m    306\u001b[0m         \"\"\"\n\u001b[0;32m--> 307\u001b[0;31m         \u001b[0mprob\u001b[0m \u001b[0;34m=\u001b[0m \u001b[0mself\u001b[0m\u001b[0;34m.\u001b[0m\u001b[0mdecision_function\u001b[0m\u001b[0;34m(\u001b[0m\u001b[0mX\u001b[0m\u001b[0;34m)\u001b[0m\u001b[0;34m\u001b[0m\u001b[0;34m\u001b[0m\u001b[0m\n\u001b[0m\u001b[1;32m    308\u001b[0m         \u001b[0mexpit\u001b[0m\u001b[0;34m(\u001b[0m\u001b[0mprob\u001b[0m\u001b[0;34m,\u001b[0m \u001b[0mout\u001b[0m\u001b[0;34m=\u001b[0m\u001b[0mprob\u001b[0m\u001b[0;34m)\u001b[0m\u001b[0;34m\u001b[0m\u001b[0;34m\u001b[0m\u001b[0m\n\u001b[1;32m    309\u001b[0m         \u001b[0;32mif\u001b[0m \u001b[0mprob\u001b[0m\u001b[0;34m.\u001b[0m\u001b[0mndim\u001b[0m \u001b[0;34m==\u001b[0m \u001b[0;36m1\u001b[0m\u001b[0;34m:\u001b[0m\u001b[0;34m\u001b[0m\u001b[0;34m\u001b[0m\u001b[0m\n",
      "\u001b[0;32m/anaconda3/lib/python3.7/site-packages/sklearn/linear_model/_base.py\u001b[0m in \u001b[0;36mdecision_function\u001b[0;34m(self, X)\u001b[0m\n\u001b[1;32m    266\u001b[0m         \u001b[0mcheck_is_fitted\u001b[0m\u001b[0;34m(\u001b[0m\u001b[0mself\u001b[0m\u001b[0;34m)\u001b[0m\u001b[0;34m\u001b[0m\u001b[0;34m\u001b[0m\u001b[0m\n\u001b[1;32m    267\u001b[0m \u001b[0;34m\u001b[0m\u001b[0m\n\u001b[0;32m--> 268\u001b[0;31m         \u001b[0mX\u001b[0m \u001b[0;34m=\u001b[0m \u001b[0mcheck_array\u001b[0m\u001b[0;34m(\u001b[0m\u001b[0mX\u001b[0m\u001b[0;34m,\u001b[0m \u001b[0maccept_sparse\u001b[0m\u001b[0;34m=\u001b[0m\u001b[0;34m'csr'\u001b[0m\u001b[0;34m)\u001b[0m\u001b[0;34m\u001b[0m\u001b[0;34m\u001b[0m\u001b[0m\n\u001b[0m\u001b[1;32m    269\u001b[0m \u001b[0;34m\u001b[0m\u001b[0m\n\u001b[1;32m    270\u001b[0m         \u001b[0mn_features\u001b[0m \u001b[0;34m=\u001b[0m \u001b[0mself\u001b[0m\u001b[0;34m.\u001b[0m\u001b[0mcoef_\u001b[0m\u001b[0;34m.\u001b[0m\u001b[0mshape\u001b[0m\u001b[0;34m[\u001b[0m\u001b[0;36m1\u001b[0m\u001b[0;34m]\u001b[0m\u001b[0;34m\u001b[0m\u001b[0;34m\u001b[0m\u001b[0m\n",
      "\u001b[0;32m/anaconda3/lib/python3.7/site-packages/sklearn/utils/validation.py\u001b[0m in \u001b[0;36mcheck_array\u001b[0;34m(array, accept_sparse, accept_large_sparse, dtype, order, copy, force_all_finite, ensure_2d, allow_nd, ensure_min_samples, ensure_min_features, warn_on_dtype, estimator)\u001b[0m\n\u001b[1;32m    554\u001b[0m                     \u001b[0;34m\"Reshape your data either using array.reshape(-1, 1) if \"\u001b[0m\u001b[0;34m\u001b[0m\u001b[0;34m\u001b[0m\u001b[0m\n\u001b[1;32m    555\u001b[0m                     \u001b[0;34m\"your data has a single feature or array.reshape(1, -1) \"\u001b[0m\u001b[0;34m\u001b[0m\u001b[0;34m\u001b[0m\u001b[0m\n\u001b[0;32m--> 556\u001b[0;31m                     \"if it contains a single sample.\".format(array))\n\u001b[0m\u001b[1;32m    557\u001b[0m \u001b[0;34m\u001b[0m\u001b[0m\n\u001b[1;32m    558\u001b[0m         \u001b[0;31m# in the future np.flexible dtypes will be handled like object dtypes\u001b[0m\u001b[0;34m\u001b[0m\u001b[0;34m\u001b[0m\u001b[0;34m\u001b[0m\u001b[0m\n",
      "\u001b[0;31mValueError\u001b[0m: Expected 2D array, got 1D array instead:\narray=[0 1 1 0 0 0 1 0 1 0 0 1 0 0 1 1 1 1 0 0 1 1 1 1 0 0 1 0 0 1 1 0 1 0 0 1 0\n 0 1 1 1 0 0 1 1 1 1 0 1 1 1 1 0 0 0 1 1 0 1 0 1 1 1 0 1 1 0 0 1 1 0 0 0 1\n 0 0 0 0 0 0 0 0 0 0 0 0 1 1 0 1 0 0 1 1 0 0 0 0 1 0 1 0 0 1 1 0 0 1 0 1 1\n 0 1 0 0 0 1 1 1 1 0 0 0 1 1 0 0 1 1 1 0 1 0 0 0 1 1 1 1 0 0 0 0 1 1 1 1 1\n 1 0 1 1 0 0 0 1 0 0 1 0 0 1 0 1 1 0 1 0 0 0 0 0 0 0 0 1 1 0 1 0 0 1 0 0 0\n 0 0 0 0 1 0 0 1 1 0 0 0 0 1 0 0 0 1 0 0 1 0 0 0 1 1 1 0 0 1 1 0 0 1 0 1 1\n 1 0 0 1 1 0 0 1 1 0 0 1 1 0 0 0 0 0 0 0 0 0 0 1 1 0 0 1 0 1 1 0 0 0 0 0 1\n 1 0 0 0 0 1 0 1 0 0 1 0 0 0 0 0 0 0 1 1 0 0 0 1 1 1 1 0 0 1 1 1 0 1 1 1 1\n 1 1 0 1 0 1 0 0 0 1 0 1 0 1 0 1 0 1 1 1 0 0 1 1 0 1 0 0 0 1 1 0 0 1 0 0 1\n 0 0 0 1 0 0 0 1 0 1 0 1 1 1 1 0 1 0 0 0 1 1 0 1 0 1 1 1 1 0 0 0 0 0 1 1 0\n 1 0 1 1 0 1 0 1 0 0 1 1 0 1 1 0 1 1 0 0 1 1 0 1 1 0 0 1 0 1 0 1 1 1 0 1 1\n 0 0 0 0 0 0 0 0 1 1 0 1 1 0 0 0 1 1 0 0 1 0 0 1 1 1 0 0 1 0 0 1 0 0 1 0 1\n 0 0 0 0 0 0 0 1 0 1 0 1 0 0 1 1 1 0 0 1 1 1 0 1 0 0 1 0 1 0 1 0 0 1 0 1 1\n 1 0 0 1 1 1 0 0 0 0 1 1 1 1 0 1 1 1 0 0 1 0 1 0 0 1 0 0 0 1 1 0 0 1 0 0 0\n 1 0 1 0 0 0 0 0 0 0 0 0 1 0 1 0 0 1 1 0 0 0 0 0 0 0 0 1 1 0 1 0 0 0 1 0 0\n 0 1 1 1 1 1 0 0 0 1 0 0 1 1 1 1 1 0 1 0 1 0 1 1 1 0 0 0 0 0 1 1 0 0 1 0 0\n 1 0 1 1 0 0 1 1 1 0 1 1 1 1 1 0 0 0].\nReshape your data either using array.reshape(-1, 1) if your data has a single feature or array.reshape(1, -1) if it contains a single sample."
     ]
    }
   ],
   "source": [
    "dime = LogisticRegressionCV(solver='lbfgs',Cs=100,max_iter=200)\n",
    "dime.fit(X_train_tfiddy,y_train)\n",
    "y_dime = dime.predict_proba(y_test)"
   ]
  },
  {
   "cell_type": "code",
   "execution_count": null,
   "metadata": {},
   "outputs": [],
   "source": [
    "y_dime = dime.predict_proba(y_test)"
   ]
  },
  {
   "cell_type": "code",
   "execution_count": 114,
   "metadata": {},
   "outputs": [
    {
     "data": {
      "text/plain": [
       "0.8639344262295082"
      ]
     },
     "execution_count": 114,
     "metadata": {},
     "output_type": "execute_result"
    }
   ],
   "source": [
    "logreg = LogisticRegression(solver='newton-cg',C=100,max_iter=200)\n",
    "logreg.fit(X_train_tfiddy,y_train)\n",
    "logreg.score(X_test_tfiddy,y_test)"
   ]
  },
  {
   "cell_type": "code",
   "execution_count": 187,
   "metadata": {},
   "outputs": [],
   "source": [
    "logy_hats = logreg.predict_proba(X_test_tfiddy)"
   ]
  },
  {
   "cell_type": "code",
   "execution_count": 115,
   "metadata": {},
   "outputs": [
    {
     "data": {
      "text/plain": [
       "0.8655737704918033"
      ]
     },
     "execution_count": 115,
     "metadata": {},
     "output_type": "execute_result"
    }
   ],
   "source": [
    "dime.score(X_test_tfiddy,y_test)"
   ]
  },
  {
   "cell_type": "code",
   "execution_count": null,
   "metadata": {},
   "outputs": [],
   "source": [
    "y_dime = dime.predict(X_test_tfiddy)\n",
    "log_prob = dime.predict_proba(X_test_tfiddy)"
   ]
  },
  {
   "cell_type": "code",
   "execution_count": null,
   "metadata": {},
   "outputs": [],
   "source": [
    "dime.classes_"
   ]
  },
  {
   "cell_type": "code",
   "execution_count": 35,
   "metadata": {},
   "outputs": [
    {
     "ename": "NameError",
     "evalue": "name 'X_train' is not defined",
     "output_type": "error",
     "traceback": [
      "\u001b[0;31m---------------------------------------------------------------------------\u001b[0m",
      "\u001b[0;31mNameError\u001b[0m                                 Traceback (most recent call last)",
      "\u001b[0;32m<ipython-input-35-81ffa128d451>\u001b[0m in \u001b[0;36m<module>\u001b[0;34m\u001b[0m\n\u001b[1;32m      1\u001b[0m \u001b[0mtfiddy\u001b[0m \u001b[0;34m=\u001b[0m \u001b[0mTfidfVectorizer\u001b[0m\u001b[0;34m(\u001b[0m\u001b[0mngram_range\u001b[0m\u001b[0;34m=\u001b[0m\u001b[0;34m(\u001b[0m\u001b[0;36m1\u001b[0m\u001b[0;34m,\u001b[0m\u001b[0;36m2\u001b[0m\u001b[0;34m)\u001b[0m\u001b[0;34m)\u001b[0m\u001b[0;34m\u001b[0m\u001b[0;34m\u001b[0m\u001b[0m\n\u001b[0;32m----> 2\u001b[0;31m \u001b[0mtfiddy\u001b[0m\u001b[0;34m.\u001b[0m\u001b[0mfit\u001b[0m\u001b[0;34m(\u001b[0m\u001b[0mX_train\u001b[0m\u001b[0;34m)\u001b[0m\u001b[0;34m\u001b[0m\u001b[0;34m\u001b[0m\u001b[0m\n\u001b[0m\u001b[1;32m      3\u001b[0m \u001b[0mX_train_tfiddy\u001b[0m \u001b[0;34m=\u001b[0m \u001b[0mtfiddy\u001b[0m\u001b[0;34m.\u001b[0m\u001b[0mtransform\u001b[0m\u001b[0;34m(\u001b[0m\u001b[0mX_train\u001b[0m\u001b[0;34m)\u001b[0m\u001b[0;34m.\u001b[0m\u001b[0mtoarray\u001b[0m\u001b[0;34m(\u001b[0m\u001b[0;34m)\u001b[0m\u001b[0;34m\u001b[0m\u001b[0;34m\u001b[0m\u001b[0m\n\u001b[1;32m      4\u001b[0m \u001b[0mX_test_tfiddy\u001b[0m \u001b[0;34m=\u001b[0m \u001b[0mtfiddy\u001b[0m\u001b[0;34m.\u001b[0m\u001b[0mtransform\u001b[0m\u001b[0;34m(\u001b[0m\u001b[0mX_test\u001b[0m\u001b[0;34m)\u001b[0m\u001b[0;34m.\u001b[0m\u001b[0mtoarray\u001b[0m\u001b[0;34m(\u001b[0m\u001b[0;34m)\u001b[0m\u001b[0;34m\u001b[0m\u001b[0;34m\u001b[0m\u001b[0m\n\u001b[1;32m      5\u001b[0m \u001b[0;34m\u001b[0m\u001b[0m\n",
      "\u001b[0;31mNameError\u001b[0m: name 'X_train' is not defined"
     ]
    }
   ],
   "source": [
    "tfiddy = TfidfVectorizer(ngram_range=(1,2))\n",
    "tfiddy.fit(X_train)\n",
    "X_train_tfiddy = tfiddy.transform(X_train).toarray()\n",
    "X_test_tfiddy = tfiddy.transform(X_test).toarray()\n",
    "\n",
    "model = MultinomialNB(alpha=.02)\n",
    "model.fit(X_train_tfiddy, y_train)\n",
    "y_mnb = model.predict(X_test_tfiddy)\n",
    "\n",
    "model.score(X_test_tfiddy, y_test)"
   ]
  },
  {
   "cell_type": "code",
   "execution_count": null,
   "metadata": {},
   "outputs": [],
   "source": [
    "model.classes_"
   ]
  },
  {
   "cell_type": "code",
   "execution_count": 189,
   "metadata": {},
   "outputs": [],
   "source": [
    "combined_proba = (y_hat + logy_hats)/2"
   ]
  },
  {
   "cell_type": "code",
   "execution_count": 193,
   "metadata": {},
   "outputs": [
    {
     "data": {
      "text/plain": [
       "array([False, False, False, False, False, False, False, False,  True,\n",
       "       False, False, False, False, False, False, False, False, False,\n",
       "       False, False,  True, False, False, False, False, False, False,\n",
       "       False, False, False, False, False,  True, False, False, False,\n",
       "       False, False, False, False, False, False, False, False, False,\n",
       "       False, False, False, False, False, False, False, False, False,\n",
       "       False,  True, False, False, False, False, False, False, False,\n",
       "       False, False, False,  True, False, False, False, False, False,\n",
       "       False, False, False, False, False, False, False, False, False,\n",
       "       False, False, False, False, False, False, False, False, False,\n",
       "       False, False, False, False, False, False, False, False, False,\n",
       "       False, False, False, False,  True, False, False, False, False,\n",
       "       False, False, False, False, False,  True, False, False, False,\n",
       "       False, False,  True, False, False, False, False, False, False,\n",
       "       False, False, False, False, False, False, False,  True, False,\n",
       "       False,  True, False, False, False, False, False, False, False,\n",
       "       False, False, False, False, False, False, False, False, False,\n",
       "        True, False, False, False, False, False, False, False, False,\n",
       "       False, False, False, False, False, False, False, False, False,\n",
       "       False, False, False, False, False, False, False,  True, False,\n",
       "       False, False, False, False, False,  True,  True, False, False,\n",
       "       False, False,  True, False, False, False, False, False, False,\n",
       "       False, False, False, False, False, False, False, False, False,\n",
       "       False, False, False, False, False, False,  True, False, False,\n",
       "       False, False, False, False, False, False, False, False, False,\n",
       "       False, False, False, False, False, False, False, False, False,\n",
       "       False, False, False, False, False, False, False, False, False,\n",
       "       False, False, False, False, False, False, False, False, False,\n",
       "       False, False, False, False, False, False, False, False, False,\n",
       "       False, False, False, False,  True, False, False, False,  True,\n",
       "       False, False, False, False, False, False, False, False, False,\n",
       "        True, False, False, False, False, False, False, False, False,\n",
       "       False, False, False, False, False, False, False, False, False,\n",
       "       False, False, False, False, False, False, False, False, False,\n",
       "       False, False, False, False, False, False, False, False, False,\n",
       "       False, False, False, False, False, False, False, False, False,\n",
       "       False, False, False, False,  True, False,  True, False, False,\n",
       "       False, False, False, False,  True, False, False, False, False,\n",
       "       False, False, False,  True, False, False, False, False, False,\n",
       "       False, False, False, False, False, False, False,  True, False,\n",
       "       False, False, False, False, False, False,  True, False, False,\n",
       "       False, False, False, False, False,  True, False, False,  True,\n",
       "       False, False, False, False, False, False,  True, False, False,\n",
       "       False, False, False, False, False, False,  True, False, False,\n",
       "       False, False, False, False, False, False, False, False, False,\n",
       "       False, False, False, False, False, False, False, False, False,\n",
       "       False, False, False, False,  True, False, False, False, False,\n",
       "       False, False, False, False, False, False, False, False, False,\n",
       "       False, False, False, False, False, False,  True, False,  True,\n",
       "       False, False, False, False, False, False, False, False,  True,\n",
       "       False, False, False, False, False, False, False, False, False,\n",
       "       False, False,  True,  True, False, False, False, False,  True,\n",
       "       False, False, False, False, False, False, False, False, False,\n",
       "       False, False, False, False, False, False, False, False, False,\n",
       "       False,  True, False, False, False,  True, False, False, False,\n",
       "       False, False, False, False, False, False, False, False, False,\n",
       "       False, False, False, False, False, False, False, False, False,\n",
       "       False,  True, False, False, False, False, False,  True, False,\n",
       "       False, False, False, False, False, False, False, False, False,\n",
       "       False, False, False, False, False, False, False, False, False,\n",
       "       False,  True,  True, False, False, False, False, False, False,\n",
       "       False, False, False, False, False, False, False, False, False,\n",
       "       False, False, False, False, False, False, False, False, False,\n",
       "       False, False, False, False, False, False, False, False, False,\n",
       "       False, False, False, False, False, False, False, False, False,\n",
       "       False, False, False, False, False, False, False, False, False,\n",
       "       False, False,  True, False, False, False, False, False, False,\n",
       "       False, False, False, False, False, False, False])"
      ]
     },
     "execution_count": 193,
     "metadata": {},
     "output_type": "execute_result"
    }
   ],
   "source": [
    "(np.amax(combined_proba,axis=1)<0.6)"
   ]
  },
  {
   "cell_type": "code",
   "execution_count": null,
   "metadata": {},
   "outputs": [],
   "source": [
    "pd.concat([pd.Series(X_test),pd.Series(y_test),pd.Series(y_pred)])"
   ]
  },
  {
   "cell_type": "code",
   "execution_count": null,
   "metadata": {},
   "outputs": [],
   "source": [
    "y_pred = model.classes_[arg]\n",
    "y_pred.reshape()"
   ]
  },
  {
   "cell_type": "code",
   "execution_count": null,
   "metadata": {},
   "outputs": [],
   "source": [
    "arg = np.argmax(a,axis=1).reshape(610,1)"
   ]
  },
  {
   "cell_type": "code",
   "execution_count": null,
   "metadata": {},
   "outputs": [],
   "source": [
    "array = np.full((610,3),fill_value=False)"
   ]
  },
  {
   "cell_type": "code",
   "execution_count": null,
   "metadata": {},
   "outputs": [],
   "source": [
    "array[np.arange(len(a)),a.argmax(1)] = True"
   ]
  },
  {
   "cell_type": "code",
   "execution_count": null,
   "metadata": {},
   "outputs": [],
   "source": [
    "dime.score(X_test_tfiddy,y_test)"
   ]
  },
  {
   "cell_type": "code",
   "execution_count": null,
   "metadata": {},
   "outputs": [],
   "source": [
    "lostwoods = RandomForestClassifier(n_estimators=2000)\n",
    "lostwoods.fit(X_train_tfiddy,y_train)"
   ]
  },
  {
   "cell_type": "code",
   "execution_count": null,
   "metadata": {},
   "outputs": [],
   "source": [
    "lostwoods.score(X_test_tfiddy,y_test)"
   ]
  },
  {
   "cell_type": "code",
   "execution_count": null,
   "metadata": {},
   "outputs": [],
   "source": [
    "gradientfalls = GradientBoostingClassifier(n_estimators=1000,subsample=0.5)\n",
    "gradientfalls.fit(X_train_tfiddy,y_train)"
   ]
  },
  {
   "cell_type": "code",
   "execution_count": null,
   "metadata": {},
   "outputs": [],
   "source": [
    "gradientfalls.score(X_test_tfiddy,y_test)\n",
    "gradientfalls.predict_"
   ]
  },
  {
   "cell_type": "markdown",
   "metadata": {},
   "source": [
    "# Metrics"
   ]
  },
  {
   "cell_type": "code",
   "execution_count": null,
   "metadata": {},
   "outputs": [],
   "source": [
    "fig,axs = plt.subplots(1,3)\n",
    "\n",
    "preds = [y_dime,y_mnb,y_pred]\n",
    "\n",
    "for i,ax in enumerate(axs):\n",
    "    confusion_matrix(y_test, preds[i])[::-1]\n",
    "    sns.heatmap(confusion_matrix(y_test, preds[i])[::-1],ax=ax,annot=True,cbar=False,cmap='Blues', fmt='g')\n",
    "    ax.set_title('Confusion Matrix')\n",
    "    ax.set_ylabel('Actual')\n",
    "    ax.set_xlabel('Predicted')\n",
    "    ax.set_xticks([.5,1.5,2.5])\n",
    "    #ax.set_xlabel(['Bad','Good','Neutral'])\n",
    "    ax.set_yticks([.5,1.5,2.5])#,labels=['Neutral','Good','Bad'])\n",
    "    ax.set_ylim(-.5,3)\n",
    "    \n",
    "plt.tight_layout()\n",
    "#plt.xticks(ticks=[.5,1.5,2.5],labels=['Bad','Good','Neutral'])"
   ]
  },
  {
   "cell_type": "code",
   "execution_count": null,
   "metadata": {},
   "outputs": [],
   "source": [
    "clflost = OneVsRestClassifier(RandomForestClassifier(n_estimators=100))\n",
    "ylost_score = clflost.fit(X_train_tfiddy,ytrain_bin).predict_proba(X_test_tfiddy)"
   ]
  },
  {
   "cell_type": "code",
   "execution_count": null,
   "metadata": {},
   "outputs": [],
   "source": [
    "fpr = dict()\n",
    "tpr = dict()\n",
    "roc_auc = dict()\n",
    "labels = ['bad','good','neutral']\n",
    "for i in range(3):\n",
    "    fpr[i], tpr[i], _ = roc_curve(ytest_bin[:, i], ylost_score[:, i])\n",
    "    roc_auc[i] = auc(fpr[i], tpr[i])\n",
    "fig, ax = plt.subplots(figsize=(14,6))\n",
    "ax.plot([0, 1], [0, 1], 'k--')\n",
    "ax.set_xlim([0.0, 1.0])\n",
    "ax.set_ylim([0.0, 1.05])\n",
    "ax.set_xlabel('False Positive Rate')\n",
    "ax.set_ylabel('True Positive Rate')\n",
    "ax.set_title('One Vs Rest ROC Curve - RandomForest')\n",
    "for i in range(3):\n",
    "    ax.plot(fpr[i], tpr[i], label=f'ROC curve (area = {roc_auc[i]:.2f}) for {labels[i]} vs all')\n",
    "ax.legend(loc=\"best\")\n",
    "ax.grid(alpha=.4)\n",
    "sns.despine()\n",
    "plt.show()"
   ]
  },
  {
   "cell_type": "code",
   "execution_count": 198,
   "metadata": {},
   "outputs": [],
   "source": [
    "terms_US = '''Users of the Services may be permitted to upload, post or transmit (such as via a stream) or otherwise make available content through the Services including, without limitation, any text, photographs, user videos, sound recordings and the musical works embodied therein, including videos that incorporate locally stored sound recordings from your personal music library and ambient noise (“User Content”). Users of the Services may also extract all or any portion of User Content created by another user to produce additional User Content, including collaborative User Content with other users, that combine and intersperse User Content generated by more than one user. Users of the Services may also overlay music, graphics, stickers, Virtual Items (as defined and further explained Virtual Items Policy) and other elements provided by TikTok (“TikTok Elements”) onto this User Content and transmit this User Content through the Services. The information and materials in the User Content, including User Content that includes TikTok Elements, have not been verified or approved by us. The views expressed by other users on the Services (including through use of the virtual gifts) do not represent our views or values.\n",
    "\n",
    "Whenever you access or use a feature that allows you to upload or transmit User Content through the Services (including via certain third party social media platforms such as Instagram, Facebook, YouTube, Twitter), or to make contact with other users of the Services, you must comply with the standards set out at “Your Access to and Use of Our Services” above. You may also choose to upload or transmit your User Content, including User Content that includes TikTok Elements, on sites or platforms hosted by third parties. If you decide to do this, you must comply with their content guidelines as well as with the standards set out at “Your Access to and Use of Our Services” above. As noted above, these features may not be available to all users of the Services, and we have no liability to you for limiting your right to certain features of the Services.\n",
    "\n",
    "You warrant that any such contribution does comply with those standards, and you will be liable to us and indemnify us for any breach of that warranty. This means you will be responsible for any loss or damage we suffer as a result of your breach of warranty.\n",
    "\n",
    "Any User Content will be considered non-confidential and non-proprietary. You must not post any User Content on or through the Services or transmit to us any User Content that you consider to be confidential or proprietary. When you submit User Content through the Services, you agree and represent that you own that User Content, or you have received all necessary permissions, clearances from, or are authorised by, the owner of any part of the content to submit it to the Services, to transmit it from the Services to other third party platforms, and/or adopt any third party content.\n",
    "\n",
    "If you only own the rights in and to a sound recording, but not to the underlying musical works embodied in such sound recordings, then you must not post such sound recordings to the Services unless you have all permissions, clearances from, or are authorised by, the owner of any part of the content to submit it to the Services\n",
    "\n",
    "You or the owner of your User Content still own the copyright in User Content sent to us, but by submitting User Content via the Services, you hereby grant us an unconditional irrevocable, non-exclusive, royalty-free, fully transferable, perpetual worldwide licence to use, modify, adapt, reproduce, make derivative works of, publish and/or transmit, and/or distribute and to authorise other users of the Services and other third-parties to view, access, use, download, modify, adapt, reproduce, make derivative works of, publish and/or transmit your User Content in any format and on any platform, either now known or hereinafter invented.\n",
    "\n",
    "You further grant us a royalty-free license to use your user name, image, voice, and likeness to identify you as the source of any of your User Content; provided, however, that your ability to provide an image, voice, and likeness may be subject to limitations due to age restrictions.\n",
    "\n",
    "For the avoidance of doubt, the rights granted in the preceding paragraphs of this Section include, but are not limited to, the right to reproduce sound recordings (and make mechanical reproductions of the musical works embodied in such sound recordings), and publicly perform and communicate to the public sound recordings (and the musical works embodied therein), all on a royalty-free basis. This means that you are granting us the right to use your User Content without the obligation to pay royalties to any third party, including, but not limited to, a sound recording copyright owner (e.g., a record label), a musical work copyright owner (e.g., a music publisher), a performing rights organization (e.g., ASCAP, BMI, SESAC, etc.) (a “PRO”), a sound recording PRO (e.g., SoundExchange), any unions or guilds, and engineers, producers or other royalty participants involved in the creation of User Content.\n",
    "\n",
    "Specific Rules for Musical Works and for Recording Artists. If you are a composer or author of a musical work and are affiliated with a PRO, then you must notify your PRO of the royalty-free license you grant through these Terms in your User Content to us. You are solely responsible for ensuring your compliance with the relevant PRO’s reporting obligations. If you have assigned your rights to a music publisher, then you must obtain the consent of such music publisher to grant the royalty-free license(s) set forth in these Terms in your User Content or have such music publisher enter into these Terms with us. Just because you authored a musical work (e.g., wrote a song) does not mean you have the right to grant us the licenses in these Terms. If you are a recording artist under contract with a record label, then you are solely responsible for ensuring that your use of the Services is in compliance with any contractual obligations you may have to your record label, including if you create any new recordings through the Services that may be claimed by your label.\n",
    "\n",
    "Through-To-The-Audience Rights. All of the rights you grant in your User Content in these Terms are provided on a through-to-the-audience basis, meaning the owners or operators of third party services will not have any separate liability to you or any other third party for User Content posted or used on such third party service via the Services.\n",
    "\n",
    "Waiver of Rights to User Content. By posting User Content to or through the Services, you waive any rights to prior inspection or approval of any marketing or promotional materials related to such User Content. You also waive any and all rights of privacy, publicity, or any other rights of a similar nature in connection with your User Content, or any portion thereof. To the extent any moral rights are not transferable or assignable, you hereby waive and agree never to assert any and all moral rights, or to support, maintain or permit any action based on any moral rights that you may have in or with respect to any User Content you Post to or through the Services.\n",
    "\n",
    "We also have the right to disclose your identity to any third party who is claiming that any User Content posted or uploaded by you to our Services constitutes a violation of their intellectual property rights, or of their right to privacy.\n",
    "\n",
    "We, or authorised third parties, reserve the right to cut, crop, edit or refuse to publish, your content at our or their sole discretion. We have the right to remove, disallow, block or delete any posting you make on our Services if, in our opinion, your post does not comply with the content standards set out at “Your Access to and Use of Our Services”above. In addition, we have the right – but not the obligation – in our sole discretion to remove, disallow, block or delete any User Content (i) that we consider to violate these Terms, or (ii) in response to complaints from other users or third parties, with or without notice and without any liability to you. As a result, we recommend that you save copies of any User Content that you post to the Services on your personal device(s) in the event that you want to ensure that you have permanent access to copies of such User Content. We do not guarantee the accuracy, integrity, appropriateness or quality of any User Content, and under no circumstances will we be liable in any way for any User Content.\n",
    "\n",
    "You control whether your User Content is made publicly available on the Services to all other users of the Services or only available to people you approve. To restrict access to your User Content, you should select the privacy setting available within the Platform.\n",
    "\n",
    "We accept no liability in respect of any content submitted by users and published by us or by authorised third parties.\n",
    "\n",
    "If you wish to complain about information and materials uploaded by other users please contact us at: feedback@tiktok.com.\n",
    "\n",
    "TikTok takes reasonable measures to expeditiously remove from our Services any infringing material that we become aware of.It is TikTok’s policy, in appropriate circumstances and at its discretion, to disable or terminate the accounts of users of the Services who repeatedly infringe copyrights or intellectual property rights of others.\n",
    "\n",
    "While our own staff is continually working to develop and evaluate our own product ideas and features, we pride ourselves on paying close attention to the interests, feedback, comments, and suggestions we receive from the user community. If you choose to contribute by sending us or our employees any ideas for products, services, features, modifications, enhancements, content, refinements, technologies, content offerings (such as audio, visual, games, or other types of content), promotions, strategies, or product/feature names, or any related documentation, artwork, computer code, diagrams, or other materials (collectively “Feedback”), then regardless of what your accompanying communication may say, the following terms will apply, so that future misunderstandings can be avoided. Accordingly, by sending Feedback to us, you agree that:\n",
    "\n",
    "TikTok has no obligation to review, consider, or implement your Feedback, or to return to you all or part of any Feedback for any reason;\n",
    "\n",
    "Feedback is provided on a non-confidential basis, and we are not under any obligation to keep any Feedback you send confidential or to refrain from using or disclosing it in any way; and\n",
    "\n",
    "You irrevocably grant us perpetual and unlimited permission to reproduce, distribute, create derivative works of, modify, publicly perform (including on a through-to-the-audience basis), communicate to the public, make available, publicly display, and otherwise use and exploit the Feedback and derivatives thereof for any purpose and without restriction, free of charge and without attribution of any kind, including by making, using, selling, offering for sale, importing, and promoting commercial products and services that incorporate or embody Feedback, whether in whole or in part, and whether as provided or as modified.'''"
   ]
  },
  {
   "cell_type": "code",
   "execution_count": 199,
   "metadata": {},
   "outputs": [],
   "source": [
    "terms_EU = '''    Users of the Services may be permitted to upload, post or transmit (such as via a stream) or otherwise make available content through the Services including, without limitation, any text, photographs, user videos, sound recordings and the musical works embodied therein, including videos that incorporate locally stored sound recordings from your personal music library and ambient noise (“User Content”). Users of the Services may also extract all or any portion of User Content created by another user to produce additional User Content, including collaborative User Content with other users, that combine and intersperse User Content generated by more than one user. Users of the Services may also overlay music, graphics, stickers, Virtual Items (as defined and further explained in the “VIRTUAL ITEMS POLICY “) and other elements provided by TikTok (“TikTok Elements”) onto this User Content and transmit this User Content through the Services. The information and materials in the User Content, including User Content that includes TikTok Elements, have not been verified or approved by us. The views expressed by other users on the Services (including through use of the virtual gifts) do not represent our views or values.\n",
    "\n",
    "    Whenever you access or use a feature that allows you to upload or transmit User Content through the Services (including via certain third party social media platforms such as Instagram, Facebook, YouTube, Twitter), or to make contact with other users of the Services, you must comply with the standards set out at Section 5 above. You may also choose to upload or transmit your User Content, including User Content that includes TikTok Elements, on sites or platforms hosted by third parties. If you decide to do this, you must comply with their content guidelines as well as with the standards set out in this Section 7 above.\n",
    "\n",
    "    You warrant that any such contribution does comply with those standards, and you will be liable to us and indemnify us for any breach of that warranty. This means you will be responsible for any loss or damage we suffer as a result of your breach of warranty.\n",
    "\n",
    "    Any User Content will be considered non-confidential and non-proprietary. You must not post any User Content on or through the Services or transmit to us any User Content that you consider to be confidential or proprietary. When you submit User Content through the Services, you agree and represent that you own that User Content, or you have received all necessary permissions, clearances from, or are authorised by, the owner of any part of the content to submit it to the Services, to transmit it from the Services to other third party platforms, and/or adopt any third party content.\n",
    "\n",
    "    If you only own the rights in and to a sound recording, but not to the underlying musical works embodied in such sound recordings, then you must not post such sound recordings to the Services unless you have all permissions, clearances from, or are authorised by, the owner of any part of the content to submit it to the Services .\n",
    "\n",
    "    You or the owner of your User Content still own the copyright in User Content sent to us, but by submitting User Content via the Services, you hereby grant us an unconditional irrevocable, non-exclusive, royalty-free, fully transferable, perpetual worldwide licence to use, modify, adapt, reproduce, make derivative works of, publish and/or transmit, and/or distribute and to authorise others users of the Services and other third-parties to view, access, use, download, modify, adapt, reproduce, make derivative works of, publish and/or transmit your User Content in any format and on any platform, either now known or hereinafter invented.\n",
    "\n",
    "    You further grant us a royalty-free license to use your user name, image, voice, and likeness to identify you as the source of any of your User Content.\n",
    "\n",
    "    For the avoidance of doubt, the rights granted in the preceding paragraphs of this Section include, but are not limited to, the right to reproduce sound recordings (and make mechanical reproductions of the musical works embodied in such sound recordings), and publicly perform and communicate to the public sound recordings (and the musical works embodied therein), all on a royalty-free basis. This means that you are granting us the right to Use your User Content without the obligation to pay royalties to any third party, including, but not limited to, a sound recording copyright owner ( e.g. , a record label), a musical work copyright owner ( e.g. , a music publisher), a performing rights organization ( e.g. , ASCAP, BMI, SESAC, etc.) (a “ PRO ”), a sound recording PRO (e.g., SoundExchange), any unions or guilds, and engineers, producers or other royalty participants involved in the creation of User Content.\n",
    "\n",
    "Specific Rules for Musical Works and for Recording Artists. If you are a composer or author of a musical work and are affiliated with a [PRO], then you must notify your PRO of the royalty-free license you grant through these Terms in your User Content to us. You are solely responsible for ensuring your compliance with the relevant PRO’s reporting obligations. If you have assigned your rights to a music publisher, then you must obtain the consent of such music publisher to grant the royalty-free license(s) set forth in these Terms in your User Content or have such music publisher enter into these Terms with us. Just because you authored a musical work (e.g., wrote a song) does not mean you have the right to grant us the licenses in these Terms. If you are a recording artist under contract with a record label, then you are solely responsible for ensuring that your use of the Services is in compliance with any contractual obligations you may have to your record label, including if you create any new recordings through the Services that may be claimed by your label.\n",
    "\n",
    "Through-To-The-Audience Rights. All of the rights you grant in your User Content in these Terms are provided on a through-to-the-audience basis, meaning the owners or operators of third party services will not have any separate liability to you or any other third party for User Content posted or used on such third party service via the Services.\n",
    "\n",
    "Waiver of Rights to User Content. By posting User Content to or through the Services, you waive any rights to prior inspection or approval of any marketing or promotional materials related to such User Content. You also waive any and all rights of privacy, publicity, or any other rights of a similar nature in connection with your User Content, or any portion thereof. To the extent any moral rights are not transferable or assignable, you hereby waive and agree never to assert any and all moral rights, or to support, maintain or permit any action based on any moral rights that you may have in or with respect to any User Content you Post to or through the Services.\n",
    "\n",
    "In certain circumstances, we also have the right to disclose your identity to any third party who is claiming that any User Content posted or uploaded by you to our Services constitutes a violation of their intellectual property rights, or of their right to privacy.\n",
    "\n",
    "We, or authorised third parties, reserve the right to cut, crop, edit or refuse to publish, your content at our or their sole discretion. We have the right to remove, disallow, block or delete any posting you make on our Platform if, in our opinion, your post does not comply with the content standards set out at Section 5 (Your Use of Our Services) above. In addition, we have the right – but not the obligation – in our sole discretion to remove, disallow, block or delete any User Content (i) that we consider to violate these Terms, or (ii) in response to complaints from other users or third parties, with or without notice and without any liability to you. As a result, we recommend that you save copies of any User Content that you post to the Services on your personal device(s) in the event that you want to ensure that you have permanent access to copies of such User Content. We do not guarantee the accuracy, integrity, appropriateness or quality of any User Content, and under no circumstances will we be liable in any way for any User Content.\n",
    "\n",
    "You control whether your User Content is made publicly available on the Services to all other users of the Services or only available to people you approve. To change the default access setting for how your User Content is made available to other users, you should select the privacy setting available within the Apps.\n",
    "\n",
    "We accept no liability in respect of any content submitted by users and published by us or by authorised third parties.\n",
    "\n",
    "If you wish to complain about information and materials uploaded by other users, please contact us at reports@tiktok.com. \n",
    "\n",
    "TikTok takes reasonable measures to expeditiously remove from our Services any infringing material that we become aware of. It is TikTok’s policy, in appropriate circumstances and at its discretion, to disable or terminate the accounts of users of the Services who repeatedly infringe copyrights or intellectual property rights of others.\n",
    "\n",
    "While our own staff is continually working to develop and evaluate our own product ideas and features, we pride ourselves on paying close attention to the interests, feedback, comments, and suggestions we receive from the user community. If you choose to contribute by sending us or our employees any ideas for products, services, features, modifications, enhancements, content, refinements, technologies, content offerings (such as audio, visual, games, or other types of content), promotions, strategies, or product/feature names, or any related documentation, artwork, computer code, diagrams, or other materials (collectively “Feedback”), then regardless of what your accompanying communication may say, the following terms will apply, so that future misunderstandings can be avoided. Accordingly, by sending Feedback to us, you agree that:\n",
    "\n",
    "    we have no obligation to review, consider, or implement your Feedback, or to return to you all or part of any Feedback for any reason;\n",
    "\n",
    "    Feedback is provided on a non-confidential basis, and we are not under any obligation to keep any Feedback you send confidential or to refrain from using or disclosing it in any way;\n",
    "\n",
    "    and You irrevocably grant us perpetual and unlimited permission to reproduce, distribute, create derivative works of, modify, publicly perform (including on a through-to-the-audience basis), communicate to the public, make available, publicly display, and otherwise use and exploit the Feedback and derivatives thereof for any purpose and without restriction, free of charge and without attribution of any kind, including by making, using, selling, offering for sale, importing, and promoting commercial products and services that incorporate or embody Feedback, whether in whole or in part, and whether as provided or as modified.'''"
   ]
  },
  {
   "cell_type": "code",
   "execution_count": null,
   "metadata": {},
   "outputs": [],
   "source": [
    "len(terms_US)"
   ]
  },
  {
   "cell_type": "code",
   "execution_count": 133,
   "metadata": {},
   "outputs": [
    {
     "data": {
      "text/plain": [
       "10938"
      ]
     },
     "execution_count": 133,
     "metadata": {},
     "output_type": "execute_result"
    }
   ],
   "source": [
    "len(terms_EU)"
   ]
  },
  {
   "cell_type": "code",
   "execution_count": null,
   "metadata": {},
   "outputs": [],
   "source": [
    "terms_US = terms_US.split('\\n')\n",
    "terms_US = [term for term in terms_US if term != '']"
   ]
  },
  {
   "cell_type": "code",
   "execution_count": 134,
   "metadata": {},
   "outputs": [],
   "source": [
    "terms_EU = terms_EU.split('\\n')"
   ]
  },
  {
   "cell_type": "code",
   "execution_count": 135,
   "metadata": {},
   "outputs": [],
   "source": [
    "terms_EU = [term for term in terms_EU if term != '']"
   ]
  },
  {
   "cell_type": "code",
   "execution_count": 130,
   "metadata": {},
   "outputs": [],
   "source": [
    "import pickle\n",
    "tfidf_model = pickle.load(open('apps/tfidf.sav','rb'))\n",
    "loaded_model = pickle.load(open('apps/model.sav', 'rb'))\n",
    "#input_vectorized = tfidf_model.transform(pd.Series(term)).toarray()\n",
    "#classification = str(loaded_model.predict(input_vectorized))"
   ]
  },
  {
   "cell_type": "code",
   "execution_count": 131,
   "metadata": {},
   "outputs": [
    {
     "ename": "NameError",
     "evalue": "name 'terms_US' is not defined",
     "output_type": "error",
     "traceback": [
      "\u001b[0;31m---------------------------------------------------------------------------\u001b[0m",
      "\u001b[0;31mNameError\u001b[0m                                 Traceback (most recent call last)",
      "\u001b[0;32m<ipython-input-131-1731ffeda938>\u001b[0m in \u001b[0;36m<module>\u001b[0;34m\u001b[0m\n\u001b[1;32m      1\u001b[0m \u001b[0mclassification_US\u001b[0m \u001b[0;34m=\u001b[0m \u001b[0;34m[\u001b[0m\u001b[0;34m]\u001b[0m\u001b[0;34m\u001b[0m\u001b[0;34m\u001b[0m\u001b[0m\n\u001b[1;32m      2\u001b[0m \u001b[0;34m\u001b[0m\u001b[0m\n\u001b[0;32m----> 3\u001b[0;31m \u001b[0;32mfor\u001b[0m \u001b[0mterm\u001b[0m \u001b[0;32min\u001b[0m \u001b[0mterms_US\u001b[0m\u001b[0;34m:\u001b[0m\u001b[0;34m\u001b[0m\u001b[0;34m\u001b[0m\u001b[0m\n\u001b[0m\u001b[1;32m      4\u001b[0m     \u001b[0mclassification_US\u001b[0m\u001b[0;34m.\u001b[0m\u001b[0mappend\u001b[0m\u001b[0;34m(\u001b[0m\u001b[0mstr\u001b[0m\u001b[0;34m(\u001b[0m\u001b[0mloaded_model\u001b[0m\u001b[0;34m.\u001b[0m\u001b[0mpredict\u001b[0m\u001b[0;34m(\u001b[0m\u001b[0mtfidf_model\u001b[0m\u001b[0;34m.\u001b[0m\u001b[0mtransform\u001b[0m\u001b[0;34m(\u001b[0m\u001b[0mpd\u001b[0m\u001b[0;34m.\u001b[0m\u001b[0mSeries\u001b[0m\u001b[0;34m(\u001b[0m\u001b[0mterm\u001b[0m\u001b[0;34m)\u001b[0m\u001b[0;34m)\u001b[0m\u001b[0;34m.\u001b[0m\u001b[0mtoarray\u001b[0m\u001b[0;34m(\u001b[0m\u001b[0;34m)\u001b[0m\u001b[0;34m)\u001b[0m\u001b[0;34m)\u001b[0m\u001b[0;34m)\u001b[0m\u001b[0;34m\u001b[0m\u001b[0;34m\u001b[0m\u001b[0m\n",
      "\u001b[0;31mNameError\u001b[0m: name 'terms_US' is not defined"
     ]
    }
   ],
   "source": [
    "classification_US = []\n",
    "\n",
    "for term in terms_US:\n",
    "    classification_US.append(str(loaded_model.predict(tfidf_model.transform(pd.Series(term)).toarray())))"
   ]
  },
  {
   "cell_type": "code",
   "execution_count": 214,
   "metadata": {},
   "outputs": [],
   "source": [
    "classification_EU = []\n",
    "\n",
    "for term in terms_EU:\n",
    "    classification_EU.append(loaded_model.predict(tfidf_model.transform(pd.Series(term)).toarray()))"
   ]
  },
  {
   "cell_type": "code",
   "execution_count": 215,
   "metadata": {},
   "outputs": [
    {
     "data": {
      "text/plain": [
       "[array(['bad'], dtype='<U7'),\n",
       " array(['bad'], dtype='<U7'),\n",
       " array(['bad'], dtype='<U7'),\n",
       " array(['bad'], dtype='<U7'),\n",
       " array(['bad'], dtype='<U7'),\n",
       " array(['bad'], dtype='<U7'),\n",
       " array(['bad'], dtype='<U7'),\n",
       " array(['bad'], dtype='<U7'),\n",
       " array(['bad'], dtype='<U7'),\n",
       " array(['bad'], dtype='<U7'),\n",
       " array(['bad'], dtype='<U7'),\n",
       " array(['bad'], dtype='<U7'),\n",
       " array(['bad'], dtype='<U7'),\n",
       " array(['bad'], dtype='<U7'),\n",
       " array(['bad'], dtype='<U7'),\n",
       " array(['bad'], dtype='<U7'),\n",
       " array(['bad'], dtype='<U7'),\n",
       " array(['bad'], dtype='<U7'),\n",
       " array(['bad'], dtype='<U7'),\n",
       " array(['bad'], dtype='<U7'),\n",
       " array(['bad'], dtype='<U7'),\n",
       " array(['bad'], dtype='<U7'),\n",
       " array(['bad'], dtype='<U7'),\n",
       " array(['bad'], dtype='<U7'),\n",
       " array(['bad'], dtype='<U7'),\n",
       " array(['bad'], dtype='<U7'),\n",
       " array(['bad'], dtype='<U7'),\n",
       " array(['bad'], dtype='<U7'),\n",
       " array(['bad'], dtype='<U7'),\n",
       " array(['bad'], dtype='<U7'),\n",
       " array(['bad'], dtype='<U7'),\n",
       " array(['bad'], dtype='<U7'),\n",
       " array(['bad'], dtype='<U7'),\n",
       " array(['bad'], dtype='<U7'),\n",
       " array(['bad'], dtype='<U7'),\n",
       " array(['bad'], dtype='<U7'),\n",
       " array(['bad'], dtype='<U7'),\n",
       " array(['bad'], dtype='<U7'),\n",
       " array(['bad'], dtype='<U7'),\n",
       " array(['bad'], dtype='<U7'),\n",
       " array(['bad'], dtype='<U7'),\n",
       " array(['bad'], dtype='<U7'),\n",
       " array(['bad'], dtype='<U7'),\n",
       " array(['bad'], dtype='<U7'),\n",
       " array(['bad'], dtype='<U7'),\n",
       " array(['bad'], dtype='<U7'),\n",
       " array(['bad'], dtype='<U7'),\n",
       " array(['bad'], dtype='<U7'),\n",
       " array(['bad'], dtype='<U7'),\n",
       " array(['bad'], dtype='<U7'),\n",
       " array(['bad'], dtype='<U7'),\n",
       " array(['bad'], dtype='<U7'),\n",
       " array(['bad'], dtype='<U7'),\n",
       " array(['bad'], dtype='<U7'),\n",
       " array(['bad'], dtype='<U7'),\n",
       " array(['bad'], dtype='<U7'),\n",
       " array(['bad'], dtype='<U7'),\n",
       " array(['bad'], dtype='<U7'),\n",
       " array(['bad'], dtype='<U7'),\n",
       " array(['bad'], dtype='<U7'),\n",
       " array(['bad'], dtype='<U7'),\n",
       " array(['bad'], dtype='<U7'),\n",
       " array(['bad'], dtype='<U7'),\n",
       " array(['bad'], dtype='<U7'),\n",
       " array(['bad'], dtype='<U7'),\n",
       " array(['bad'], dtype='<U7'),\n",
       " array(['bad'], dtype='<U7'),\n",
       " array(['bad'], dtype='<U7'),\n",
       " array(['bad'], dtype='<U7'),\n",
       " array(['bad'], dtype='<U7'),\n",
       " array(['bad'], dtype='<U7'),\n",
       " array(['bad'], dtype='<U7'),\n",
       " array(['bad'], dtype='<U7'),\n",
       " array(['bad'], dtype='<U7'),\n",
       " array(['bad'], dtype='<U7'),\n",
       " array(['bad'], dtype='<U7'),\n",
       " array(['bad'], dtype='<U7'),\n",
       " array(['bad'], dtype='<U7'),\n",
       " array(['bad'], dtype='<U7'),\n",
       " array(['bad'], dtype='<U7'),\n",
       " array(['bad'], dtype='<U7'),\n",
       " array(['bad'], dtype='<U7'),\n",
       " array(['bad'], dtype='<U7'),\n",
       " array(['bad'], dtype='<U7'),\n",
       " array(['bad'], dtype='<U7'),\n",
       " array(['bad'], dtype='<U7'),\n",
       " array(['bad'], dtype='<U7'),\n",
       " array(['bad'], dtype='<U7'),\n",
       " array(['bad'], dtype='<U7'),\n",
       " array(['bad'], dtype='<U7'),\n",
       " array(['bad'], dtype='<U7'),\n",
       " array(['bad'], dtype='<U7'),\n",
       " array(['bad'], dtype='<U7'),\n",
       " array(['bad'], dtype='<U7'),\n",
       " array(['bad'], dtype='<U7'),\n",
       " array(['bad'], dtype='<U7'),\n",
       " array(['bad'], dtype='<U7'),\n",
       " array(['bad'], dtype='<U7'),\n",
       " array(['bad'], dtype='<U7'),\n",
       " array(['bad'], dtype='<U7'),\n",
       " array(['bad'], dtype='<U7'),\n",
       " array(['bad'], dtype='<U7'),\n",
       " array(['bad'], dtype='<U7'),\n",
       " array(['bad'], dtype='<U7'),\n",
       " array(['bad'], dtype='<U7'),\n",
       " array(['bad'], dtype='<U7'),\n",
       " array(['bad'], dtype='<U7'),\n",
       " array(['bad'], dtype='<U7'),\n",
       " array(['bad'], dtype='<U7'),\n",
       " array(['bad'], dtype='<U7'),\n",
       " array(['bad'], dtype='<U7'),\n",
       " array(['bad'], dtype='<U7'),\n",
       " array(['bad'], dtype='<U7'),\n",
       " array(['bad'], dtype='<U7'),\n",
       " array(['bad'], dtype='<U7'),\n",
       " array(['bad'], dtype='<U7'),\n",
       " array(['bad'], dtype='<U7'),\n",
       " array(['bad'], dtype='<U7'),\n",
       " array(['bad'], dtype='<U7'),\n",
       " array(['bad'], dtype='<U7'),\n",
       " array(['bad'], dtype='<U7'),\n",
       " array(['bad'], dtype='<U7'),\n",
       " array(['bad'], dtype='<U7'),\n",
       " array(['bad'], dtype='<U7'),\n",
       " array(['bad'], dtype='<U7'),\n",
       " array(['bad'], dtype='<U7'),\n",
       " array(['bad'], dtype='<U7'),\n",
       " array(['bad'], dtype='<U7'),\n",
       " array(['bad'], dtype='<U7'),\n",
       " array(['bad'], dtype='<U7'),\n",
       " array(['bad'], dtype='<U7'),\n",
       " array(['bad'], dtype='<U7'),\n",
       " array(['bad'], dtype='<U7'),\n",
       " array(['bad'], dtype='<U7'),\n",
       " array(['bad'], dtype='<U7'),\n",
       " array(['bad'], dtype='<U7'),\n",
       " array(['bad'], dtype='<U7'),\n",
       " array(['bad'], dtype='<U7'),\n",
       " array(['bad'], dtype='<U7'),\n",
       " array(['bad'], dtype='<U7'),\n",
       " array(['bad'], dtype='<U7'),\n",
       " array(['bad'], dtype='<U7'),\n",
       " array(['bad'], dtype='<U7'),\n",
       " array(['bad'], dtype='<U7'),\n",
       " array(['bad'], dtype='<U7'),\n",
       " array(['bad'], dtype='<U7'),\n",
       " array(['bad'], dtype='<U7'),\n",
       " array(['bad'], dtype='<U7'),\n",
       " array(['bad'], dtype='<U7'),\n",
       " array(['bad'], dtype='<U7'),\n",
       " array(['bad'], dtype='<U7'),\n",
       " array(['bad'], dtype='<U7'),\n",
       " array(['bad'], dtype='<U7'),\n",
       " array(['bad'], dtype='<U7'),\n",
       " array(['bad'], dtype='<U7'),\n",
       " array(['bad'], dtype='<U7'),\n",
       " array(['bad'], dtype='<U7'),\n",
       " array(['bad'], dtype='<U7'),\n",
       " array(['bad'], dtype='<U7'),\n",
       " array(['bad'], dtype='<U7'),\n",
       " array(['bad'], dtype='<U7'),\n",
       " array(['bad'], dtype='<U7'),\n",
       " array(['bad'], dtype='<U7'),\n",
       " array(['bad'], dtype='<U7'),\n",
       " array(['bad'], dtype='<U7'),\n",
       " array(['bad'], dtype='<U7'),\n",
       " array(['bad'], dtype='<U7'),\n",
       " array(['bad'], dtype='<U7'),\n",
       " array(['bad'], dtype='<U7'),\n",
       " array(['bad'], dtype='<U7'),\n",
       " array(['bad'], dtype='<U7'),\n",
       " array(['bad'], dtype='<U7'),\n",
       " array(['bad'], dtype='<U7'),\n",
       " array(['bad'], dtype='<U7'),\n",
       " array(['bad'], dtype='<U7'),\n",
       " array(['bad'], dtype='<U7'),\n",
       " array(['bad'], dtype='<U7'),\n",
       " array(['bad'], dtype='<U7'),\n",
       " array(['bad'], dtype='<U7'),\n",
       " array(['bad'], dtype='<U7'),\n",
       " array(['bad'], dtype='<U7'),\n",
       " array(['bad'], dtype='<U7'),\n",
       " array(['bad'], dtype='<U7'),\n",
       " array(['bad'], dtype='<U7'),\n",
       " array(['bad'], dtype='<U7'),\n",
       " array(['bad'], dtype='<U7'),\n",
       " array(['bad'], dtype='<U7'),\n",
       " array(['bad'], dtype='<U7'),\n",
       " array(['bad'], dtype='<U7'),\n",
       " array(['bad'], dtype='<U7'),\n",
       " array(['bad'], dtype='<U7'),\n",
       " array(['bad'], dtype='<U7'),\n",
       " array(['bad'], dtype='<U7'),\n",
       " array(['bad'], dtype='<U7'),\n",
       " array(['bad'], dtype='<U7'),\n",
       " array(['bad'], dtype='<U7'),\n",
       " array(['bad'], dtype='<U7'),\n",
       " array(['bad'], dtype='<U7'),\n",
       " array(['bad'], dtype='<U7'),\n",
       " array(['bad'], dtype='<U7'),\n",
       " array(['bad'], dtype='<U7'),\n",
       " array(['bad'], dtype='<U7'),\n",
       " array(['bad'], dtype='<U7'),\n",
       " array(['bad'], dtype='<U7'),\n",
       " array(['bad'], dtype='<U7'),\n",
       " array(['bad'], dtype='<U7'),\n",
       " array(['bad'], dtype='<U7'),\n",
       " array(['bad'], dtype='<U7'),\n",
       " array(['bad'], dtype='<U7'),\n",
       " array(['bad'], dtype='<U7'),\n",
       " array(['bad'], dtype='<U7'),\n",
       " array(['bad'], dtype='<U7'),\n",
       " array(['bad'], dtype='<U7'),\n",
       " array(['bad'], dtype='<U7'),\n",
       " array(['bad'], dtype='<U7'),\n",
       " array(['bad'], dtype='<U7'),\n",
       " array(['bad'], dtype='<U7'),\n",
       " array(['bad'], dtype='<U7'),\n",
       " array(['bad'], dtype='<U7'),\n",
       " array(['bad'], dtype='<U7'),\n",
       " array(['bad'], dtype='<U7'),\n",
       " array(['bad'], dtype='<U7'),\n",
       " array(['bad'], dtype='<U7'),\n",
       " array(['bad'], dtype='<U7'),\n",
       " array(['bad'], dtype='<U7'),\n",
       " array(['bad'], dtype='<U7'),\n",
       " array(['bad'], dtype='<U7'),\n",
       " array(['bad'], dtype='<U7'),\n",
       " array(['bad'], dtype='<U7'),\n",
       " array(['bad'], dtype='<U7'),\n",
       " array(['bad'], dtype='<U7'),\n",
       " array(['bad'], dtype='<U7'),\n",
       " array(['bad'], dtype='<U7'),\n",
       " array(['bad'], dtype='<U7'),\n",
       " array(['bad'], dtype='<U7'),\n",
       " array(['bad'], dtype='<U7'),\n",
       " array(['bad'], dtype='<U7'),\n",
       " array(['bad'], dtype='<U7'),\n",
       " array(['bad'], dtype='<U7'),\n",
       " array(['bad'], dtype='<U7'),\n",
       " array(['bad'], dtype='<U7'),\n",
       " array(['bad'], dtype='<U7'),\n",
       " array(['bad'], dtype='<U7'),\n",
       " array(['bad'], dtype='<U7'),\n",
       " array(['bad'], dtype='<U7'),\n",
       " array(['bad'], dtype='<U7'),\n",
       " array(['bad'], dtype='<U7'),\n",
       " array(['bad'], dtype='<U7'),\n",
       " array(['bad'], dtype='<U7'),\n",
       " array(['bad'], dtype='<U7'),\n",
       " array(['bad'], dtype='<U7'),\n",
       " array(['bad'], dtype='<U7'),\n",
       " array(['bad'], dtype='<U7'),\n",
       " array(['bad'], dtype='<U7'),\n",
       " array(['bad'], dtype='<U7'),\n",
       " array(['bad'], dtype='<U7'),\n",
       " array(['bad'], dtype='<U7'),\n",
       " array(['bad'], dtype='<U7'),\n",
       " array(['bad'], dtype='<U7'),\n",
       " array(['bad'], dtype='<U7'),\n",
       " array(['bad'], dtype='<U7'),\n",
       " array(['bad'], dtype='<U7'),\n",
       " array(['bad'], dtype='<U7'),\n",
       " array(['bad'], dtype='<U7'),\n",
       " array(['bad'], dtype='<U7'),\n",
       " array(['bad'], dtype='<U7'),\n",
       " array(['bad'], dtype='<U7'),\n",
       " array(['bad'], dtype='<U7'),\n",
       " array(['bad'], dtype='<U7'),\n",
       " array(['bad'], dtype='<U7'),\n",
       " array(['bad'], dtype='<U7'),\n",
       " array(['bad'], dtype='<U7'),\n",
       " array(['bad'], dtype='<U7'),\n",
       " array(['bad'], dtype='<U7'),\n",
       " array(['bad'], dtype='<U7'),\n",
       " array(['bad'], dtype='<U7'),\n",
       " array(['bad'], dtype='<U7'),\n",
       " array(['bad'], dtype='<U7'),\n",
       " array(['bad'], dtype='<U7'),\n",
       " array(['bad'], dtype='<U7'),\n",
       " array(['bad'], dtype='<U7'),\n",
       " array(['bad'], dtype='<U7'),\n",
       " array(['bad'], dtype='<U7'),\n",
       " array(['bad'], dtype='<U7'),\n",
       " array(['bad'], dtype='<U7'),\n",
       " array(['bad'], dtype='<U7'),\n",
       " array(['bad'], dtype='<U7'),\n",
       " array(['bad'], dtype='<U7'),\n",
       " array(['bad'], dtype='<U7'),\n",
       " array(['bad'], dtype='<U7'),\n",
       " array(['bad'], dtype='<U7'),\n",
       " array(['bad'], dtype='<U7'),\n",
       " array(['bad'], dtype='<U7'),\n",
       " array(['bad'], dtype='<U7'),\n",
       " array(['bad'], dtype='<U7'),\n",
       " array(['bad'], dtype='<U7'),\n",
       " array(['bad'], dtype='<U7'),\n",
       " array(['bad'], dtype='<U7'),\n",
       " array(['bad'], dtype='<U7'),\n",
       " array(['bad'], dtype='<U7'),\n",
       " array(['bad'], dtype='<U7'),\n",
       " array(['bad'], dtype='<U7'),\n",
       " array(['bad'], dtype='<U7'),\n",
       " array(['bad'], dtype='<U7'),\n",
       " array(['bad'], dtype='<U7'),\n",
       " array(['bad'], dtype='<U7'),\n",
       " array(['bad'], dtype='<U7'),\n",
       " array(['bad'], dtype='<U7'),\n",
       " array(['bad'], dtype='<U7'),\n",
       " array(['bad'], dtype='<U7'),\n",
       " array(['bad'], dtype='<U7'),\n",
       " array(['bad'], dtype='<U7'),\n",
       " array(['bad'], dtype='<U7'),\n",
       " array(['bad'], dtype='<U7'),\n",
       " array(['bad'], dtype='<U7'),\n",
       " array(['bad'], dtype='<U7'),\n",
       " array(['bad'], dtype='<U7'),\n",
       " array(['bad'], dtype='<U7'),\n",
       " array(['bad'], dtype='<U7'),\n",
       " array(['bad'], dtype='<U7'),\n",
       " array(['bad'], dtype='<U7'),\n",
       " array(['bad'], dtype='<U7'),\n",
       " array(['bad'], dtype='<U7'),\n",
       " array(['bad'], dtype='<U7'),\n",
       " array(['bad'], dtype='<U7'),\n",
       " array(['bad'], dtype='<U7'),\n",
       " array(['bad'], dtype='<U7'),\n",
       " array(['bad'], dtype='<U7'),\n",
       " array(['bad'], dtype='<U7'),\n",
       " array(['bad'], dtype='<U7'),\n",
       " array(['bad'], dtype='<U7'),\n",
       " array(['bad'], dtype='<U7'),\n",
       " array(['bad'], dtype='<U7'),\n",
       " array(['bad'], dtype='<U7'),\n",
       " array(['bad'], dtype='<U7'),\n",
       " array(['bad'], dtype='<U7'),\n",
       " array(['bad'], dtype='<U7'),\n",
       " array(['bad'], dtype='<U7'),\n",
       " array(['bad'], dtype='<U7'),\n",
       " array(['bad'], dtype='<U7'),\n",
       " array(['bad'], dtype='<U7'),\n",
       " array(['bad'], dtype='<U7'),\n",
       " array(['bad'], dtype='<U7'),\n",
       " array(['bad'], dtype='<U7'),\n",
       " array(['bad'], dtype='<U7'),\n",
       " array(['bad'], dtype='<U7'),\n",
       " array(['bad'], dtype='<U7'),\n",
       " array(['bad'], dtype='<U7'),\n",
       " array(['bad'], dtype='<U7'),\n",
       " array(['bad'], dtype='<U7'),\n",
       " array(['bad'], dtype='<U7'),\n",
       " array(['bad'], dtype='<U7'),\n",
       " array(['bad'], dtype='<U7'),\n",
       " array(['bad'], dtype='<U7'),\n",
       " array(['bad'], dtype='<U7'),\n",
       " array(['bad'], dtype='<U7'),\n",
       " array(['bad'], dtype='<U7'),\n",
       " array(['bad'], dtype='<U7'),\n",
       " array(['bad'], dtype='<U7'),\n",
       " array(['bad'], dtype='<U7'),\n",
       " array(['bad'], dtype='<U7'),\n",
       " array(['bad'], dtype='<U7'),\n",
       " array(['bad'], dtype='<U7'),\n",
       " array(['bad'], dtype='<U7'),\n",
       " array(['bad'], dtype='<U7'),\n",
       " array(['bad'], dtype='<U7'),\n",
       " array(['bad'], dtype='<U7'),\n",
       " array(['bad'], dtype='<U7'),\n",
       " array(['bad'], dtype='<U7'),\n",
       " array(['bad'], dtype='<U7'),\n",
       " array(['bad'], dtype='<U7'),\n",
       " array(['bad'], dtype='<U7'),\n",
       " array(['bad'], dtype='<U7'),\n",
       " array(['bad'], dtype='<U7'),\n",
       " array(['bad'], dtype='<U7'),\n",
       " array(['bad'], dtype='<U7'),\n",
       " array(['bad'], dtype='<U7'),\n",
       " array(['bad'], dtype='<U7'),\n",
       " array(['bad'], dtype='<U7'),\n",
       " array(['bad'], dtype='<U7'),\n",
       " array(['bad'], dtype='<U7'),\n",
       " array(['bad'], dtype='<U7'),\n",
       " array(['bad'], dtype='<U7'),\n",
       " array(['bad'], dtype='<U7'),\n",
       " array(['bad'], dtype='<U7'),\n",
       " array(['bad'], dtype='<U7'),\n",
       " array(['bad'], dtype='<U7'),\n",
       " array(['bad'], dtype='<U7'),\n",
       " array(['bad'], dtype='<U7'),\n",
       " array(['bad'], dtype='<U7'),\n",
       " array(['bad'], dtype='<U7'),\n",
       " array(['bad'], dtype='<U7'),\n",
       " array(['bad'], dtype='<U7'),\n",
       " array(['bad'], dtype='<U7'),\n",
       " array(['bad'], dtype='<U7'),\n",
       " array(['bad'], dtype='<U7'),\n",
       " array(['bad'], dtype='<U7'),\n",
       " array(['bad'], dtype='<U7'),\n",
       " array(['bad'], dtype='<U7'),\n",
       " array(['bad'], dtype='<U7'),\n",
       " array(['bad'], dtype='<U7'),\n",
       " array(['bad'], dtype='<U7'),\n",
       " array(['bad'], dtype='<U7'),\n",
       " array(['bad'], dtype='<U7'),\n",
       " array(['bad'], dtype='<U7'),\n",
       " array(['bad'], dtype='<U7'),\n",
       " array(['bad'], dtype='<U7'),\n",
       " array(['bad'], dtype='<U7'),\n",
       " array(['bad'], dtype='<U7'),\n",
       " array(['bad'], dtype='<U7'),\n",
       " array(['bad'], dtype='<U7'),\n",
       " array(['bad'], dtype='<U7'),\n",
       " array(['bad'], dtype='<U7'),\n",
       " array(['bad'], dtype='<U7'),\n",
       " array(['bad'], dtype='<U7'),\n",
       " array(['bad'], dtype='<U7'),\n",
       " array(['bad'], dtype='<U7'),\n",
       " array(['bad'], dtype='<U7'),\n",
       " array(['bad'], dtype='<U7'),\n",
       " array(['bad'], dtype='<U7'),\n",
       " array(['bad'], dtype='<U7'),\n",
       " array(['bad'], dtype='<U7'),\n",
       " array(['bad'], dtype='<U7'),\n",
       " array(['bad'], dtype='<U7'),\n",
       " array(['bad'], dtype='<U7'),\n",
       " array(['bad'], dtype='<U7'),\n",
       " array(['bad'], dtype='<U7'),\n",
       " array(['bad'], dtype='<U7'),\n",
       " array(['bad'], dtype='<U7'),\n",
       " array(['bad'], dtype='<U7'),\n",
       " array(['bad'], dtype='<U7'),\n",
       " array(['bad'], dtype='<U7'),\n",
       " array(['bad'], dtype='<U7'),\n",
       " array(['bad'], dtype='<U7'),\n",
       " array(['bad'], dtype='<U7'),\n",
       " array(['bad'], dtype='<U7'),\n",
       " array(['bad'], dtype='<U7'),\n",
       " array(['bad'], dtype='<U7'),\n",
       " array(['bad'], dtype='<U7'),\n",
       " array(['bad'], dtype='<U7'),\n",
       " array(['bad'], dtype='<U7'),\n",
       " array(['bad'], dtype='<U7'),\n",
       " array(['bad'], dtype='<U7'),\n",
       " array(['bad'], dtype='<U7'),\n",
       " array(['bad'], dtype='<U7'),\n",
       " array(['bad'], dtype='<U7'),\n",
       " array(['bad'], dtype='<U7'),\n",
       " array(['bad'], dtype='<U7'),\n",
       " array(['bad'], dtype='<U7'),\n",
       " array(['bad'], dtype='<U7'),\n",
       " array(['bad'], dtype='<U7'),\n",
       " array(['bad'], dtype='<U7'),\n",
       " array(['bad'], dtype='<U7'),\n",
       " array(['bad'], dtype='<U7'),\n",
       " array(['bad'], dtype='<U7'),\n",
       " array(['bad'], dtype='<U7'),\n",
       " array(['bad'], dtype='<U7'),\n",
       " array(['bad'], dtype='<U7'),\n",
       " array(['bad'], dtype='<U7'),\n",
       " array(['bad'], dtype='<U7'),\n",
       " array(['bad'], dtype='<U7'),\n",
       " array(['bad'], dtype='<U7'),\n",
       " array(['bad'], dtype='<U7'),\n",
       " array(['bad'], dtype='<U7'),\n",
       " array(['bad'], dtype='<U7'),\n",
       " array(['bad'], dtype='<U7'),\n",
       " array(['bad'], dtype='<U7'),\n",
       " array(['bad'], dtype='<U7'),\n",
       " array(['bad'], dtype='<U7'),\n",
       " array(['bad'], dtype='<U7'),\n",
       " array(['bad'], dtype='<U7'),\n",
       " array(['bad'], dtype='<U7'),\n",
       " array(['bad'], dtype='<U7'),\n",
       " array(['bad'], dtype='<U7'),\n",
       " array(['bad'], dtype='<U7'),\n",
       " array(['bad'], dtype='<U7'),\n",
       " array(['bad'], dtype='<U7'),\n",
       " array(['bad'], dtype='<U7'),\n",
       " array(['bad'], dtype='<U7'),\n",
       " array(['bad'], dtype='<U7'),\n",
       " array(['bad'], dtype='<U7'),\n",
       " array(['bad'], dtype='<U7'),\n",
       " array(['bad'], dtype='<U7'),\n",
       " array(['bad'], dtype='<U7'),\n",
       " array(['bad'], dtype='<U7'),\n",
       " array(['bad'], dtype='<U7'),\n",
       " array(['bad'], dtype='<U7'),\n",
       " array(['bad'], dtype='<U7'),\n",
       " array(['bad'], dtype='<U7'),\n",
       " array(['bad'], dtype='<U7'),\n",
       " array(['bad'], dtype='<U7'),\n",
       " array(['bad'], dtype='<U7'),\n",
       " array(['bad'], dtype='<U7'),\n",
       " array(['bad'], dtype='<U7'),\n",
       " array(['bad'], dtype='<U7'),\n",
       " array(['bad'], dtype='<U7'),\n",
       " array(['bad'], dtype='<U7'),\n",
       " array(['bad'], dtype='<U7'),\n",
       " array(['bad'], dtype='<U7'),\n",
       " array(['bad'], dtype='<U7'),\n",
       " array(['bad'], dtype='<U7'),\n",
       " array(['bad'], dtype='<U7'),\n",
       " array(['bad'], dtype='<U7'),\n",
       " array(['bad'], dtype='<U7'),\n",
       " array(['bad'], dtype='<U7'),\n",
       " array(['bad'], dtype='<U7'),\n",
       " array(['bad'], dtype='<U7'),\n",
       " array(['bad'], dtype='<U7'),\n",
       " array(['bad'], dtype='<U7'),\n",
       " array(['bad'], dtype='<U7'),\n",
       " array(['bad'], dtype='<U7'),\n",
       " array(['bad'], dtype='<U7'),\n",
       " array(['bad'], dtype='<U7'),\n",
       " array(['bad'], dtype='<U7'),\n",
       " array(['bad'], dtype='<U7'),\n",
       " array(['bad'], dtype='<U7'),\n",
       " array(['bad'], dtype='<U7'),\n",
       " array(['bad'], dtype='<U7'),\n",
       " array(['bad'], dtype='<U7'),\n",
       " array(['bad'], dtype='<U7'),\n",
       " array(['bad'], dtype='<U7'),\n",
       " array(['bad'], dtype='<U7'),\n",
       " array(['bad'], dtype='<U7'),\n",
       " array(['bad'], dtype='<U7'),\n",
       " array(['bad'], dtype='<U7'),\n",
       " array(['bad'], dtype='<U7'),\n",
       " array(['bad'], dtype='<U7'),\n",
       " array(['bad'], dtype='<U7'),\n",
       " array(['bad'], dtype='<U7'),\n",
       " array(['bad'], dtype='<U7'),\n",
       " array(['bad'], dtype='<U7'),\n",
       " array(['bad'], dtype='<U7'),\n",
       " array(['bad'], dtype='<U7'),\n",
       " array(['bad'], dtype='<U7'),\n",
       " array(['bad'], dtype='<U7'),\n",
       " array(['bad'], dtype='<U7'),\n",
       " array(['bad'], dtype='<U7'),\n",
       " array(['bad'], dtype='<U7'),\n",
       " array(['bad'], dtype='<U7'),\n",
       " array(['bad'], dtype='<U7'),\n",
       " array(['bad'], dtype='<U7'),\n",
       " array(['bad'], dtype='<U7'),\n",
       " array(['bad'], dtype='<U7'),\n",
       " array(['bad'], dtype='<U7'),\n",
       " array(['bad'], dtype='<U7'),\n",
       " array(['bad'], dtype='<U7'),\n",
       " array(['bad'], dtype='<U7'),\n",
       " array(['bad'], dtype='<U7'),\n",
       " array(['bad'], dtype='<U7'),\n",
       " array(['bad'], dtype='<U7'),\n",
       " array(['bad'], dtype='<U7'),\n",
       " array(['bad'], dtype='<U7'),\n",
       " array(['bad'], dtype='<U7'),\n",
       " array(['bad'], dtype='<U7'),\n",
       " array(['bad'], dtype='<U7'),\n",
       " array(['bad'], dtype='<U7'),\n",
       " array(['bad'], dtype='<U7'),\n",
       " array(['bad'], dtype='<U7'),\n",
       " array(['bad'], dtype='<U7'),\n",
       " array(['bad'], dtype='<U7'),\n",
       " array(['bad'], dtype='<U7'),\n",
       " array(['bad'], dtype='<U7'),\n",
       " array(['bad'], dtype='<U7'),\n",
       " array(['bad'], dtype='<U7'),\n",
       " array(['bad'], dtype='<U7'),\n",
       " array(['bad'], dtype='<U7'),\n",
       " array(['bad'], dtype='<U7'),\n",
       " array(['bad'], dtype='<U7'),\n",
       " array(['bad'], dtype='<U7'),\n",
       " array(['bad'], dtype='<U7'),\n",
       " array(['bad'], dtype='<U7'),\n",
       " array(['bad'], dtype='<U7'),\n",
       " array(['bad'], dtype='<U7'),\n",
       " array(['bad'], dtype='<U7'),\n",
       " array(['bad'], dtype='<U7'),\n",
       " array(['bad'], dtype='<U7'),\n",
       " array(['bad'], dtype='<U7'),\n",
       " array(['bad'], dtype='<U7'),\n",
       " array(['bad'], dtype='<U7'),\n",
       " array(['bad'], dtype='<U7'),\n",
       " array(['bad'], dtype='<U7'),\n",
       " array(['bad'], dtype='<U7'),\n",
       " array(['bad'], dtype='<U7'),\n",
       " array(['bad'], dtype='<U7'),\n",
       " array(['bad'], dtype='<U7'),\n",
       " array(['bad'], dtype='<U7'),\n",
       " array(['bad'], dtype='<U7'),\n",
       " array(['bad'], dtype='<U7'),\n",
       " array(['bad'], dtype='<U7'),\n",
       " array(['bad'], dtype='<U7'),\n",
       " array(['bad'], dtype='<U7'),\n",
       " array(['bad'], dtype='<U7'),\n",
       " array(['bad'], dtype='<U7'),\n",
       " array(['bad'], dtype='<U7'),\n",
       " array(['bad'], dtype='<U7'),\n",
       " array(['bad'], dtype='<U7'),\n",
       " array(['bad'], dtype='<U7'),\n",
       " array(['bad'], dtype='<U7'),\n",
       " array(['bad'], dtype='<U7'),\n",
       " array(['bad'], dtype='<U7'),\n",
       " array(['bad'], dtype='<U7'),\n",
       " array(['bad'], dtype='<U7'),\n",
       " array(['bad'], dtype='<U7'),\n",
       " array(['bad'], dtype='<U7'),\n",
       " array(['bad'], dtype='<U7'),\n",
       " array(['bad'], dtype='<U7'),\n",
       " array(['bad'], dtype='<U7'),\n",
       " array(['bad'], dtype='<U7'),\n",
       " array(['bad'], dtype='<U7'),\n",
       " array(['bad'], dtype='<U7'),\n",
       " array(['bad'], dtype='<U7'),\n",
       " array(['bad'], dtype='<U7'),\n",
       " array(['bad'], dtype='<U7'),\n",
       " array(['bad'], dtype='<U7'),\n",
       " array(['bad'], dtype='<U7'),\n",
       " array(['bad'], dtype='<U7'),\n",
       " array(['bad'], dtype='<U7'),\n",
       " array(['bad'], dtype='<U7'),\n",
       " array(['bad'], dtype='<U7'),\n",
       " array(['bad'], dtype='<U7'),\n",
       " array(['bad'], dtype='<U7'),\n",
       " array(['bad'], dtype='<U7'),\n",
       " array(['bad'], dtype='<U7'),\n",
       " array(['bad'], dtype='<U7'),\n",
       " array(['bad'], dtype='<U7'),\n",
       " array(['bad'], dtype='<U7'),\n",
       " array(['bad'], dtype='<U7'),\n",
       " array(['bad'], dtype='<U7'),\n",
       " array(['bad'], dtype='<U7'),\n",
       " array(['bad'], dtype='<U7'),\n",
       " array(['bad'], dtype='<U7'),\n",
       " array(['bad'], dtype='<U7'),\n",
       " array(['bad'], dtype='<U7'),\n",
       " array(['bad'], dtype='<U7'),\n",
       " array(['bad'], dtype='<U7'),\n",
       " array(['bad'], dtype='<U7'),\n",
       " array(['bad'], dtype='<U7'),\n",
       " array(['bad'], dtype='<U7'),\n",
       " array(['bad'], dtype='<U7'),\n",
       " array(['bad'], dtype='<U7'),\n",
       " array(['bad'], dtype='<U7'),\n",
       " array(['bad'], dtype='<U7'),\n",
       " array(['bad'], dtype='<U7'),\n",
       " array(['bad'], dtype='<U7'),\n",
       " array(['bad'], dtype='<U7'),\n",
       " array(['bad'], dtype='<U7'),\n",
       " array(['bad'], dtype='<U7'),\n",
       " array(['bad'], dtype='<U7'),\n",
       " array(['bad'], dtype='<U7'),\n",
       " array(['bad'], dtype='<U7'),\n",
       " array(['bad'], dtype='<U7'),\n",
       " array(['bad'], dtype='<U7'),\n",
       " array(['bad'], dtype='<U7'),\n",
       " array(['bad'], dtype='<U7'),\n",
       " array(['bad'], dtype='<U7'),\n",
       " array(['bad'], dtype='<U7'),\n",
       " array(['bad'], dtype='<U7'),\n",
       " array(['bad'], dtype='<U7'),\n",
       " array(['bad'], dtype='<U7'),\n",
       " array(['bad'], dtype='<U7'),\n",
       " array(['bad'], dtype='<U7'),\n",
       " array(['bad'], dtype='<U7'),\n",
       " array(['bad'], dtype='<U7'),\n",
       " array(['bad'], dtype='<U7'),\n",
       " array(['bad'], dtype='<U7'),\n",
       " array(['bad'], dtype='<U7'),\n",
       " array(['bad'], dtype='<U7'),\n",
       " array(['bad'], dtype='<U7'),\n",
       " array(['bad'], dtype='<U7'),\n",
       " array(['bad'], dtype='<U7'),\n",
       " array(['bad'], dtype='<U7'),\n",
       " array(['bad'], dtype='<U7'),\n",
       " array(['bad'], dtype='<U7'),\n",
       " array(['bad'], dtype='<U7'),\n",
       " array(['bad'], dtype='<U7'),\n",
       " array(['bad'], dtype='<U7'),\n",
       " array(['bad'], dtype='<U7'),\n",
       " array(['bad'], dtype='<U7'),\n",
       " array(['bad'], dtype='<U7'),\n",
       " array(['bad'], dtype='<U7'),\n",
       " array(['bad'], dtype='<U7'),\n",
       " array(['bad'], dtype='<U7'),\n",
       " array(['bad'], dtype='<U7'),\n",
       " array(['bad'], dtype='<U7'),\n",
       " array(['bad'], dtype='<U7'),\n",
       " array(['bad'], dtype='<U7'),\n",
       " array(['bad'], dtype='<U7'),\n",
       " array(['bad'], dtype='<U7'),\n",
       " array(['bad'], dtype='<U7'),\n",
       " array(['bad'], dtype='<U7'),\n",
       " array(['bad'], dtype='<U7'),\n",
       " array(['bad'], dtype='<U7'),\n",
       " array(['bad'], dtype='<U7'),\n",
       " array(['bad'], dtype='<U7'),\n",
       " array(['bad'], dtype='<U7'),\n",
       " array(['bad'], dtype='<U7'),\n",
       " array(['bad'], dtype='<U7'),\n",
       " array(['bad'], dtype='<U7'),\n",
       " array(['bad'], dtype='<U7'),\n",
       " array(['bad'], dtype='<U7'),\n",
       " array(['bad'], dtype='<U7'),\n",
       " array(['bad'], dtype='<U7'),\n",
       " array(['bad'], dtype='<U7'),\n",
       " array(['bad'], dtype='<U7'),\n",
       " array(['bad'], dtype='<U7'),\n",
       " array(['bad'], dtype='<U7'),\n",
       " array(['bad'], dtype='<U7'),\n",
       " array(['bad'], dtype='<U7'),\n",
       " array(['bad'], dtype='<U7'),\n",
       " array(['bad'], dtype='<U7'),\n",
       " array(['bad'], dtype='<U7'),\n",
       " array(['bad'], dtype='<U7'),\n",
       " array(['bad'], dtype='<U7'),\n",
       " array(['bad'], dtype='<U7'),\n",
       " array(['bad'], dtype='<U7'),\n",
       " array(['bad'], dtype='<U7'),\n",
       " array(['bad'], dtype='<U7'),\n",
       " array(['bad'], dtype='<U7'),\n",
       " array(['bad'], dtype='<U7'),\n",
       " array(['bad'], dtype='<U7'),\n",
       " array(['bad'], dtype='<U7'),\n",
       " array(['bad'], dtype='<U7'),\n",
       " array(['bad'], dtype='<U7'),\n",
       " array(['bad'], dtype='<U7'),\n",
       " array(['bad'], dtype='<U7'),\n",
       " array(['bad'], dtype='<U7'),\n",
       " array(['bad'], dtype='<U7'),\n",
       " array(['bad'], dtype='<U7'),\n",
       " array(['bad'], dtype='<U7'),\n",
       " array(['bad'], dtype='<U7'),\n",
       " array(['bad'], dtype='<U7'),\n",
       " array(['bad'], dtype='<U7'),\n",
       " array(['bad'], dtype='<U7'),\n",
       " array(['bad'], dtype='<U7'),\n",
       " array(['bad'], dtype='<U7'),\n",
       " array(['bad'], dtype='<U7'),\n",
       " array(['bad'], dtype='<U7'),\n",
       " array(['bad'], dtype='<U7'),\n",
       " array(['bad'], dtype='<U7'),\n",
       " array(['bad'], dtype='<U7'),\n",
       " array(['bad'], dtype='<U7'),\n",
       " array(['bad'], dtype='<U7'),\n",
       " array(['bad'], dtype='<U7'),\n",
       " array(['bad'], dtype='<U7'),\n",
       " array(['bad'], dtype='<U7'),\n",
       " array(['bad'], dtype='<U7'),\n",
       " array(['bad'], dtype='<U7'),\n",
       " array(['bad'], dtype='<U7'),\n",
       " array(['bad'], dtype='<U7'),\n",
       " array(['bad'], dtype='<U7'),\n",
       " array(['bad'], dtype='<U7'),\n",
       " array(['bad'], dtype='<U7'),\n",
       " array(['bad'], dtype='<U7'),\n",
       " array(['bad'], dtype='<U7'),\n",
       " array(['bad'], dtype='<U7'),\n",
       " array(['bad'], dtype='<U7'),\n",
       " array(['bad'], dtype='<U7'),\n",
       " array(['bad'], dtype='<U7'),\n",
       " array(['bad'], dtype='<U7'),\n",
       " array(['bad'], dtype='<U7'),\n",
       " array(['bad'], dtype='<U7'),\n",
       " array(['bad'], dtype='<U7'),\n",
       " array(['bad'], dtype='<U7'),\n",
       " array(['bad'], dtype='<U7'),\n",
       " array(['bad'], dtype='<U7'),\n",
       " array(['bad'], dtype='<U7'),\n",
       " array(['bad'], dtype='<U7'),\n",
       " array(['bad'], dtype='<U7'),\n",
       " array(['bad'], dtype='<U7'),\n",
       " array(['bad'], dtype='<U7'),\n",
       " array(['bad'], dtype='<U7'),\n",
       " array(['bad'], dtype='<U7'),\n",
       " array(['bad'], dtype='<U7'),\n",
       " array(['bad'], dtype='<U7'),\n",
       " array(['bad'], dtype='<U7'),\n",
       " array(['bad'], dtype='<U7'),\n",
       " array(['bad'], dtype='<U7'),\n",
       " array(['bad'], dtype='<U7'),\n",
       " array(['bad'], dtype='<U7'),\n",
       " array(['bad'], dtype='<U7'),\n",
       " array(['bad'], dtype='<U7'),\n",
       " array(['bad'], dtype='<U7'),\n",
       " array(['bad'], dtype='<U7'),\n",
       " array(['bad'], dtype='<U7'),\n",
       " array(['bad'], dtype='<U7'),\n",
       " array(['bad'], dtype='<U7'),\n",
       " array(['bad'], dtype='<U7'),\n",
       " array(['bad'], dtype='<U7'),\n",
       " array(['bad'], dtype='<U7'),\n",
       " array(['bad'], dtype='<U7'),\n",
       " array(['bad'], dtype='<U7'),\n",
       " array(['bad'], dtype='<U7'),\n",
       " array(['bad'], dtype='<U7'),\n",
       " array(['bad'], dtype='<U7'),\n",
       " array(['bad'], dtype='<U7'),\n",
       " array(['bad'], dtype='<U7'),\n",
       " array(['bad'], dtype='<U7'),\n",
       " array(['bad'], dtype='<U7'),\n",
       " array(['bad'], dtype='<U7'),\n",
       " array(['bad'], dtype='<U7'),\n",
       " array(['bad'], dtype='<U7'),\n",
       " array(['bad'], dtype='<U7'),\n",
       " array(['bad'], dtype='<U7'),\n",
       " array(['bad'], dtype='<U7'),\n",
       " array(['bad'], dtype='<U7'),\n",
       " array(['bad'], dtype='<U7'),\n",
       " array(['bad'], dtype='<U7'),\n",
       " array(['bad'], dtype='<U7'),\n",
       " array(['bad'], dtype='<U7'),\n",
       " array(['bad'], dtype='<U7'),\n",
       " array(['bad'], dtype='<U7'),\n",
       " array(['bad'], dtype='<U7'),\n",
       " array(['bad'], dtype='<U7'),\n",
       " array(['bad'], dtype='<U7'),\n",
       " array(['bad'], dtype='<U7'),\n",
       " array(['bad'], dtype='<U7'),\n",
       " array(['bad'], dtype='<U7'),\n",
       " array(['bad'], dtype='<U7'),\n",
       " array(['bad'], dtype='<U7'),\n",
       " array(['bad'], dtype='<U7'),\n",
       " array(['bad'], dtype='<U7'),\n",
       " array(['bad'], dtype='<U7'),\n",
       " array(['bad'], dtype='<U7'),\n",
       " array(['bad'], dtype='<U7'),\n",
       " array(['bad'], dtype='<U7'),\n",
       " array(['bad'], dtype='<U7'),\n",
       " array(['bad'], dtype='<U7'),\n",
       " array(['bad'], dtype='<U7'),\n",
       " array(['bad'], dtype='<U7'),\n",
       " array(['bad'], dtype='<U7'),\n",
       " array(['bad'], dtype='<U7'),\n",
       " array(['bad'], dtype='<U7'),\n",
       " array(['bad'], dtype='<U7'),\n",
       " array(['bad'], dtype='<U7'),\n",
       " array(['bad'], dtype='<U7'),\n",
       " array(['bad'], dtype='<U7'),\n",
       " array(['bad'], dtype='<U7'),\n",
       " array(['bad'], dtype='<U7'),\n",
       " array(['bad'], dtype='<U7'),\n",
       " array(['bad'], dtype='<U7'),\n",
       " array(['bad'], dtype='<U7'),\n",
       " array(['bad'], dtype='<U7'),\n",
       " array(['bad'], dtype='<U7'),\n",
       " array(['bad'], dtype='<U7'),\n",
       " array(['bad'], dtype='<U7'),\n",
       " array(['bad'], dtype='<U7'),\n",
       " array(['bad'], dtype='<U7'),\n",
       " array(['bad'], dtype='<U7'),\n",
       " array(['bad'], dtype='<U7'),\n",
       " array(['bad'], dtype='<U7'),\n",
       " array(['bad'], dtype='<U7'),\n",
       " array(['bad'], dtype='<U7'),\n",
       " array(['bad'], dtype='<U7'),\n",
       " array(['bad'], dtype='<U7'),\n",
       " array(['bad'], dtype='<U7'),\n",
       " array(['bad'], dtype='<U7'),\n",
       " array(['bad'], dtype='<U7'),\n",
       " array(['bad'], dtype='<U7'),\n",
       " array(['bad'], dtype='<U7'),\n",
       " array(['bad'], dtype='<U7'),\n",
       " array(['bad'], dtype='<U7'),\n",
       " array(['bad'], dtype='<U7'),\n",
       " array(['bad'], dtype='<U7'),\n",
       " array(['bad'], dtype='<U7'),\n",
       " array(['bad'], dtype='<U7'),\n",
       " array(['bad'], dtype='<U7'),\n",
       " array(['bad'], dtype='<U7'),\n",
       " array(['bad'], dtype='<U7'),\n",
       " array(['bad'], dtype='<U7'),\n",
       " array(['bad'], dtype='<U7'),\n",
       " array(['bad'], dtype='<U7'),\n",
       " array(['bad'], dtype='<U7'),\n",
       " array(['bad'], dtype='<U7'),\n",
       " array(['bad'], dtype='<U7'),\n",
       " array(['bad'], dtype='<U7'),\n",
       " array(['bad'], dtype='<U7'),\n",
       " array(['bad'], dtype='<U7'),\n",
       " array(['bad'], dtype='<U7'),\n",
       " array(['bad'], dtype='<U7'),\n",
       " array(['bad'], dtype='<U7'),\n",
       " array(['bad'], dtype='<U7'),\n",
       " array(['bad'], dtype='<U7'),\n",
       " array(['bad'], dtype='<U7'),\n",
       " array(['bad'], dtype='<U7'),\n",
       " array(['bad'], dtype='<U7'),\n",
       " array(['bad'], dtype='<U7'),\n",
       " array(['bad'], dtype='<U7'),\n",
       " array(['bad'], dtype='<U7'),\n",
       " array(['bad'], dtype='<U7'),\n",
       " array(['bad'], dtype='<U7'),\n",
       " array(['bad'], dtype='<U7'),\n",
       " array(['bad'], dtype='<U7'),\n",
       " array(['bad'], dtype='<U7'),\n",
       " array(['bad'], dtype='<U7'),\n",
       " array(['bad'], dtype='<U7'),\n",
       " array(['bad'], dtype='<U7'),\n",
       " array(['bad'], dtype='<U7'),\n",
       " array(['bad'], dtype='<U7'),\n",
       " array(['bad'], dtype='<U7'),\n",
       " array(['bad'], dtype='<U7'),\n",
       " array(['bad'], dtype='<U7'),\n",
       " array(['bad'], dtype='<U7'),\n",
       " array(['bad'], dtype='<U7'),\n",
       " array(['bad'], dtype='<U7'),\n",
       " array(['bad'], dtype='<U7'),\n",
       " array(['bad'], dtype='<U7'),\n",
       " array(['bad'], dtype='<U7'),\n",
       " array(['bad'], dtype='<U7'),\n",
       " array(['bad'], dtype='<U7'),\n",
       " array(['bad'], dtype='<U7'),\n",
       " array(['bad'], dtype='<U7'),\n",
       " array(['bad'], dtype='<U7'),\n",
       " array(['bad'], dtype='<U7'),\n",
       " array(['bad'], dtype='<U7'),\n",
       " array(['bad'], dtype='<U7'),\n",
       " array(['bad'], dtype='<U7'),\n",
       " array(['bad'], dtype='<U7'),\n",
       " array(['bad'], dtype='<U7'),\n",
       " array(['bad'], dtype='<U7'),\n",
       " array(['bad'], dtype='<U7'),\n",
       " array(['bad'], dtype='<U7'),\n",
       " array(['bad'], dtype='<U7'),\n",
       " array(['bad'], dtype='<U7'),\n",
       " array(['bad'], dtype='<U7'),\n",
       " array(['bad'], dtype='<U7'),\n",
       " array(['bad'], dtype='<U7'),\n",
       " array(['bad'], dtype='<U7'),\n",
       " array(['bad'], dtype='<U7'),\n",
       " array(['bad'], dtype='<U7'),\n",
       " array(['bad'], dtype='<U7'),\n",
       " array(['bad'], dtype='<U7'),\n",
       " array(['bad'], dtype='<U7'),\n",
       " array(['bad'], dtype='<U7'),\n",
       " array(['bad'], dtype='<U7'),\n",
       " array(['bad'], dtype='<U7'),\n",
       " array(['bad'], dtype='<U7'),\n",
       " array(['bad'], dtype='<U7'),\n",
       " array(['bad'], dtype='<U7'),\n",
       " array(['bad'], dtype='<U7'),\n",
       " array(['bad'], dtype='<U7'),\n",
       " array(['bad'], dtype='<U7'),\n",
       " array(['bad'], dtype='<U7'),\n",
       " array(['bad'], dtype='<U7'),\n",
       " array(['bad'], dtype='<U7'),\n",
       " array(['bad'], dtype='<U7'),\n",
       " array(['bad'], dtype='<U7'),\n",
       " array(['bad'], dtype='<U7'),\n",
       " array(['bad'], dtype='<U7'),\n",
       " array(['bad'], dtype='<U7'),\n",
       " array(['bad'], dtype='<U7'),\n",
       " array(['bad'], dtype='<U7'),\n",
       " array(['bad'], dtype='<U7'),\n",
       " array(['bad'], dtype='<U7'),\n",
       " array(['bad'], dtype='<U7'),\n",
       " array(['bad'], dtype='<U7'),\n",
       " array(['bad'], dtype='<U7'),\n",
       " array(['bad'], dtype='<U7'),\n",
       " array(['bad'], dtype='<U7'),\n",
       " array(['bad'], dtype='<U7'),\n",
       " array(['bad'], dtype='<U7'),\n",
       " array(['bad'], dtype='<U7'),\n",
       " array(['bad'], dtype='<U7'),\n",
       " array(['bad'], dtype='<U7'),\n",
       " array(['bad'], dtype='<U7'),\n",
       " array(['bad'], dtype='<U7'),\n",
       " array(['bad'], dtype='<U7'),\n",
       " array(['bad'], dtype='<U7'),\n",
       " array(['bad'], dtype='<U7'),\n",
       " array(['bad'], dtype='<U7'),\n",
       " array(['bad'], dtype='<U7'),\n",
       " array(['bad'], dtype='<U7'),\n",
       " array(['bad'], dtype='<U7'),\n",
       " array(['bad'], dtype='<U7'),\n",
       " array(['bad'], dtype='<U7'),\n",
       " array(['bad'], dtype='<U7'),\n",
       " array(['bad'], dtype='<U7'),\n",
       " array(['bad'], dtype='<U7'),\n",
       " array(['bad'], dtype='<U7'),\n",
       " array(['bad'], dtype='<U7'),\n",
       " array(['bad'], dtype='<U7'),\n",
       " array(['bad'], dtype='<U7'),\n",
       " array(['bad'], dtype='<U7'),\n",
       " array(['bad'], dtype='<U7'),\n",
       " array(['bad'], dtype='<U7'),\n",
       " array(['bad'], dtype='<U7'),\n",
       " array(['bad'], dtype='<U7'),\n",
       " array(['bad'], dtype='<U7'),\n",
       " array(['bad'], dtype='<U7'),\n",
       " array(['bad'], dtype='<U7'),\n",
       " array(['bad'], dtype='<U7'),\n",
       " array(['bad'], dtype='<U7'),\n",
       " array(['bad'], dtype='<U7'),\n",
       " array(['bad'], dtype='<U7'),\n",
       " array(['bad'], dtype='<U7'),\n",
       " array(['bad'], dtype='<U7'),\n",
       " array(['bad'], dtype='<U7'),\n",
       " array(['bad'], dtype='<U7'),\n",
       " array(['bad'], dtype='<U7'),\n",
       " array(['bad'], dtype='<U7'),\n",
       " array(['bad'], dtype='<U7'),\n",
       " ...]"
      ]
     },
     "execution_count": 215,
     "metadata": {},
     "output_type": "execute_result"
    }
   ],
   "source": [
    "classification_EU"
   ]
  },
  {
   "cell_type": "code",
   "execution_count": null,
   "metadata": {},
   "outputs": [],
   "source": [
    "pd.DataFrame([classification_US,classification_EU],index=['US','EU']).T"
   ]
  },
  {
   "cell_type": "code",
   "execution_count": null,
   "metadata": {},
   "outputs": [],
   "source": [
    "import torch"
   ]
  },
  {
   "cell_type": "code",
   "execution_count": null,
   "metadata": {},
   "outputs": [],
   "source": [
    "import transformers as ppb"
   ]
  },
  {
   "cell_type": "markdown",
   "metadata": {},
   "source": [
    "# Neural Networks"
   ]
  },
  {
   "cell_type": "code",
   "execution_count": null,
   "metadata": {},
   "outputs": [],
   "source": [
    "import gensim\n",
    "\n",
    "word2vec_path = \"GoogleNews-vectors-negative300.bin.gz\"\n",
    "word2vec = gensim.models.KeyedVectors.load_word2vec_format(word2vec_path, binary=True)\n",
    "\n",
    "def get_average_word2vec(tokens_list, vector, generate_missing=False, k=300):\n",
    "    if len(tokens_list)<1:\n",
    "        return np.zeros(k)\n",
    "    if generate_missing:\n",
    "        vectorized = [vector[word] if word in vector else np.random.rand(k) for word in tokens_list]\n",
    "    else:\n",
    "        vectorized = [vector[word] if word in vector else np.zeros(k) for word in tokens_list]\n",
    "    length = len(vectorized)\n",
    "    summed = np.sum(vectorized, axis=0)\n",
    "    averaged = np.divide(summed, length)\n",
    "    return averaged\n",
    "\n",
    "def get_word2vec_embeddings(vectors, clean_questions, generate_missing=False):\n",
    "    embeddings = clean_questions['tokens'].apply(lambda x: get_average_word2vec(x, vectors, \n",
    "                                                                                generate_missing=generate_missing))\n",
    "    return list(embeddings)\n",
    "\n",
    "embeddings = get_word2vec_embeddings(word2vec, clean_questions)\n",
    "X_train_word2vec, X_test_word2vec, y_train_word2vec, y_test_word2vec = train_test_split(embeddings, list_labels, \n",
    "                                                                                        test_size=0.2, random_state=40)\n",
    "\n",
    "fig = plt.figure(figsize=(16, 16))          \n",
    "plot_LSA(embeddings, list_labels)\n",
    "plt.show()\n",
    "\n"
   ]
  },
  {
   "cell_type": "code",
   "execution_count": 120,
   "metadata": {},
   "outputs": [],
   "source": [
    "a = {1:'a'}"
   ]
  },
  {
   "cell_type": "code",
   "execution_count": 121,
   "metadata": {},
   "outputs": [],
   "source": [
    "b = a"
   ]
  },
  {
   "cell_type": "code",
   "execution_count": 122,
   "metadata": {},
   "outputs": [],
   "source": [
    "c = []"
   ]
  },
  {
   "cell_type": "code",
   "execution_count": 123,
   "metadata": {},
   "outputs": [],
   "source": [
    "c.append(a)"
   ]
  },
  {
   "cell_type": "code",
   "execution_count": 125,
   "metadata": {},
   "outputs": [],
   "source": [
    "c.append(b)"
   ]
  },
  {
   "cell_type": "code",
   "execution_count": 126,
   "metadata": {},
   "outputs": [
    {
     "data": {
      "text/plain": [
       "[{1: 'a'}, {1: 'a'}]"
      ]
     },
     "execution_count": 126,
     "metadata": {},
     "output_type": "execute_result"
    }
   ],
   "source": [
    "c"
   ]
  },
  {
   "cell_type": "code",
   "execution_count": 128,
   "metadata": {},
   "outputs": [
    {
     "ename": "AttributeError",
     "evalue": "'list' object has no attribute 'a'",
     "output_type": "error",
     "traceback": [
      "\u001b[0;31m---------------------------------------------------------------------------\u001b[0m",
      "\u001b[0;31mAttributeError\u001b[0m                            Traceback (most recent call last)",
      "\u001b[0;32m<ipython-input-128-4810b6c5c2c6>\u001b[0m in \u001b[0;36m<module>\u001b[0;34m\u001b[0m\n\u001b[0;32m----> 1\u001b[0;31m \u001b[0mc\u001b[0m\u001b[0;34m.\u001b[0m\u001b[0ma\u001b[0m\u001b[0;34m\u001b[0m\u001b[0;34m\u001b[0m\u001b[0m\n\u001b[0m",
      "\u001b[0;31mAttributeError\u001b[0m: 'list' object has no attribute 'a'"
     ]
    }
   ],
   "source": []
  }
 ],
 "metadata": {
  "kernelspec": {
   "display_name": "Python 3",
   "language": "python",
   "name": "python3"
  },
  "language_info": {
   "codemirror_mode": {
    "name": "ipython",
    "version": 3
   },
   "file_extension": ".py",
   "mimetype": "text/x-python",
   "name": "python",
   "nbconvert_exporter": "python",
   "pygments_lexer": "ipython3",
   "version": "3.7.6"
  }
 },
 "nbformat": 4,
 "nbformat_minor": 2
}
